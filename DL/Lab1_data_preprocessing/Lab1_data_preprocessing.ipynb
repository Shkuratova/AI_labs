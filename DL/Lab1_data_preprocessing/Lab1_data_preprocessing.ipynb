{
 "cells": [
  {
   "cell_type": "markdown",
   "id": "d26b6037",
   "metadata": {},
   "source": [
    "#### **Лабораторная №1. Отбор признаков**\n",
    "Шкуратова Д.В. Группа: Б9122-01.03.02мкт"
   ]
  },
  {
   "cell_type": "markdown",
   "id": "3d3f5661",
   "metadata": {},
   "source": [
    "## Import"
   ]
  },
  {
   "cell_type": "code",
   "execution_count": 1,
   "id": "398358f6",
   "metadata": {},
   "outputs": [],
   "source": [
    "import pandas as pd \n",
    "import seaborn as sns \n",
    "import matplotlib.pyplot as plt \n",
    "from IPython.display import display"
   ]
  },
  {
   "cell_type": "code",
   "execution_count": 32,
   "id": "e99dcbc6",
   "metadata": {},
   "outputs": [],
   "source": [
    "from sklearn.model_selection import train_test_split\n",
    "from sklearn.tree import DecisionTreeRegressor\n",
    "from sklearn.linear_model import LinearRegression\n",
    "from sklearn.metrics import mean_absolute_error, mean_squared_error, r2_score"
   ]
  },
  {
   "cell_type": "code",
   "execution_count": 33,
   "id": "075a08a2",
   "metadata": {},
   "outputs": [],
   "source": [
    "from itertools import combinations"
   ]
  },
  {
   "cell_type": "markdown",
   "id": "5a4ab61e",
   "metadata": {},
   "source": [
    "## Dataset\n",
    "Датасет взят с сайта [hugginface](https://huggingface.co/datasets/mnemoraorg/calorie-burnt-15k)\n",
    "\n",
    "**(raw_exercise.csv):**\n",
    "- User_ID: Уникальный id человека\n",
    "- Gender: пол\n",
    "- Age: Возраст\n",
    "- Height: Рост в см\n",
    "- Weight: Вес в кг\n",
    "- Duration: Продолжительность тренировки в минутах\n",
    "- Heart_Rate: Пулльс удар./с \n",
    "- Body_Temp: Температура тела, измеренная во время или после тренеровки в $^oC$.\n",
    "\n",
    "**(raw_calories.csv):**\n",
    "\n",
    "- User_ID: ref user_id.\n",
    "- Calories: потраченные калории за тренировку"
   ]
  },
  {
   "cell_type": "code",
   "execution_count": 34,
   "id": "c0d8ca16",
   "metadata": {},
   "outputs": [
    {
     "data": {
      "application/vnd.microsoft.datawrangler.viewer.v0+json": {
       "columns": [
        {
         "name": "index",
         "rawType": "int64",
         "type": "integer"
        },
        {
         "name": "User_ID",
         "rawType": "int64",
         "type": "integer"
        },
        {
         "name": "Gender",
         "rawType": "object",
         "type": "string"
        },
        {
         "name": "Age",
         "rawType": "int64",
         "type": "integer"
        },
        {
         "name": "Height",
         "rawType": "float64",
         "type": "float"
        },
        {
         "name": "Weight",
         "rawType": "float64",
         "type": "float"
        },
        {
         "name": "Duration",
         "rawType": "float64",
         "type": "float"
        },
        {
         "name": "Heart_Rate",
         "rawType": "float64",
         "type": "float"
        },
        {
         "name": "Body_Temp",
         "rawType": "float64",
         "type": "float"
        },
        {
         "name": "Calories",
         "rawType": "float64",
         "type": "float"
        }
       ],
       "ref": "cc461409-b2a0-43f3-9847-70aa45963118",
       "rows": [
        [
         "0",
         "14733363",
         "male",
         "68",
         "190.0",
         "94.0",
         "29.0",
         "105.0",
         "40.8",
         "231.0"
        ],
        [
         "1",
         "14861698",
         "female",
         "20",
         "166.0",
         "60.0",
         "14.0",
         "94.0",
         "40.3",
         "66.0"
        ],
        [
         "2",
         "11179863",
         "male",
         "69",
         "179.0",
         "79.0",
         "5.0",
         "88.0",
         "38.7",
         "26.0"
        ],
        [
         "3",
         "16180408",
         "female",
         "34",
         "179.0",
         "71.0",
         "13.0",
         "100.0",
         "40.5",
         "71.0"
        ],
        [
         "4",
         "17771927",
         "female",
         "27",
         "154.0",
         "58.0",
         "10.0",
         "81.0",
         "39.8",
         "35.0"
        ]
       ],
       "shape": {
        "columns": 9,
        "rows": 5
       }
      },
      "text/html": [
       "<div>\n",
       "<style scoped>\n",
       "    .dataframe tbody tr th:only-of-type {\n",
       "        vertical-align: middle;\n",
       "    }\n",
       "\n",
       "    .dataframe tbody tr th {\n",
       "        vertical-align: top;\n",
       "    }\n",
       "\n",
       "    .dataframe thead th {\n",
       "        text-align: right;\n",
       "    }\n",
       "</style>\n",
       "<table border=\"1\" class=\"dataframe\">\n",
       "  <thead>\n",
       "    <tr style=\"text-align: right;\">\n",
       "      <th></th>\n",
       "      <th>User_ID</th>\n",
       "      <th>Gender</th>\n",
       "      <th>Age</th>\n",
       "      <th>Height</th>\n",
       "      <th>Weight</th>\n",
       "      <th>Duration</th>\n",
       "      <th>Heart_Rate</th>\n",
       "      <th>Body_Temp</th>\n",
       "      <th>Calories</th>\n",
       "    </tr>\n",
       "  </thead>\n",
       "  <tbody>\n",
       "    <tr>\n",
       "      <th>0</th>\n",
       "      <td>14733363</td>\n",
       "      <td>male</td>\n",
       "      <td>68</td>\n",
       "      <td>190.0</td>\n",
       "      <td>94.0</td>\n",
       "      <td>29.0</td>\n",
       "      <td>105.0</td>\n",
       "      <td>40.8</td>\n",
       "      <td>231.0</td>\n",
       "    </tr>\n",
       "    <tr>\n",
       "      <th>1</th>\n",
       "      <td>14861698</td>\n",
       "      <td>female</td>\n",
       "      <td>20</td>\n",
       "      <td>166.0</td>\n",
       "      <td>60.0</td>\n",
       "      <td>14.0</td>\n",
       "      <td>94.0</td>\n",
       "      <td>40.3</td>\n",
       "      <td>66.0</td>\n",
       "    </tr>\n",
       "    <tr>\n",
       "      <th>2</th>\n",
       "      <td>11179863</td>\n",
       "      <td>male</td>\n",
       "      <td>69</td>\n",
       "      <td>179.0</td>\n",
       "      <td>79.0</td>\n",
       "      <td>5.0</td>\n",
       "      <td>88.0</td>\n",
       "      <td>38.7</td>\n",
       "      <td>26.0</td>\n",
       "    </tr>\n",
       "    <tr>\n",
       "      <th>3</th>\n",
       "      <td>16180408</td>\n",
       "      <td>female</td>\n",
       "      <td>34</td>\n",
       "      <td>179.0</td>\n",
       "      <td>71.0</td>\n",
       "      <td>13.0</td>\n",
       "      <td>100.0</td>\n",
       "      <td>40.5</td>\n",
       "      <td>71.0</td>\n",
       "    </tr>\n",
       "    <tr>\n",
       "      <th>4</th>\n",
       "      <td>17771927</td>\n",
       "      <td>female</td>\n",
       "      <td>27</td>\n",
       "      <td>154.0</td>\n",
       "      <td>58.0</td>\n",
       "      <td>10.0</td>\n",
       "      <td>81.0</td>\n",
       "      <td>39.8</td>\n",
       "      <td>35.0</td>\n",
       "    </tr>\n",
       "  </tbody>\n",
       "</table>\n",
       "</div>"
      ],
      "text/plain": [
       "    User_ID  Gender  Age  Height  Weight  Duration  Heart_Rate  Body_Temp  \\\n",
       "0  14733363    male   68   190.0    94.0      29.0       105.0       40.8   \n",
       "1  14861698  female   20   166.0    60.0      14.0        94.0       40.3   \n",
       "2  11179863    male   69   179.0    79.0       5.0        88.0       38.7   \n",
       "3  16180408  female   34   179.0    71.0      13.0       100.0       40.5   \n",
       "4  17771927  female   27   154.0    58.0      10.0        81.0       39.8   \n",
       "\n",
       "   Calories  \n",
       "0     231.0  \n",
       "1      66.0  \n",
       "2      26.0  \n",
       "3      71.0  \n",
       "4      35.0  "
      ]
     },
     "execution_count": 34,
     "metadata": {},
     "output_type": "execute_result"
    }
   ],
   "source": [
    "df_ex = pd.read_csv(\"hf://datasets/mnemoraorg/calorie-burnt-15k/raw_exercise.csv\")\n",
    "df_cal = pd.read_csv(\"hf://datasets/mnemoraorg/calorie-burnt-15k/raw_calories.csv\")\n",
    "df = df_ex.merge(df_cal, on='User_ID')\n",
    "df.head()"
   ]
  },
  {
   "cell_type": "markdown",
   "id": "435cd1f3",
   "metadata": {},
   "source": [
    "## Статистика"
   ]
  },
  {
   "cell_type": "markdown",
   "id": "67ce9506",
   "metadata": {},
   "source": [
    "#### Пропуски"
   ]
  },
  {
   "cell_type": "code",
   "execution_count": 35,
   "id": "e52e550b",
   "metadata": {},
   "outputs": [
    {
     "data": {
      "application/vnd.microsoft.datawrangler.viewer.v0+json": {
       "columns": [
        {
         "name": "index",
         "rawType": "object",
         "type": "string"
        },
        {
         "name": "0",
         "rawType": "int64",
         "type": "integer"
        }
       ],
       "ref": "d5373529-7a04-459d-8a28-561d21c1c7cd",
       "rows": [
        [
         "User_ID",
         "0"
        ],
        [
         "Gender",
         "0"
        ],
        [
         "Age",
         "0"
        ],
        [
         "Height",
         "0"
        ],
        [
         "Weight",
         "0"
        ],
        [
         "Duration",
         "0"
        ],
        [
         "Heart_Rate",
         "0"
        ],
        [
         "Body_Temp",
         "0"
        ],
        [
         "Calories",
         "0"
        ]
       ],
       "shape": {
        "columns": 1,
        "rows": 9
       }
      },
      "text/plain": [
       "User_ID       0\n",
       "Gender        0\n",
       "Age           0\n",
       "Height        0\n",
       "Weight        0\n",
       "Duration      0\n",
       "Heart_Rate    0\n",
       "Body_Temp     0\n",
       "Calories      0\n",
       "dtype: int64"
      ]
     },
     "execution_count": 35,
     "metadata": {},
     "output_type": "execute_result"
    }
   ],
   "source": [
    "df.isna().sum().sort_values(ascending=False)"
   ]
  },
  {
   "cell_type": "code",
   "execution_count": 36,
   "id": "1cfcdfbb",
   "metadata": {},
   "outputs": [
    {
     "data": {
      "application/vnd.microsoft.datawrangler.viewer.v0+json": {
       "columns": [
        {
         "name": "index",
         "rawType": "object",
         "type": "string"
        },
        {
         "name": "User_ID",
         "rawType": "float64",
         "type": "float"
        },
        {
         "name": "Age",
         "rawType": "float64",
         "type": "float"
        },
        {
         "name": "Height",
         "rawType": "float64",
         "type": "float"
        },
        {
         "name": "Weight",
         "rawType": "float64",
         "type": "float"
        },
        {
         "name": "Duration",
         "rawType": "float64",
         "type": "float"
        },
        {
         "name": "Heart_Rate",
         "rawType": "float64",
         "type": "float"
        },
        {
         "name": "Body_Temp",
         "rawType": "float64",
         "type": "float"
        },
        {
         "name": "Calories",
         "rawType": "float64",
         "type": "float"
        }
       ],
       "ref": "22e23742-d635-4735-bc61-d4a9938fd3ad",
       "rows": [
        [
         "count",
         "15000.0",
         "15000.0",
         "15000.0",
         "15000.0",
         "15000.0",
         "15000.0",
         "15000.0",
         "15000.0"
        ],
        [
         "mean",
         "14977358.538466666",
         "42.7898",
         "174.46513333333334",
         "74.96686666666666",
         "15.5306",
         "95.51853333333334",
         "40.02545333333334",
         "89.53953333333334"
        ],
        [
         "std",
         "2872851.4522327",
         "16.98026416907042",
         "14.258113616551187",
         "15.035656739246907",
         "8.319203342244775",
         "9.583328189839294",
         "0.7792299239893948",
         "62.45697795593845"
        ],
        [
         "min",
         "10001159.0",
         "20.0",
         "123.0",
         "36.0",
         "1.0",
         "67.0",
         "37.1",
         "1.0"
        ],
        [
         "25%",
         "12474190.75",
         "28.0",
         "164.0",
         "63.0",
         "8.0",
         "88.0",
         "39.6",
         "35.0"
        ],
        [
         "50%",
         "14997285.0",
         "39.0",
         "175.0",
         "74.0",
         "16.0",
         "96.0",
         "40.2",
         "79.0"
        ],
        [
         "75%",
         "17449278.75",
         "56.0",
         "185.0",
         "87.0",
         "23.0",
         "103.0",
         "40.6",
         "138.0"
        ],
        [
         "max",
         "19999647.0",
         "79.0",
         "222.0",
         "132.0",
         "30.0",
         "128.0",
         "41.5",
         "314.0"
        ]
       ],
       "shape": {
        "columns": 8,
        "rows": 8
       }
      },
      "text/html": [
       "<div>\n",
       "<style scoped>\n",
       "    .dataframe tbody tr th:only-of-type {\n",
       "        vertical-align: middle;\n",
       "    }\n",
       "\n",
       "    .dataframe tbody tr th {\n",
       "        vertical-align: top;\n",
       "    }\n",
       "\n",
       "    .dataframe thead th {\n",
       "        text-align: right;\n",
       "    }\n",
       "</style>\n",
       "<table border=\"1\" class=\"dataframe\">\n",
       "  <thead>\n",
       "    <tr style=\"text-align: right;\">\n",
       "      <th></th>\n",
       "      <th>User_ID</th>\n",
       "      <th>Age</th>\n",
       "      <th>Height</th>\n",
       "      <th>Weight</th>\n",
       "      <th>Duration</th>\n",
       "      <th>Heart_Rate</th>\n",
       "      <th>Body_Temp</th>\n",
       "      <th>Calories</th>\n",
       "    </tr>\n",
       "  </thead>\n",
       "  <tbody>\n",
       "    <tr>\n",
       "      <th>count</th>\n",
       "      <td>1.500000e+04</td>\n",
       "      <td>15000.000000</td>\n",
       "      <td>15000.000000</td>\n",
       "      <td>15000.000000</td>\n",
       "      <td>15000.000000</td>\n",
       "      <td>15000.000000</td>\n",
       "      <td>15000.000000</td>\n",
       "      <td>15000.000000</td>\n",
       "    </tr>\n",
       "    <tr>\n",
       "      <th>mean</th>\n",
       "      <td>1.497736e+07</td>\n",
       "      <td>42.789800</td>\n",
       "      <td>174.465133</td>\n",
       "      <td>74.966867</td>\n",
       "      <td>15.530600</td>\n",
       "      <td>95.518533</td>\n",
       "      <td>40.025453</td>\n",
       "      <td>89.539533</td>\n",
       "    </tr>\n",
       "    <tr>\n",
       "      <th>std</th>\n",
       "      <td>2.872851e+06</td>\n",
       "      <td>16.980264</td>\n",
       "      <td>14.258114</td>\n",
       "      <td>15.035657</td>\n",
       "      <td>8.319203</td>\n",
       "      <td>9.583328</td>\n",
       "      <td>0.779230</td>\n",
       "      <td>62.456978</td>\n",
       "    </tr>\n",
       "    <tr>\n",
       "      <th>min</th>\n",
       "      <td>1.000116e+07</td>\n",
       "      <td>20.000000</td>\n",
       "      <td>123.000000</td>\n",
       "      <td>36.000000</td>\n",
       "      <td>1.000000</td>\n",
       "      <td>67.000000</td>\n",
       "      <td>37.100000</td>\n",
       "      <td>1.000000</td>\n",
       "    </tr>\n",
       "    <tr>\n",
       "      <th>25%</th>\n",
       "      <td>1.247419e+07</td>\n",
       "      <td>28.000000</td>\n",
       "      <td>164.000000</td>\n",
       "      <td>63.000000</td>\n",
       "      <td>8.000000</td>\n",
       "      <td>88.000000</td>\n",
       "      <td>39.600000</td>\n",
       "      <td>35.000000</td>\n",
       "    </tr>\n",
       "    <tr>\n",
       "      <th>50%</th>\n",
       "      <td>1.499728e+07</td>\n",
       "      <td>39.000000</td>\n",
       "      <td>175.000000</td>\n",
       "      <td>74.000000</td>\n",
       "      <td>16.000000</td>\n",
       "      <td>96.000000</td>\n",
       "      <td>40.200000</td>\n",
       "      <td>79.000000</td>\n",
       "    </tr>\n",
       "    <tr>\n",
       "      <th>75%</th>\n",
       "      <td>1.744928e+07</td>\n",
       "      <td>56.000000</td>\n",
       "      <td>185.000000</td>\n",
       "      <td>87.000000</td>\n",
       "      <td>23.000000</td>\n",
       "      <td>103.000000</td>\n",
       "      <td>40.600000</td>\n",
       "      <td>138.000000</td>\n",
       "    </tr>\n",
       "    <tr>\n",
       "      <th>max</th>\n",
       "      <td>1.999965e+07</td>\n",
       "      <td>79.000000</td>\n",
       "      <td>222.000000</td>\n",
       "      <td>132.000000</td>\n",
       "      <td>30.000000</td>\n",
       "      <td>128.000000</td>\n",
       "      <td>41.500000</td>\n",
       "      <td>314.000000</td>\n",
       "    </tr>\n",
       "  </tbody>\n",
       "</table>\n",
       "</div>"
      ],
      "text/plain": [
       "            User_ID           Age        Height        Weight      Duration  \\\n",
       "count  1.500000e+04  15000.000000  15000.000000  15000.000000  15000.000000   \n",
       "mean   1.497736e+07     42.789800    174.465133     74.966867     15.530600   \n",
       "std    2.872851e+06     16.980264     14.258114     15.035657      8.319203   \n",
       "min    1.000116e+07     20.000000    123.000000     36.000000      1.000000   \n",
       "25%    1.247419e+07     28.000000    164.000000     63.000000      8.000000   \n",
       "50%    1.499728e+07     39.000000    175.000000     74.000000     16.000000   \n",
       "75%    1.744928e+07     56.000000    185.000000     87.000000     23.000000   \n",
       "max    1.999965e+07     79.000000    222.000000    132.000000     30.000000   \n",
       "\n",
       "         Heart_Rate     Body_Temp      Calories  \n",
       "count  15000.000000  15000.000000  15000.000000  \n",
       "mean      95.518533     40.025453     89.539533  \n",
       "std        9.583328      0.779230     62.456978  \n",
       "min       67.000000     37.100000      1.000000  \n",
       "25%       88.000000     39.600000     35.000000  \n",
       "50%       96.000000     40.200000     79.000000  \n",
       "75%      103.000000     40.600000    138.000000  \n",
       "max      128.000000     41.500000    314.000000  "
      ]
     },
     "execution_count": 36,
     "metadata": {},
     "output_type": "execute_result"
    }
   ],
   "source": [
    "df.describe()"
   ]
  },
  {
   "cell_type": "markdown",
   "id": "bd701497",
   "metadata": {},
   "source": [
    "## Распределение признаков\n"
   ]
  },
  {
   "cell_type": "code",
   "execution_count": 37,
   "id": "c2f353c2",
   "metadata": {},
   "outputs": [
    {
     "data": {
      "image/png": "[encoded data removed]",
      "text/plain": [
       "<Figure size 1000x500 with 2 Axes>"
      ]
     },
     "metadata": {},
     "output_type": "display_data"
    },
    {
     "data": {
      "image/png": "[encoded data removed]",
      "text/plain": [
       "<Figure size 1000x500 with 2 Axes>"
      ]
     },
     "metadata": {},
     "output_type": "display_data"
    },
    {
     "data": {
      "image/png": "[encoded data removed]",
      "text/plain": [
       "<Figure size 1000x500 with 2 Axes>"
      ]
     },
     "metadata": {},
     "output_type": "display_data"
    },
    {
     "data": {
      "image/png": "[encoded data removed]",
      "text/plain": [
       "<Figure size 1000x500 with 2 Axes>"
      ]
     },
     "metadata": {},
     "output_type": "display_data"
    },
    {
     "data": {
      "image/png": "[encoded data removed]",
      "text/plain": [
       "<Figure size 1000x500 with 2 Axes>"
      ]
     },
     "metadata": {},
     "output_type": "display_data"
    },
    {
     "data": {
      "image/png": "[encoded data removed]",
      "text/plain": [
       "<Figure size 1000x500 with 2 Axes>"
      ]
     },
     "metadata": {},
     "output_type": "display_data"
    },
    {
     "data": {
      "image/png": "[encoded data removed]",
      "text/plain": [
       "<Figure size 1000x500 with 2 Axes>"
      ]
     },
     "metadata": {},
     "output_type": "display_data"
    }
   ],
   "source": [
    "features = df.columns.drop(['User_ID', 'Gender'])\n",
    "for feature in features:\n",
    "    fig, ax = plt.subplots(1, 2,  figsize=(10, 5))\n",
    "    sns.histplot(df, x=feature, label='all', ax=ax[0], bins=30)\n",
    "    sns.histplot(df, x=feature, hue='Gender', ax=ax[1], bins=30)\n",
    "    plt.title(feature)\n",
    "    plt.show()"
   ]
  },
  {
   "cell_type": "markdown",
   "id": "416c3f30",
   "metadata": {},
   "source": [
    "По распределениям признаков видим, что вес, рост и пульс близки к нормальному.\n",
    "\n",
    "Распределения с группировкой по полу отличаются только для признаков рост и вес"
   ]
  },
  {
   "cell_type": "markdown",
   "id": "1a104e4a",
   "metadata": {},
   "source": [
    "## Проверка на выбросы\n",
    "Проверим рост на выбросы: по таблице с минимальным значеним, 1-му, 3-му квартилю и графику распределения видим возможные выбросы "
   ]
  },
  {
   "cell_type": "markdown",
   "id": "8b9362ba",
   "metadata": {},
   "source": [
    "### Height"
   ]
  },
  {
   "cell_type": "code",
   "execution_count": 38,
   "id": "3592a49c",
   "metadata": {},
   "outputs": [
    {
     "data": {
      "text/plain": [
       "<Axes: xlabel='Height'>"
      ]
     },
     "execution_count": 38,
     "metadata": {},
     "output_type": "execute_result"
    },
    {
     "data": {
      "image/png": "[encoded data removed]",
      "text/plain": [
       "<Figure size 640x480 with 1 Axes>"
      ]
     },
     "metadata": {},
     "output_type": "display_data"
    }
   ],
   "source": [
    "sns.boxplot(df, x='Height')"
   ]
  },
  {
   "cell_type": "code",
   "execution_count": 39,
   "id": "ac3d8c84",
   "metadata": {},
   "outputs": [
    {
     "data": {
      "application/vnd.microsoft.datawrangler.viewer.v0+json": {
       "columns": [
        {
         "name": "index",
         "rawType": "object",
         "type": "string"
        },
        {
         "name": "0",
         "rawType": "float64",
         "type": "float"
        }
       ],
       "ref": "64da5c54-3e2f-4e0d-817b-56d1696a2fa8",
       "rows": [
        [
         "Q1",
         "164.0"
        ],
        [
         "Q3",
         "185.0"
        ],
        [
         "IQR",
         "21.0"
        ],
        [
         "Нижняя граница",
         "132.5"
        ],
        [
         "Верхняя граница",
         "216.5"
        ],
        [
         "Количество выбросов",
         "14.0"
        ]
       ],
       "shape": {
        "columns": 1,
        "rows": 6
       }
      },
      "text/plain": [
       "Q1                     164.0\n",
       "Q3                     185.0\n",
       "IQR                     21.0\n",
       "Нижняя граница         132.5\n",
       "Верхняя граница        216.5\n",
       "Количество выбросов     14.0\n",
       "dtype: float64"
      ]
     },
     "metadata": {},
     "output_type": "display_data"
    },
    {
     "name": "stdout",
     "output_type": "stream",
     "text": [
      "Выбросы:\n"
     ]
    },
    {
     "data": {
      "application/vnd.microsoft.datawrangler.viewer.v0+json": {
       "columns": [
        {
         "name": "index",
         "rawType": "int64",
         "type": "integer"
        },
        {
         "name": "User_ID",
         "rawType": "int64",
         "type": "integer"
        },
        {
         "name": "Gender",
         "rawType": "object",
         "type": "string"
        },
        {
         "name": "Age",
         "rawType": "int64",
         "type": "integer"
        },
        {
         "name": "Height",
         "rawType": "float64",
         "type": "float"
        },
        {
         "name": "Weight",
         "rawType": "float64",
         "type": "float"
        },
        {
         "name": "Duration",
         "rawType": "float64",
         "type": "float"
        },
        {
         "name": "Heart_Rate",
         "rawType": "float64",
         "type": "float"
        },
        {
         "name": "Body_Temp",
         "rawType": "float64",
         "type": "float"
        },
        {
         "name": "Calories",
         "rawType": "float64",
         "type": "float"
        }
       ],
       "ref": "d2864f62-1e51-4671-a0e2-9d2b3c498c42",
       "rows": [
        [
         "4200",
         "17172665",
         "female",
         "63",
         "123.0",
         "40.0",
         "9.0",
         "97.0",
         "39.9",
         "55.0"
        ],
        [
         "7774",
         "18699424",
         "female",
         "30",
         "126.0",
         "39.0",
         "25.0",
         "104.0",
         "40.7",
         "156.0"
        ],
        [
         "6226",
         "11581936",
         "female",
         "58",
         "127.0",
         "40.0",
         "29.0",
         "102.0",
         "40.8",
         "189.0"
        ],
        [
         "529",
         "13721168",
         "female",
         "35",
         "132.0",
         "38.0",
         "30.0",
         "112.0",
         "40.5",
         "216.0"
        ],
        [
         "4855",
         "10647581",
         "female",
         "59",
         "132.0",
         "40.0",
         "10.0",
         "92.0",
         "39.9",
         "55.0"
        ],
        [
         "4404",
         "11352685",
         "female",
         "20",
         "132.0",
         "41.0",
         "5.0",
         "85.0",
         "39.3",
         "20.0"
        ],
        [
         "13100",
         "17972006",
         "female",
         "51",
         "132.0",
         "41.0",
         "6.0",
         "86.0",
         "39.2",
         "28.0"
        ],
        [
         "8931",
         "11308308",
         "female",
         "26",
         "132.0",
         "36.0",
         "5.0",
         "91.0",
         "39.2",
         "24.0"
        ],
        [
         "13276",
         "13066276",
         "male",
         "55",
         "217.0",
         "126.0",
         "17.0",
         "91.0",
         "40.4",
         "101.0"
        ],
        [
         "1464",
         "18787703",
         "male",
         "51",
         "217.0",
         "118.0",
         "4.0",
         "85.0",
         "39.1",
         "19.0"
        ],
        [
         "6711",
         "12623721",
         "male",
         "40",
         "218.0",
         "132.0",
         "1.0",
         "88.0",
         "37.8",
         "5.0"
        ],
        [
         "12360",
         "13454914",
         "male",
         "41",
         "218.0",
         "119.0",
         "18.0",
         "85.0",
         "40.2",
         "76.0"
        ],
        [
         "12189",
         "10775847",
         "male",
         "21",
         "219.0",
         "126.0",
         "15.0",
         "97.0",
         "40.4",
         "78.0"
        ],
        [
         "10362",
         "17352972",
         "male",
         "22",
         "222.0",
         "128.0",
         "6.0",
         "84.0",
         "39.3",
         "20.0"
        ]
       ],
       "shape": {
        "columns": 9,
        "rows": 14
       }
      },
      "text/html": [
       "<div>\n",
       "<style scoped>\n",
       "    .dataframe tbody tr th:only-of-type {\n",
       "        vertical-align: middle;\n",
       "    }\n",
       "\n",
       "    .dataframe tbody tr th {\n",
       "        vertical-align: top;\n",
       "    }\n",
       "\n",
       "    .dataframe thead th {\n",
       "        text-align: right;\n",
       "    }\n",
       "</style>\n",
       "<table border=\"1\" class=\"dataframe\">\n",
       "  <thead>\n",
       "    <tr style=\"text-align: right;\">\n",
       "      <th></th>\n",
       "      <th>User_ID</th>\n",
       "      <th>Gender</th>\n",
       "      <th>Age</th>\n",
       "      <th>Height</th>\n",
       "      <th>Weight</th>\n",
       "      <th>Duration</th>\n",
       "      <th>Heart_Rate</th>\n",
       "      <th>Body_Temp</th>\n",
       "      <th>Calories</th>\n",
       "    </tr>\n",
       "  </thead>\n",
       "  <tbody>\n",
       "    <tr>\n",
       "      <th>4200</th>\n",
       "      <td>17172665</td>\n",
       "      <td>female</td>\n",
       "      <td>63</td>\n",
       "      <td>123.0</td>\n",
       "      <td>40.0</td>\n",
       "      <td>9.0</td>\n",
       "      <td>97.0</td>\n",
       "      <td>39.9</td>\n",
       "      <td>55.0</td>\n",
       "    </tr>\n",
       "    <tr>\n",
       "      <th>7774</th>\n",
       "      <td>18699424</td>\n",
       "      <td>female</td>\n",
       "      <td>30</td>\n",
       "      <td>126.0</td>\n",
       "      <td>39.0</td>\n",
       "      <td>25.0</td>\n",
       "      <td>104.0</td>\n",
       "      <td>40.7</td>\n",
       "      <td>156.0</td>\n",
       "    </tr>\n",
       "    <tr>\n",
       "      <th>6226</th>\n",
       "      <td>11581936</td>\n",
       "      <td>female</td>\n",
       "      <td>58</td>\n",
       "      <td>127.0</td>\n",
       "      <td>40.0</td>\n",
       "      <td>29.0</td>\n",
       "      <td>102.0</td>\n",
       "      <td>40.8</td>\n",
       "      <td>189.0</td>\n",
       "    </tr>\n",
       "    <tr>\n",
       "      <th>529</th>\n",
       "      <td>13721168</td>\n",
       "      <td>female</td>\n",
       "      <td>35</td>\n",
       "      <td>132.0</td>\n",
       "      <td>38.0</td>\n",
       "      <td>30.0</td>\n",
       "      <td>112.0</td>\n",
       "      <td>40.5</td>\n",
       "      <td>216.0</td>\n",
       "    </tr>\n",
       "    <tr>\n",
       "      <th>4855</th>\n",
       "      <td>10647581</td>\n",
       "      <td>female</td>\n",
       "      <td>59</td>\n",
       "      <td>132.0</td>\n",
       "      <td>40.0</td>\n",
       "      <td>10.0</td>\n",
       "      <td>92.0</td>\n",
       "      <td>39.9</td>\n",
       "      <td>55.0</td>\n",
       "    </tr>\n",
       "    <tr>\n",
       "      <th>4404</th>\n",
       "      <td>11352685</td>\n",
       "      <td>female</td>\n",
       "      <td>20</td>\n",
       "      <td>132.0</td>\n",
       "      <td>41.0</td>\n",
       "      <td>5.0</td>\n",
       "      <td>85.0</td>\n",
       "      <td>39.3</td>\n",
       "      <td>20.0</td>\n",
       "    </tr>\n",
       "    <tr>\n",
       "      <th>13100</th>\n",
       "      <td>17972006</td>\n",
       "      <td>female</td>\n",
       "      <td>51</td>\n",
       "      <td>132.0</td>\n",
       "      <td>41.0</td>\n",
       "      <td>6.0</td>\n",
       "      <td>86.0</td>\n",
       "      <td>39.2</td>\n",
       "      <td>28.0</td>\n",
       "    </tr>\n",
       "    <tr>\n",
       "      <th>8931</th>\n",
       "      <td>11308308</td>\n",
       "      <td>female</td>\n",
       "      <td>26</td>\n",
       "      <td>132.0</td>\n",
       "      <td>36.0</td>\n",
       "      <td>5.0</td>\n",
       "      <td>91.0</td>\n",
       "      <td>39.2</td>\n",
       "      <td>24.0</td>\n",
       "    </tr>\n",
       "    <tr>\n",
       "      <th>13276</th>\n",
       "      <td>13066276</td>\n",
       "      <td>male</td>\n",
       "      <td>55</td>\n",
       "      <td>217.0</td>\n",
       "      <td>126.0</td>\n",
       "      <td>17.0</td>\n",
       "      <td>91.0</td>\n",
       "      <td>40.4</td>\n",
       "      <td>101.0</td>\n",
       "    </tr>\n",
       "    <tr>\n",
       "      <th>1464</th>\n",
       "      <td>18787703</td>\n",
       "      <td>male</td>\n",
       "      <td>51</td>\n",
       "      <td>217.0</td>\n",
       "      <td>118.0</td>\n",
       "      <td>4.0</td>\n",
       "      <td>85.0</td>\n",
       "      <td>39.1</td>\n",
       "      <td>19.0</td>\n",
       "    </tr>\n",
       "    <tr>\n",
       "      <th>6711</th>\n",
       "      <td>12623721</td>\n",
       "      <td>male</td>\n",
       "      <td>40</td>\n",
       "      <td>218.0</td>\n",
       "      <td>132.0</td>\n",
       "      <td>1.0</td>\n",
       "      <td>88.0</td>\n",
       "      <td>37.8</td>\n",
       "      <td>5.0</td>\n",
       "    </tr>\n",
       "    <tr>\n",
       "      <th>12360</th>\n",
       "      <td>13454914</td>\n",
       "      <td>male</td>\n",
       "      <td>41</td>\n",
       "      <td>218.0</td>\n",
       "      <td>119.0</td>\n",
       "      <td>18.0</td>\n",
       "      <td>85.0</td>\n",
       "      <td>40.2</td>\n",
       "      <td>76.0</td>\n",
       "    </tr>\n",
       "    <tr>\n",
       "      <th>12189</th>\n",
       "      <td>10775847</td>\n",
       "      <td>male</td>\n",
       "      <td>21</td>\n",
       "      <td>219.0</td>\n",
       "      <td>126.0</td>\n",
       "      <td>15.0</td>\n",
       "      <td>97.0</td>\n",
       "      <td>40.4</td>\n",
       "      <td>78.0</td>\n",
       "    </tr>\n",
       "    <tr>\n",
       "      <th>10362</th>\n",
       "      <td>17352972</td>\n",
       "      <td>male</td>\n",
       "      <td>22</td>\n",
       "      <td>222.0</td>\n",
       "      <td>128.0</td>\n",
       "      <td>6.0</td>\n",
       "      <td>84.0</td>\n",
       "      <td>39.3</td>\n",
       "      <td>20.0</td>\n",
       "    </tr>\n",
       "  </tbody>\n",
       "</table>\n",
       "</div>"
      ],
      "text/plain": [
       "        User_ID  Gender  Age  Height  Weight  Duration  Heart_Rate  Body_Temp  \\\n",
       "4200   17172665  female   63   123.0    40.0       9.0        97.0       39.9   \n",
       "7774   18699424  female   30   126.0    39.0      25.0       104.0       40.7   \n",
       "6226   11581936  female   58   127.0    40.0      29.0       102.0       40.8   \n",
       "529    13721168  female   35   132.0    38.0      30.0       112.0       40.5   \n",
       "4855   10647581  female   59   132.0    40.0      10.0        92.0       39.9   \n",
       "4404   11352685  female   20   132.0    41.0       5.0        85.0       39.3   \n",
       "13100  17972006  female   51   132.0    41.0       6.0        86.0       39.2   \n",
       "8931   11308308  female   26   132.0    36.0       5.0        91.0       39.2   \n",
       "13276  13066276    male   55   217.0   126.0      17.0        91.0       40.4   \n",
       "1464   18787703    male   51   217.0   118.0       4.0        85.0       39.1   \n",
       "6711   12623721    male   40   218.0   132.0       1.0        88.0       37.8   \n",
       "12360  13454914    male   41   218.0   119.0      18.0        85.0       40.2   \n",
       "12189  10775847    male   21   219.0   126.0      15.0        97.0       40.4   \n",
       "10362  17352972    male   22   222.0   128.0       6.0        84.0       39.3   \n",
       "\n",
       "       Calories  \n",
       "4200       55.0  \n",
       "7774      156.0  \n",
       "6226      189.0  \n",
       "529       216.0  \n",
       "4855       55.0  \n",
       "4404       20.0  \n",
       "13100      28.0  \n",
       "8931       24.0  \n",
       "13276     101.0  \n",
       "1464       19.0  \n",
       "6711        5.0  \n",
       "12360      76.0  \n",
       "12189      78.0  \n",
       "10362      20.0  "
      ]
     },
     "metadata": {},
     "output_type": "display_data"
    }
   ],
   "source": [
    "Q1 = df['Height'].quantile(0.25)\n",
    "Q3 = df['Height'].quantile(0.75)\n",
    "IQR = Q3 - Q1\n",
    "\n",
    "lower_bound = Q1 - 1.5 * IQR\n",
    "upper_bound = Q3 + 1.5 * IQR\n",
    "\n",
    "outliers_iqr = df[(df['Height'] < lower_bound) | (df['Height'] > upper_bound)]\n",
    "\n",
    "display(pd.Series([Q1, Q3, IQR, lower_bound, upper_bound, len(outliers_iqr)],\n",
    "    index=['Q1', 'Q3', 'IQR', 'Нижняя граница', 'Верхняя граница', 'Количество выбросов']))\n",
    "\n",
    "print(\"Выбросы:\")\n",
    "display(outliers_iqr.sort_values('Height'))"
   ]
  },
  {
   "cell_type": "markdown",
   "id": "fbb99e5e",
   "metadata": {},
   "source": [
    "Удалим  14 строк с выбросами, для датасета размером 15_000 это небольшой набор записей "
   ]
  },
  {
   "cell_type": "code",
   "execution_count": 40,
   "id": "6aa7b1c0",
   "metadata": {},
   "outputs": [
    {
     "data": {
      "text/plain": [
       "<Axes: xlabel='Height'>"
      ]
     },
     "execution_count": 40,
     "metadata": {},
     "output_type": "execute_result"
    },
    {
     "data": {
      "image/png": "[encoded data removed]",
      "text/plain": [
       "<Figure size 640x480 with 1 Axes>"
      ]
     },
     "metadata": {},
     "output_type": "display_data"
    }
   ],
   "source": [
    "df = df[(df['Height'] > lower_bound) &  (df['Height'] < upper_bound)]\n",
    "sns.boxplot(df, x='Height')"
   ]
  },
  {
   "cell_type": "code",
   "execution_count": 41,
   "id": "c887ab9f",
   "metadata": {},
   "outputs": [
    {
     "data": {
      "application/vnd.microsoft.datawrangler.viewer.v0+json": {
       "columns": [
        {
         "name": "index",
         "rawType": "object",
         "type": "string"
        },
        {
         "name": "Height",
         "rawType": "float64",
         "type": "float"
        }
       ],
       "ref": "b79a9e0a-deb9-4d64-896f-f5f0d854b9ad",
       "rows": [
        [
         "count",
         "14986.0"
        ],
        [
         "mean",
         "174.47150673962363"
        ],
        [
         "std",
         "14.19931604460778"
        ],
        [
         "min",
         "133.0"
        ],
        [
         "25%",
         "164.0"
        ],
        [
         "50%",
         "175.0"
        ],
        [
         "75%",
         "185.0"
        ],
        [
         "max",
         "214.0"
        ]
       ],
       "shape": {
        "columns": 1,
        "rows": 8
       }
      },
      "text/plain": [
       "count    14986.000000\n",
       "mean       174.471507\n",
       "std         14.199316\n",
       "min        133.000000\n",
       "25%        164.000000\n",
       "50%        175.000000\n",
       "75%        185.000000\n",
       "max        214.000000\n",
       "Name: Height, dtype: float64"
      ]
     },
     "execution_count": 41,
     "metadata": {},
     "output_type": "execute_result"
    }
   ],
   "source": [
    "df['Height'].describe()"
   ]
  },
  {
   "cell_type": "markdown",
   "id": "46ed65ea",
   "metadata": {},
   "source": [
    "Преобразуем Gender к бинарной переменной "
   ]
  },
  {
   "cell_type": "code",
   "execution_count": 42,
   "id": "05a81e82",
   "metadata": {},
   "outputs": [],
   "source": [
    "df['gender_bin'] = df['Gender'].map({'male':1, 'female':0})"
   ]
  },
  {
   "cell_type": "markdown",
   "id": "46fee113",
   "metadata": {},
   "source": [
    "## Корреляция между признаками\n"
   ]
  },
  {
   "cell_type": "code",
   "execution_count": 43,
   "id": "7f7f903f",
   "metadata": {},
   "outputs": [
    {
     "data": {
      "text/plain": [
       "<Axes: >"
      ]
     },
     "execution_count": 43,
     "metadata": {},
     "output_type": "execute_result"
    },
    {
     "data": {
      "image/png": "[encoded data removed]",
      "text/plain": [
       "<Figure size 640x480 with 2 Axes>"
      ]
     },
     "metadata": {},
     "output_type": "display_data"
    }
   ],
   "source": [
    "sns.heatmap(df.loc[:, 'Age':].corr(numeric_only=True), \n",
    "            annot=True, \n",
    "            fmt='.2f')"
   ]
  },
  {
   "cell_type": "markdown",
   "id": "5e31b893",
   "metadata": {},
   "source": [
    "**Корреляция с целевой переменной:**\n",
    "- Duration, Heart_Rate, Body_Temp имеет очень высокий положительный коэффициент корреляции с целевой переменной, при этом попарно между собой они также сильно коррелируют: можем из них оставить только Duration, т.к. он имеет наибольшую корреляцию с целевой переменной\n",
    "- С остальными признаками: Height, Weight, Age корреляция почти нулевая \n",
    "- Корреляция между Height и Weight = 0.96, можем либо удалить один из них, либо преобразовать к индексу массы тела\n"
   ]
  },
  {
   "cell_type": "markdown",
   "id": "62336da5",
   "metadata": {},
   "source": [
    "## Выбор модели для оценки признаков"
   ]
  },
  {
   "cell_type": "markdown",
   "id": "6b495622",
   "metadata": {},
   "source": [
    "Построим  линейную модель и дерево решений (глубины 6) для задачи регрессии. Выбрем наилучшую из них для дальнейшей оценки точности на разных подмножествах признаков.\n",
    "\n",
    "Перед обучением разделим выброку на тренировочную, валидационную и тестовую  "
   ]
  },
  {
   "cell_type": "code",
   "execution_count": 46,
   "id": "441384ea",
   "metadata": {},
   "outputs": [
    {
     "data": {
      "text/html": [
       "<style>#sk-container-id-8 {\n",
       "  /* Definition of color scheme common for light and dark mode */\n",
       "  --sklearn-color-text: #000;\n",
       "  --sklearn-color-text-muted: #666;\n",
       "  --sklearn-color-line: gray;\n",
       "  /* Definition of color scheme for unfitted estimators */\n",
       "  --sklearn-color-unfitted-level-0: #fff5e6;\n",
       "  --sklearn-color-unfitted-level-1: #f6e4d2;\n",
       "  --sklearn-color-unfitted-level-2: #ffe0b3;\n",
       "  --sklearn-color-unfitted-level-3: chocolate;\n",
       "  /* Definition of color scheme for fitted estimators */\n",
       "  --sklearn-color-fitted-level-0: #f0f8ff;\n",
       "  --sklearn-color-fitted-level-1: #d4ebff;\n",
       "  --sklearn-color-fitted-level-2: #b3dbfd;\n",
       "  --sklearn-color-fitted-level-3: cornflowerblue;\n",
       "\n",
       "  /* Specific color for light theme */\n",
       "  --sklearn-color-text-on-default-background: var(--sg-text-color, var(--theme-code-foreground, var(--jp-content-font-color1, black)));\n",
       "  --sklearn-color-background: var(--sg-background-color, var(--theme-background, var(--jp-layout-color0, white)));\n",
       "  --sklearn-color-border-box: var(--sg-text-color, var(--theme-code-foreground, var(--jp-content-font-color1, black)));\n",
       "  --sklearn-color-icon: #696969;\n",
       "\n",
       "  @media (prefers-color-scheme: dark) {\n",
       "    /* Redefinition of color scheme for dark theme */\n",
       "    --sklearn-color-text-on-default-background: var(--sg-text-color, var(--theme-code-foreground, var(--jp-content-font-color1, white)));\n",
       "    --sklearn-color-background: var(--sg-background-color, var(--theme-background, var(--jp-layout-color0, #111)));\n",
       "    --sklearn-color-border-box: var(--sg-text-color, var(--theme-code-foreground, var(--jp-content-font-color1, white)));\n",
       "    --sklearn-color-icon: #878787;\n",
       "  }\n",
       "}\n",
       "\n",
       "#sk-container-id-8 {\n",
       "  color: var(--sklearn-color-text);\n",
       "}\n",
       "\n",
       "#sk-container-id-8 pre {\n",
       "  padding: 0;\n",
       "}\n",
       "\n",
       "#sk-container-id-8 input.sk-hidden--visually {\n",
       "  border: 0;\n",
       "  clip: rect(1px 1px 1px 1px);\n",
       "  clip: rect(1px, 1px, 1px, 1px);\n",
       "  height: 1px;\n",
       "  margin: -1px;\n",
       "  overflow: hidden;\n",
       "  padding: 0;\n",
       "  position: absolute;\n",
       "  width: 1px;\n",
       "}\n",
       "\n",
       "#sk-container-id-8 div.sk-dashed-wrapped {\n",
       "  border: 1px dashed var(--sklearn-color-line);\n",
       "  margin: 0 0.4em 0.5em 0.4em;\n",
       "  box-sizing: border-box;\n",
       "  padding-bottom: 0.4em;\n",
       "  background-color: var(--sklearn-color-background);\n",
       "}\n",
       "\n",
       "#sk-container-id-8 div.sk-container {\n",
       "  /* jupyter's `normalize.less` sets `[hidden] { display: none; }`\n",
       "     but bootstrap.min.css set `[hidden] { display: none !important; }`\n",
       "     so we also need the `!important` here to be able to override the\n",
       "     default hidden behavior on the sphinx rendered scikit-learn.org.\n",
       "     See: https://github.com/scikit-learn/scikit-learn/issues/21755 */\n",
       "  display: inline-block !important;\n",
       "  position: relative;\n",
       "}\n",
       "\n",
       "#sk-container-id-8 div.sk-text-repr-fallback {\n",
       "  display: none;\n",
       "}\n",
       "\n",
       "div.sk-parallel-item,\n",
       "div.sk-serial,\n",
       "div.sk-item {\n",
       "  /* draw centered vertical line to link estimators */\n",
       "  background-image: linear-gradient(var(--sklearn-color-text-on-default-background), var(--sklearn-color-text-on-default-background));\n",
       "  background-size: 2px 100%;\n",
       "  background-repeat: no-repeat;\n",
       "  background-position: center center;\n",
       "}\n",
       "\n",
       "/* Parallel-specific style estimator block */\n",
       "\n",
       "#sk-container-id-8 div.sk-parallel-item::after {\n",
       "  content: \"\";\n",
       "  width: 100%;\n",
       "  border-bottom: 2px solid var(--sklearn-color-text-on-default-background);\n",
       "  flex-grow: 1;\n",
       "}\n",
       "\n",
       "#sk-container-id-8 div.sk-parallel {\n",
       "  display: flex;\n",
       "  align-items: stretch;\n",
       "  justify-content: center;\n",
       "  background-color: var(--sklearn-color-background);\n",
       "  position: relative;\n",
       "}\n",
       "\n",
       "#sk-container-id-8 div.sk-parallel-item {\n",
       "  display: flex;\n",
       "  flex-direction: column;\n",
       "}\n",
       "\n",
       "#sk-container-id-8 div.sk-parallel-item:first-child::after {\n",
       "  align-self: flex-end;\n",
       "  width: 50%;\n",
       "}\n",
       "\n",
       "#sk-container-id-8 div.sk-parallel-item:last-child::after {\n",
       "  align-self: flex-start;\n",
       "  width: 50%;\n",
       "}\n",
       "\n",
       "#sk-container-id-8 div.sk-parallel-item:only-child::after {\n",
       "  width: 0;\n",
       "}\n",
       "\n",
       "/* Serial-specific style estimator block */\n",
       "\n",
       "#sk-container-id-8 div.sk-serial {\n",
       "  display: flex;\n",
       "  flex-direction: column;\n",
       "  align-items: center;\n",
       "  background-color: var(--sklearn-color-background);\n",
       "  padding-right: 1em;\n",
       "  padding-left: 1em;\n",
       "}\n",
       "\n",
       "\n",
       "/* Toggleable style: style used for estimator/Pipeline/ColumnTransformer box that is\n",
       "clickable and can be expanded/collapsed.\n",
       "- Pipeline and ColumnTransformer use this feature and define the default style\n",
       "- Estimators will overwrite some part of the style using the `sk-estimator` class\n",
       "*/\n",
       "\n",
       "/* Pipeline and ColumnTransformer style (default) */\n",
       "\n",
       "#sk-container-id-8 div.sk-toggleable {\n",
       "  /* Default theme specific background. It is overwritten whether we have a\n",
       "  specific estimator or a Pipeline/ColumnTransformer */\n",
       "  background-color: var(--sklearn-color-background);\n",
       "}\n",
       "\n",
       "/* Toggleable label */\n",
       "#sk-container-id-8 label.sk-toggleable__label {\n",
       "  cursor: pointer;\n",
       "  display: flex;\n",
       "  width: 100%;\n",
       "  margin-bottom: 0;\n",
       "  padding: 0.5em;\n",
       "  box-sizing: border-box;\n",
       "  text-align: center;\n",
       "  align-items: start;\n",
       "  justify-content: space-between;\n",
       "  gap: 0.5em;\n",
       "}\n",
       "\n",
       "#sk-container-id-8 label.sk-toggleable__label .caption {\n",
       "  font-size: 0.6rem;\n",
       "  font-weight: lighter;\n",
       "  color: var(--sklearn-color-text-muted);\n",
       "}\n",
       "\n",
       "#sk-container-id-8 label.sk-toggleable__label-arrow:before {\n",
       "  /* Arrow on the left of the label */\n",
       "  content: \"▸\";\n",
       "  float: left;\n",
       "  margin-right: 0.25em;\n",
       "  color: var(--sklearn-color-icon);\n",
       "}\n",
       "\n",
       "#sk-container-id-8 label.sk-toggleable__label-arrow:hover:before {\n",
       "  color: var(--sklearn-color-text);\n",
       "}\n",
       "\n",
       "/* Toggleable content - dropdown */\n",
       "\n",
       "#sk-container-id-8 div.sk-toggleable__content {\n",
       "  display: none;\n",
       "  text-align: left;\n",
       "  /* unfitted */\n",
       "  background-color: var(--sklearn-color-unfitted-level-0);\n",
       "}\n",
       "\n",
       "#sk-container-id-8 div.sk-toggleable__content.fitted {\n",
       "  /* fitted */\n",
       "  background-color: var(--sklearn-color-fitted-level-0);\n",
       "}\n",
       "\n",
       "#sk-container-id-8 div.sk-toggleable__content pre {\n",
       "  margin: 0.2em;\n",
       "  border-radius: 0.25em;\n",
       "  color: var(--sklearn-color-text);\n",
       "  /* unfitted */\n",
       "  background-color: var(--sklearn-color-unfitted-level-0);\n",
       "}\n",
       "\n",
       "#sk-container-id-8 div.sk-toggleable__content.fitted pre {\n",
       "  /* unfitted */\n",
       "  background-color: var(--sklearn-color-fitted-level-0);\n",
       "}\n",
       "\n",
       "#sk-container-id-8 input.sk-toggleable__control:checked~div.sk-toggleable__content {\n",
       "  /* Expand drop-down */\n",
       "  display: block;\n",
       "  width: 100%;\n",
       "  overflow: visible;\n",
       "}\n",
       "\n",
       "#sk-container-id-8 input.sk-toggleable__control:checked~label.sk-toggleable__label-arrow:before {\n",
       "  content: \"▾\";\n",
       "}\n",
       "\n",
       "/* Pipeline/ColumnTransformer-specific style */\n",
       "\n",
       "#sk-container-id-8 div.sk-label input.sk-toggleable__control:checked~label.sk-toggleable__label {\n",
       "  color: var(--sklearn-color-text);\n",
       "  background-color: var(--sklearn-color-unfitted-level-2);\n",
       "}\n",
       "\n",
       "#sk-container-id-8 div.sk-label.fitted input.sk-toggleable__control:checked~label.sk-toggleable__label {\n",
       "  background-color: var(--sklearn-color-fitted-level-2);\n",
       "}\n",
       "\n",
       "/* Estimator-specific style */\n",
       "\n",
       "/* Colorize estimator box */\n",
       "#sk-container-id-8 div.sk-estimator input.sk-toggleable__control:checked~label.sk-toggleable__label {\n",
       "  /* unfitted */\n",
       "  background-color: var(--sklearn-color-unfitted-level-2);\n",
       "}\n",
       "\n",
       "#sk-container-id-8 div.sk-estimator.fitted input.sk-toggleable__control:checked~label.sk-toggleable__label {\n",
       "  /* fitted */\n",
       "  background-color: var(--sklearn-color-fitted-level-2);\n",
       "}\n",
       "\n",
       "#sk-container-id-8 div.sk-label label.sk-toggleable__label,\n",
       "#sk-container-id-8 div.sk-label label {\n",
       "  /* The background is the default theme color */\n",
       "  color: var(--sklearn-color-text-on-default-background);\n",
       "}\n",
       "\n",
       "/* On hover, darken the color of the background */\n",
       "#sk-container-id-8 div.sk-label:hover label.sk-toggleable__label {\n",
       "  color: var(--sklearn-color-text);\n",
       "  background-color: var(--sklearn-color-unfitted-level-2);\n",
       "}\n",
       "\n",
       "/* Label box, darken color on hover, fitted */\n",
       "#sk-container-id-8 div.sk-label.fitted:hover label.sk-toggleable__label.fitted {\n",
       "  color: var(--sklearn-color-text);\n",
       "  background-color: var(--sklearn-color-fitted-level-2);\n",
       "}\n",
       "\n",
       "/* Estimator label */\n",
       "\n",
       "#sk-container-id-8 div.sk-label label {\n",
       "  font-family: monospace;\n",
       "  font-weight: bold;\n",
       "  display: inline-block;\n",
       "  line-height: 1.2em;\n",
       "}\n",
       "\n",
       "#sk-container-id-8 div.sk-label-container {\n",
       "  text-align: center;\n",
       "}\n",
       "\n",
       "/* Estimator-specific */\n",
       "#sk-container-id-8 div.sk-estimator {\n",
       "  font-family: monospace;\n",
       "  border: 1px dotted var(--sklearn-color-border-box);\n",
       "  border-radius: 0.25em;\n",
       "  box-sizing: border-box;\n",
       "  margin-bottom: 0.5em;\n",
       "  /* unfitted */\n",
       "  background-color: var(--sklearn-color-unfitted-level-0);\n",
       "}\n",
       "\n",
       "#sk-container-id-8 div.sk-estimator.fitted {\n",
       "  /* fitted */\n",
       "  background-color: var(--sklearn-color-fitted-level-0);\n",
       "}\n",
       "\n",
       "/* on hover */\n",
       "#sk-container-id-8 div.sk-estimator:hover {\n",
       "  /* unfitted */\n",
       "  background-color: var(--sklearn-color-unfitted-level-2);\n",
       "}\n",
       "\n",
       "#sk-container-id-8 div.sk-estimator.fitted:hover {\n",
       "  /* fitted */\n",
       "  background-color: var(--sklearn-color-fitted-level-2);\n",
       "}\n",
       "\n",
       "/* Specification for estimator info (e.g. \"i\" and \"?\") */\n",
       "\n",
       "/* Common style for \"i\" and \"?\" */\n",
       "\n",
       ".sk-estimator-doc-link,\n",
       "a:link.sk-estimator-doc-link,\n",
       "a:visited.sk-estimator-doc-link {\n",
       "  float: right;\n",
       "  font-size: smaller;\n",
       "  line-height: 1em;\n",
       "  font-family: monospace;\n",
       "  background-color: var(--sklearn-color-background);\n",
       "  border-radius: 1em;\n",
       "  height: 1em;\n",
       "  width: 1em;\n",
       "  text-decoration: none !important;\n",
       "  margin-left: 0.5em;\n",
       "  text-align: center;\n",
       "  /* unfitted */\n",
       "  border: var(--sklearn-color-unfitted-level-1) 1pt solid;\n",
       "  color: var(--sklearn-color-unfitted-level-1);\n",
       "}\n",
       "\n",
       ".sk-estimator-doc-link.fitted,\n",
       "a:link.sk-estimator-doc-link.fitted,\n",
       "a:visited.sk-estimator-doc-link.fitted {\n",
       "  /* fitted */\n",
       "  border: var(--sklearn-color-fitted-level-1) 1pt solid;\n",
       "  color: var(--sklearn-color-fitted-level-1);\n",
       "}\n",
       "\n",
       "/* On hover */\n",
       "div.sk-estimator:hover .sk-estimator-doc-link:hover,\n",
       ".sk-estimator-doc-link:hover,\n",
       "div.sk-label-container:hover .sk-estimator-doc-link:hover,\n",
       ".sk-estimator-doc-link:hover {\n",
       "  /* unfitted */\n",
       "  background-color: var(--sklearn-color-unfitted-level-3);\n",
       "  color: var(--sklearn-color-background);\n",
       "  text-decoration: none;\n",
       "}\n",
       "\n",
       "div.sk-estimator.fitted:hover .sk-estimator-doc-link.fitted:hover,\n",
       ".sk-estimator-doc-link.fitted:hover,\n",
       "div.sk-label-container:hover .sk-estimator-doc-link.fitted:hover,\n",
       ".sk-estimator-doc-link.fitted:hover {\n",
       "  /* fitted */\n",
       "  background-color: var(--sklearn-color-fitted-level-3);\n",
       "  color: var(--sklearn-color-background);\n",
       "  text-decoration: none;\n",
       "}\n",
       "\n",
       "/* Span, style for the box shown on hovering the info icon */\n",
       ".sk-estimator-doc-link span {\n",
       "  display: none;\n",
       "  z-index: 9999;\n",
       "  position: relative;\n",
       "  font-weight: normal;\n",
       "  right: .2ex;\n",
       "  padding: .5ex;\n",
       "  margin: .5ex;\n",
       "  width: min-content;\n",
       "  min-width: 20ex;\n",
       "  max-width: 50ex;\n",
       "  color: var(--sklearn-color-text);\n",
       "  box-shadow: 2pt 2pt 4pt #999;\n",
       "  /* unfitted */\n",
       "  background: var(--sklearn-color-unfitted-level-0);\n",
       "  border: .5pt solid var(--sklearn-color-unfitted-level-3);\n",
       "}\n",
       "\n",
       ".sk-estimator-doc-link.fitted span {\n",
       "  /* fitted */\n",
       "  background: var(--sklearn-color-fitted-level-0);\n",
       "  border: var(--sklearn-color-fitted-level-3);\n",
       "}\n",
       "\n",
       ".sk-estimator-doc-link:hover span {\n",
       "  display: block;\n",
       "}\n",
       "\n",
       "/* \"?\"-specific style due to the `<a>` HTML tag */\n",
       "\n",
       "#sk-container-id-8 a.estimator_doc_link {\n",
       "  float: right;\n",
       "  font-size: 1rem;\n",
       "  line-height: 1em;\n",
       "  font-family: monospace;\n",
       "  background-color: var(--sklearn-color-background);\n",
       "  border-radius: 1rem;\n",
       "  height: 1rem;\n",
       "  width: 1rem;\n",
       "  text-decoration: none;\n",
       "  /* unfitted */\n",
       "  color: var(--sklearn-color-unfitted-level-1);\n",
       "  border: var(--sklearn-color-unfitted-level-1) 1pt solid;\n",
       "}\n",
       "\n",
       "#sk-container-id-8 a.estimator_doc_link.fitted {\n",
       "  /* fitted */\n",
       "  border: var(--sklearn-color-fitted-level-1) 1pt solid;\n",
       "  color: var(--sklearn-color-fitted-level-1);\n",
       "}\n",
       "\n",
       "/* On hover */\n",
       "#sk-container-id-8 a.estimator_doc_link:hover {\n",
       "  /* unfitted */\n",
       "  background-color: var(--sklearn-color-unfitted-level-3);\n",
       "  color: var(--sklearn-color-background);\n",
       "  text-decoration: none;\n",
       "}\n",
       "\n",
       "#sk-container-id-8 a.estimator_doc_link.fitted:hover {\n",
       "  /* fitted */\n",
       "  background-color: var(--sklearn-color-fitted-level-3);\n",
       "}\n",
       "\n",
       ".estimator-table summary {\n",
       "    padding: .5rem;\n",
       "    font-family: monospace;\n",
       "    cursor: pointer;\n",
       "}\n",
       "\n",
       ".estimator-table details[open] {\n",
       "    padding-left: 0.1rem;\n",
       "    padding-right: 0.1rem;\n",
       "    padding-bottom: 0.3rem;\n",
       "}\n",
       "\n",
       ".estimator-table .parameters-table {\n",
       "    margin-left: auto !important;\n",
       "    margin-right: auto !important;\n",
       "}\n",
       "\n",
       ".estimator-table .parameters-table tr:nth-child(odd) {\n",
       "    background-color: #fff;\n",
       "}\n",
       "\n",
       ".estimator-table .parameters-table tr:nth-child(even) {\n",
       "    background-color: #f6f6f6;\n",
       "}\n",
       "\n",
       ".estimator-table .parameters-table tr:hover {\n",
       "    background-color: #e0e0e0;\n",
       "}\n",
       "\n",
       ".estimator-table table td {\n",
       "    border: 1px solid rgba(106, 105, 104, 0.232);\n",
       "}\n",
       "\n",
       ".user-set td {\n",
       "    color:rgb(255, 94, 0);\n",
       "    text-align: left;\n",
       "}\n",
       "\n",
       ".user-set td.value pre {\n",
       "    color:rgb(255, 94, 0) !important;\n",
       "    background-color: transparent !important;\n",
       "}\n",
       "\n",
       ".default td {\n",
       "    color: black;\n",
       "    text-align: left;\n",
       "}\n",
       "\n",
       ".user-set td i,\n",
       ".default td i {\n",
       "    color: black;\n",
       "}\n",
       "\n",
       ".copy-paste-icon {\n",
       "    background-image: url(data:image/svg+xml;base64,PHN2ZyB4bWxucz0iaHR0cDovL3d3dy53My5vcmcvMjAwMC9zdmciIHZpZXdCb3g9IjAgMCA0NDggNTEyIj48IS0tIUZvbnQgQXdlc29tZSBGcmVlIDYuNy4yIGJ5IEBmb250YXdlc29tZSAtIGh0dHBzOi8vZm9udGF3ZXNvbWUuY29tIExpY2Vuc2UgLSBodHRwczovL2ZvbnRhd2Vzb21lLmNvbS9saWNlbnNlL2ZyZWUgQ29weXJpZ2h0IDIwMjUgRm9udGljb25zLCBJbmMuLS0+PHBhdGggZD0iTTIwOCAwTDMzMi4xIDBjMTIuNyAwIDI0LjkgNS4xIDMzLjkgMTQuMWw2Ny45IDY3LjljOSA5IDE0LjEgMjEuMiAxNC4xIDMzLjlMNDQ4IDMzNmMwIDI2LjUtMjEuNSA0OC00OCA0OGwtMTkyIDBjLTI2LjUgMC00OC0yMS41LTQ4LTQ4bDAtMjg4YzAtMjYuNSAyMS41LTQ4IDQ4LTQ4ek00OCAxMjhsODAgMCAwIDY0LTY0IDAgMCAyNTYgMTkyIDAgMC0zMiA2NCAwIDAgNDhjMCAyNi41LTIxLjUgNDgtNDggNDhMNDggNTEyYy0yNi41IDAtNDgtMjEuNS00OC00OEwwIDE3NmMwLTI2LjUgMjEuNS00OCA0OC00OHoiLz48L3N2Zz4=);\n",
       "    background-repeat: no-repeat;\n",
       "    background-size: 14px 14px;\n",
       "    background-position: 0;\n",
       "    display: inline-block;\n",
       "    width: 14px;\n",
       "    height: 14px;\n",
       "    cursor: pointer;\n",
       "}\n",
       "</style><body><div id=\"sk-container-id-8\" class=\"sk-top-container\"><div class=\"sk-text-repr-fallback\"><pre>DecisionTreeRegressor(max_depth=6, random_state=57523)</pre><b>In a Jupyter environment, please rerun this cell to show the HTML representation or trust the notebook. <br />On GitHub, the HTML representation is unable to render, please try loading this page with nbviewer.org.</b></div><div class=\"sk-container\" hidden><div class=\"sk-item\"><div class=\"sk-estimator fitted sk-toggleable\"><input class=\"sk-toggleable__control sk-hidden--visually\" id=\"sk-estimator-id-8\" type=\"checkbox\" checked><label for=\"sk-estimator-id-8\" class=\"sk-toggleable__label fitted sk-toggleable__label-arrow\"><div><div>DecisionTreeRegressor</div></div><div><a class=\"sk-estimator-doc-link fitted\" rel=\"noreferrer\" target=\"_blank\" href=\"https://scikit-learn.org/1.7/modules/generated/sklearn.tree.DecisionTreeRegressor.html\">?<span>Documentation for DecisionTreeRegressor</span></a><span class=\"sk-estimator-doc-link fitted\">i<span>Fitted</span></span></div></label><div class=\"sk-toggleable__content fitted\" data-param-prefix=\"\">\n",
       "        <div class=\"estimator-table\">\n",
       "            <details>\n",
       "                <summary>Parameters</summary>\n",
       "                <table class=\"parameters-table\">\n",
       "                  <tbody>\n",
       "                    \n",
       "        <tr class=\"default\">\n",
       "            <td><i class=\"copy-paste-icon\"\n",
       "                 onclick=\"copyToClipboard('criterion',\n",
       "                          this.parentElement.nextElementSibling)\"\n",
       "            ></i></td>\n",
       "            <td class=\"param\">criterion&nbsp;</td>\n",
       "            <td class=\"value\">&#x27;squared_error&#x27;</td>\n",
       "        </tr>\n",
       "    \n",
       "\n",
       "        <tr class=\"default\">\n",
       "            <td><i class=\"copy-paste-icon\"\n",
       "                 onclick=\"copyToClipboard('splitter',\n",
       "                          this.parentElement.nextElementSibling)\"\n",
       "            ></i></td>\n",
       "            <td class=\"param\">splitter&nbsp;</td>\n",
       "            <td class=\"value\">&#x27;best&#x27;</td>\n",
       "        </tr>\n",
       "    \n",
       "\n",
       "        <tr class=\"user-set\">\n",
       "            <td><i class=\"copy-paste-icon\"\n",
       "                 onclick=\"copyToClipboard('max_depth',\n",
       "                          this.parentElement.nextElementSibling)\"\n",
       "            ></i></td>\n",
       "            <td class=\"param\">max_depth&nbsp;</td>\n",
       "            <td class=\"value\">6</td>\n",
       "        </tr>\n",
       "    \n",
       "\n",
       "        <tr class=\"default\">\n",
       "            <td><i class=\"copy-paste-icon\"\n",
       "                 onclick=\"copyToClipboard('min_samples_split',\n",
       "                          this.parentElement.nextElementSibling)\"\n",
       "            ></i></td>\n",
       "            <td class=\"param\">min_samples_split&nbsp;</td>\n",
       "            <td class=\"value\">2</td>\n",
       "        </tr>\n",
       "    \n",
       "\n",
       "        <tr class=\"default\">\n",
       "            <td><i class=\"copy-paste-icon\"\n",
       "                 onclick=\"copyToClipboard('min_samples_leaf',\n",
       "                          this.parentElement.nextElementSibling)\"\n",
       "            ></i></td>\n",
       "            <td class=\"param\">min_samples_leaf&nbsp;</td>\n",
       "            <td class=\"value\">1</td>\n",
       "        </tr>\n",
       "    \n",
       "\n",
       "        <tr class=\"default\">\n",
       "            <td><i class=\"copy-paste-icon\"\n",
       "                 onclick=\"copyToClipboard('min_weight_fraction_leaf',\n",
       "                          this.parentElement.nextElementSibling)\"\n",
       "            ></i></td>\n",
       "            <td class=\"param\">min_weight_fraction_leaf&nbsp;</td>\n",
       "            <td class=\"value\">0.0</td>\n",
       "        </tr>\n",
       "    \n",
       "\n",
       "        <tr class=\"default\">\n",
       "            <td><i class=\"copy-paste-icon\"\n",
       "                 onclick=\"copyToClipboard('max_features',\n",
       "                          this.parentElement.nextElementSibling)\"\n",
       "            ></i></td>\n",
       "            <td class=\"param\">max_features&nbsp;</td>\n",
       "            <td class=\"value\">None</td>\n",
       "        </tr>\n",
       "    \n",
       "\n",
       "        <tr class=\"user-set\">\n",
       "            <td><i class=\"copy-paste-icon\"\n",
       "                 onclick=\"copyToClipboard('random_state',\n",
       "                          this.parentElement.nextElementSibling)\"\n",
       "            ></i></td>\n",
       "            <td class=\"param\">random_state&nbsp;</td>\n",
       "            <td class=\"value\">57523</td>\n",
       "        </tr>\n",
       "    \n",
       "\n",
       "        <tr class=\"default\">\n",
       "            <td><i class=\"copy-paste-icon\"\n",
       "                 onclick=\"copyToClipboard('max_leaf_nodes',\n",
       "                          this.parentElement.nextElementSibling)\"\n",
       "            ></i></td>\n",
       "            <td class=\"param\">max_leaf_nodes&nbsp;</td>\n",
       "            <td class=\"value\">None</td>\n",
       "        </tr>\n",
       "    \n",
       "\n",
       "        <tr class=\"default\">\n",
       "            <td><i class=\"copy-paste-icon\"\n",
       "                 onclick=\"copyToClipboard('min_impurity_decrease',\n",
       "                          this.parentElement.nextElementSibling)\"\n",
       "            ></i></td>\n",
       "            <td class=\"param\">min_impurity_decrease&nbsp;</td>\n",
       "            <td class=\"value\">0.0</td>\n",
       "        </tr>\n",
       "    \n",
       "\n",
       "        <tr class=\"default\">\n",
       "            <td><i class=\"copy-paste-icon\"\n",
       "                 onclick=\"copyToClipboard('ccp_alpha',\n",
       "                          this.parentElement.nextElementSibling)\"\n",
       "            ></i></td>\n",
       "            <td class=\"param\">ccp_alpha&nbsp;</td>\n",
       "            <td class=\"value\">0.0</td>\n",
       "        </tr>\n",
       "    \n",
       "\n",
       "        <tr class=\"default\">\n",
       "            <td><i class=\"copy-paste-icon\"\n",
       "                 onclick=\"copyToClipboard('monotonic_cst',\n",
       "                          this.parentElement.nextElementSibling)\"\n",
       "            ></i></td>\n",
       "            <td class=\"param\">monotonic_cst&nbsp;</td>\n",
       "            <td class=\"value\">None</td>\n",
       "        </tr>\n",
       "    \n",
       "                  </tbody>\n",
       "                </table>\n",
       "            </details>\n",
       "        </div>\n",
       "    </div></div></div></div></div><script>function copyToClipboard(text, element) {\n",
       "    // Get the parameter prefix from the closest toggleable content\n",
       "    const toggleableContent = element.closest('.sk-toggleable__content');\n",
       "    const paramPrefix = toggleableContent ? toggleableContent.dataset.paramPrefix : '';\n",
       "    const fullParamName = paramPrefix ? `${paramPrefix}${text}` : text;\n",
       "\n",
       "    const originalStyle = element.style;\n",
       "    const computedStyle = window.getComputedStyle(element);\n",
       "    const originalWidth = computedStyle.width;\n",
       "    const originalHTML = element.innerHTML.replace('Copied!', '');\n",
       "\n",
       "    navigator.clipboard.writeText(fullParamName)\n",
       "        .then(() => {\n",
       "            element.style.width = originalWidth;\n",
       "            element.style.color = 'green';\n",
       "            element.innerHTML = \"Copied!\";\n",
       "\n",
       "            setTimeout(() => {\n",
       "                element.innerHTML = originalHTML;\n",
       "                element.style = originalStyle;\n",
       "            }, 2000);\n",
       "        })\n",
       "        .catch(err => {\n",
       "            console.error('Failed to copy:', err);\n",
       "            element.style.color = 'red';\n",
       "            element.innerHTML = \"Failed!\";\n",
       "            setTimeout(() => {\n",
       "                element.innerHTML = originalHTML;\n",
       "                element.style = originalStyle;\n",
       "            }, 2000);\n",
       "        });\n",
       "    return false;\n",
       "}\n",
       "\n",
       "document.querySelectorAll('.fa-regular.fa-copy').forEach(function(element) {\n",
       "    const toggleableContent = element.closest('.sk-toggleable__content');\n",
       "    const paramPrefix = toggleableContent ? toggleableContent.dataset.paramPrefix : '';\n",
       "    const paramName = element.parentElement.nextElementSibling.textContent.trim();\n",
       "    const fullParamName = paramPrefix ? `${paramPrefix}${paramName}` : paramName;\n",
       "\n",
       "    element.setAttribute('title', fullParamName);\n",
       "});\n",
       "</script></body>"
      ],
      "text/plain": [
       "DecisionTreeRegressor(max_depth=6, random_state=57523)"
      ]
     },
     "execution_count": 46,
     "metadata": {},
     "output_type": "execute_result"
    }
   ],
   "source": [
    "X = df.columns.drop(['User_ID', 'Gender', 'Calories'])\n",
    "target = 'Calories'\n",
    "train, valid = train_test_split(df, train_size=0.7, random_state=76513)\n",
    "valid, test = train_test_split(valid, train_size=0.5, random_state=97645)\n",
    "\n",
    "X_train = train[X]\n",
    "y_train = train[target]\n",
    "\n",
    "X_valid = valid[X]\n",
    "y_valid = valid[target]\n",
    "\n",
    "X_test = test[X]\n",
    "y_test = test[target]\n",
    "\n",
    "lm = LinearRegression()\n",
    "\n",
    "lm.fit(X_train, y_train)\n",
    "\n",
    "RANDOM_STATE = 57523\n",
    "dt = DecisionTreeRegressor(max_depth=6, criterion='squared_error', random_state=RANDOM_STATE)\n",
    "dt.fit(X_train, y_train)"
   ]
  },
  {
   "cell_type": "code",
   "execution_count": 47,
   "id": "e32e9e9a",
   "metadata": {},
   "outputs": [
    {
     "data": {
      "application/vnd.microsoft.datawrangler.viewer.v0+json": {
       "columns": [
        {
         "name": "index",
         "rawType": "object",
         "type": "string"
        },
        {
         "name": "MSE",
         "rawType": "float64",
         "type": "float"
        },
        {
         "name": "RMSE",
         "rawType": "float64",
         "type": "float"
        },
        {
         "name": "MAE",
         "rawType": "float64",
         "type": "float"
        },
        {
         "name": "R2",
         "rawType": "float64",
         "type": "float"
        }
       ],
       "ref": "101c8e06-311a-40e2-82ed-df335facf47f",
       "rows": [
        [
         "LinReg_train",
         "128.78240677637322",
         "11.348233641248898",
         "8.376643637860328",
         "0.9670372050242133"
        ],
        [
         "LinReg_valid",
         "131.3622136886543",
         "11.461335597942078",
         "8.462665445370193",
         "0.9655335944472024"
        ],
        [
         "LinReg_test",
         "120.85156582853168",
         "10.993250921748839",
         "8.156444361662581",
         "0.9694517306404609"
        ],
        [
         "DT_train",
         "91.90948598167085",
         "9.586943516140629",
         "6.862928291506877",
         "0.9764750976582961"
        ],
        [
         "DT_valid",
         "110.72618057423264",
         "10.522650833997707",
         "7.598612917182404",
         "0.9709480120818532"
        ],
        [
         "DT_test",
         "100.82479306453423",
         "10.041154966662662",
         "7.218829815119089",
         "0.974514000579643"
        ]
       ],
       "shape": {
        "columns": 4,
        "rows": 6
       }
      },
      "text/html": [
       "<div>\n",
       "<style scoped>\n",
       "    .dataframe tbody tr th:only-of-type {\n",
       "        vertical-align: middle;\n",
       "    }\n",
       "\n",
       "    .dataframe tbody tr th {\n",
       "        vertical-align: top;\n",
       "    }\n",
       "\n",
       "    .dataframe thead th {\n",
       "        text-align: right;\n",
       "    }\n",
       "</style>\n",
       "<table border=\"1\" class=\"dataframe\">\n",
       "  <thead>\n",
       "    <tr style=\"text-align: right;\">\n",
       "      <th></th>\n",
       "      <th>MSE</th>\n",
       "      <th>RMSE</th>\n",
       "      <th>MAE</th>\n",
       "      <th>R2</th>\n",
       "    </tr>\n",
       "  </thead>\n",
       "  <tbody>\n",
       "    <tr>\n",
       "      <th>LinReg_train</th>\n",
       "      <td>128.782407</td>\n",
       "      <td>11.348234</td>\n",
       "      <td>8.376644</td>\n",
       "      <td>0.967037</td>\n",
       "    </tr>\n",
       "    <tr>\n",
       "      <th>LinReg_valid</th>\n",
       "      <td>131.362214</td>\n",
       "      <td>11.461336</td>\n",
       "      <td>8.462665</td>\n",
       "      <td>0.965534</td>\n",
       "    </tr>\n",
       "    <tr>\n",
       "      <th>LinReg_test</th>\n",
       "      <td>120.851566</td>\n",
       "      <td>10.993251</td>\n",
       "      <td>8.156444</td>\n",
       "      <td>0.969452</td>\n",
       "    </tr>\n",
       "    <tr>\n",
       "      <th>DT_train</th>\n",
       "      <td>91.909486</td>\n",
       "      <td>9.586944</td>\n",
       "      <td>6.862928</td>\n",
       "      <td>0.976475</td>\n",
       "    </tr>\n",
       "    <tr>\n",
       "      <th>DT_valid</th>\n",
       "      <td>110.726181</td>\n",
       "      <td>10.522651</td>\n",
       "      <td>7.598613</td>\n",
       "      <td>0.970948</td>\n",
       "    </tr>\n",
       "    <tr>\n",
       "      <th>DT_test</th>\n",
       "      <td>100.824793</td>\n",
       "      <td>10.041155</td>\n",
       "      <td>7.218830</td>\n",
       "      <td>0.974514</td>\n",
       "    </tr>\n",
       "  </tbody>\n",
       "</table>\n",
       "</div>"
      ],
      "text/plain": [
       "                     MSE       RMSE       MAE        R2\n",
       "LinReg_train  128.782407  11.348234  8.376644  0.967037\n",
       "LinReg_valid  131.362214  11.461336  8.462665  0.965534\n",
       "LinReg_test   120.851566  10.993251  8.156444  0.969452\n",
       "DT_train       91.909486   9.586944  6.862928  0.976475\n",
       "DT_valid      110.726181  10.522651  7.598613  0.970948\n",
       "DT_test       100.824793  10.041155  7.218830  0.974514"
      ]
     },
     "execution_count": 47,
     "metadata": {},
     "output_type": "execute_result"
    }
   ],
   "source": [
    "def get_metric(y_true, y_pred, model_name, subset='train'):\n",
    "    \n",
    "    mae = mean_absolute_error(y_true, y_pred)\n",
    "    mse = mean_squared_error(y_true, y_pred)\n",
    "    r2 = r2_score(y_true, y_pred)\n",
    "    return pd.DataFrame({\n",
    "        'MSE': [mse],\n",
    "        'RMSE': [mse  ** (1 / 2)],\n",
    "        'MAE': [mae],\n",
    "        'R2': [r2]\n",
    "    }, index=[f'{model_name}_{subset}'])\n",
    "\n",
    "model_metrics = pd.concat([\n",
    "    get_metric(y_train, lm.predict(X_train), 'LinReg', 'train'),\n",
    "    get_metric(y_valid, lm.predict(X_valid), 'LinReg', 'valid'),\n",
    "    get_metric(y_test, lm.predict(X_test), 'LinReg', 'test'),\n",
    "    \n",
    "    get_metric(y_train, dt.predict(X_train), 'DT', 'train'),\n",
    "    get_metric(y_valid, dt.predict(X_valid), 'DT', 'valid'),\n",
    "    get_metric(y_test, dt.predict(X_test), 'DT', 'test'),\n",
    "])\n",
    "model_metrics"
   ]
  },
  {
   "cell_type": "markdown",
   "id": "8849c000",
   "metadata": {},
   "source": [
    "Обе модели хорошо предсказывают целевую переменную (коэффициент детерминации $R^2$ > 0.95 для обеих моделей на всех подвыборках), но средняя ошибка  ниже для дерева решения.\n",
    "\n",
    "Проверим распределение предсказанных и истинных значений с помощью графиков"
   ]
  },
  {
   "cell_type": "code",
   "execution_count": 48,
   "id": "926cbd8f",
   "metadata": {},
   "outputs": [
    {
     "data": {
      "image/png": "[encoded data removed]",
      "text/plain": [
       "<Figure size 800x400 with 2 Axes>"
      ]
     },
     "metadata": {},
     "output_type": "display_data"
    },
    {
     "data": {
      "image/png": "[encoded data removed]",
      "text/plain": [
       "<Figure size 800x400 with 2 Axes>"
      ]
     },
     "metadata": {},
     "output_type": "display_data"
    },
    {
     "data": {
      "image/png": "[encoded data removed]",
      "text/plain": [
       "<Figure size 800x400 with 2 Axes>"
      ]
     },
     "metadata": {},
     "output_type": "display_data"
    },
    {
     "data": {
      "image/png": "[encoded data removed]",
      "text/plain": [
       "<Figure size 800x400 with 2 Axes>"
      ]
     },
     "metadata": {},
     "output_type": "display_data"
    }
   ],
   "source": [
    "def pred_plot(y_true, y_pred, model_name):\n",
    "    fig, ax = plt.subplots(1, 2, figsize=(8, 4))\n",
    "    sns.scatterplot(x=y_true, y=y_pred, ax=ax[0])\n",
    "    sns.lineplot(x=y_true, y=y_true, ax=ax[0])\n",
    "    sns.histplot(x=y_true, label='true', ax=ax[1])\n",
    "    sns.histplot(x=y_pred, label='pred', ax=ax[1])\n",
    "    fig.suptitle(model_name)\n",
    "    plt.legend()\n",
    "    plt.show()\n",
    "\n",
    "pred_plot(y_valid, lm.predict(X_valid), 'LinReg (valid)')\n",
    "pred_plot(y_test, lm.predict(X_test), 'LinReg (test)')\n",
    "pred_plot(y_valid, dt.predict(X_valid), 'DT (valid)')\n",
    "pred_plot(y_test, dt.predict(X_test), 'DT (test)')\n"
   ]
  },
  {
   "cell_type": "markdown",
   "id": "3bdc23d3",
   "metadata": {},
   "source": [
    "В первой колонке графиков по оси X отмечены истинные значения, по оси Y- предсказанные, чем ближе этот график к прямой, тем меньше ошибка модели.\n",
    "Во второй отображено распределение предсказанных и истинных значений, чтобы проверить какие значения выдает модель.\n",
    "\n",
    "Для линейной модели получили отрицательные значения переменной."
   ]
  },
  {
   "cell_type": "code",
   "execution_count": 49,
   "id": "cb150f36",
   "metadata": {},
   "outputs": [
    {
     "name": "stdout",
     "output_type": "stream",
     "text": [
      "LinReg[Calories < 0]: 729\n"
     ]
    }
   ],
   "source": [
    "print(f'LinReg[Calories < 0]: {(lm.predict(df[X]) < 0).astype(int).sum()}')"
   ]
  },
  {
   "cell_type": "markdown",
   "id": "46e48d30",
   "metadata": {},
   "source": [
    "### Feature Importance\n",
    "\n",
    "Выведем коэффициенты при признаках для линейно модели и feature_imortance для дерева решений"
   ]
  },
  {
   "cell_type": "code",
   "execution_count": 50,
   "id": "f39c76b2",
   "metadata": {},
   "outputs": [
    {
     "data": {
      "application/vnd.microsoft.datawrangler.viewer.v0+json": {
       "columns": [
        {
         "name": "index",
         "rawType": "int64",
         "type": "integer"
        },
        {
         "name": "feature",
         "rawType": "object",
         "type": "string"
        },
        {
         "name": "lm_coef",
         "rawType": "float64",
         "type": "float"
        },
        {
         "name": "dt_importance",
         "rawType": "float64",
         "type": "float"
        }
       ],
       "ref": "f58f518b-986c-4c8a-99fa-9716b2be27d3",
       "rows": [
        [
         "3",
         "Duration",
         "6.6318",
         "0.9329"
        ],
        [
         "4",
         "Heart_Rate",
         "1.9953",
         "0.0393"
        ],
        [
         "0",
         "Age",
         "0.503",
         "0.0214"
        ],
        [
         "6",
         "gender_bin",
         "-1.2957",
         "0.0063"
        ],
        [
         "2",
         "Weight",
         "0.294",
         "0.0001"
        ],
        [
         "1",
         "Height",
         "-0.1691",
         "0.0"
        ],
        [
         "5",
         "Body_Temp",
         "-16.8569",
         "0.0"
        ]
       ],
       "shape": {
        "columns": 3,
        "rows": 7
       }
      },
      "text/html": [
       "<div>\n",
       "<style scoped>\n",
       "    .dataframe tbody tr th:only-of-type {\n",
       "        vertical-align: middle;\n",
       "    }\n",
       "\n",
       "    .dataframe tbody tr th {\n",
       "        vertical-align: top;\n",
       "    }\n",
       "\n",
       "    .dataframe thead th {\n",
       "        text-align: right;\n",
       "    }\n",
       "</style>\n",
       "<table border=\"1\" class=\"dataframe\">\n",
       "  <thead>\n",
       "    <tr style=\"text-align: right;\">\n",
       "      <th></th>\n",
       "      <th>feature</th>\n",
       "      <th>lm_coef</th>\n",
       "      <th>dt_importance</th>\n",
       "    </tr>\n",
       "  </thead>\n",
       "  <tbody>\n",
       "    <tr>\n",
       "      <th>3</th>\n",
       "      <td>Duration</td>\n",
       "      <td>6.6318</td>\n",
       "      <td>0.9329</td>\n",
       "    </tr>\n",
       "    <tr>\n",
       "      <th>4</th>\n",
       "      <td>Heart_Rate</td>\n",
       "      <td>1.9953</td>\n",
       "      <td>0.0393</td>\n",
       "    </tr>\n",
       "    <tr>\n",
       "      <th>0</th>\n",
       "      <td>Age</td>\n",
       "      <td>0.5030</td>\n",
       "      <td>0.0214</td>\n",
       "    </tr>\n",
       "    <tr>\n",
       "      <th>6</th>\n",
       "      <td>gender_bin</td>\n",
       "      <td>-1.2957</td>\n",
       "      <td>0.0063</td>\n",
       "    </tr>\n",
       "    <tr>\n",
       "      <th>2</th>\n",
       "      <td>Weight</td>\n",
       "      <td>0.2940</td>\n",
       "      <td>0.0001</td>\n",
       "    </tr>\n",
       "    <tr>\n",
       "      <th>1</th>\n",
       "      <td>Height</td>\n",
       "      <td>-0.1691</td>\n",
       "      <td>0.0000</td>\n",
       "    </tr>\n",
       "    <tr>\n",
       "      <th>5</th>\n",
       "      <td>Body_Temp</td>\n",
       "      <td>-16.8569</td>\n",
       "      <td>0.0000</td>\n",
       "    </tr>\n",
       "  </tbody>\n",
       "</table>\n",
       "</div>"
      ],
      "text/plain": [
       "      feature  lm_coef  dt_importance\n",
       "3    Duration   6.6318         0.9329\n",
       "4  Heart_Rate   1.9953         0.0393\n",
       "0         Age   0.5030         0.0214\n",
       "6  gender_bin  -1.2957         0.0063\n",
       "2      Weight   0.2940         0.0001\n",
       "1      Height  -0.1691         0.0000\n",
       "5   Body_Temp -16.8569         0.0000"
      ]
     },
     "execution_count": 50,
     "metadata": {},
     "output_type": "execute_result"
    }
   ],
   "source": [
    "fi = pd.DataFrame({\n",
    "    'feature': X,\n",
    "    'lm_coef':lm.coef_,\n",
    "    'dt_importance':dt.feature_importances_\n",
    "})\n",
    "fi.sort_values('dt_importance', ascending=False).round(4)"
   ]
  },
  {
   "cell_type": "code",
   "execution_count": 51,
   "id": "303c9f9e",
   "metadata": {},
   "outputs": [
    {
     "name": "stdout",
     "output_type": "stream",
     "text": [
      "Intercept:457.17863343543854\n"
     ]
    }
   ],
   "source": [
    "print(f'Intercept:{lm.intercept_}')"
   ]
  },
  {
   "cell_type": "markdown",
   "id": "315497ad",
   "metadata": {},
   "source": [
    "- Для обеих моделей получили, что наибольший вклад вносит Duration\n",
    "- Height и Body_Temp для дерева решений имеет feature_imoportance = 0\n",
    "- Для линейной модели свободный член (Intercept) принял слишком большое значение относительно диапазона значений целевой переменной "
   ]
  },
  {
   "cell_type": "markdown",
   "id": "56c963f3",
   "metadata": {},
   "source": [
    "## Отбор признаков"
   ]
  },
  {
   "cell_type": "markdown",
   "id": "743b236d",
   "metadata": {},
   "source": [
    "### Преобразование выоскокоррелированных признаков\n",
    "- Преобразуем Height И Weight к индексу массы тела (BMI)\n",
    "- Удалим из выборки Body_Temp и Heart_Rate, т.к. эти признаки высоко коррелируют с Duration"
   ]
  },
  {
   "cell_type": "code",
   "execution_count": 52,
   "id": "bb1f414d",
   "metadata": {},
   "outputs": [
    {
     "data": {
      "text/plain": [
       "Index(['User_ID', 'Gender', 'Age', 'Height', 'Weight', 'Duration',\n",
       "       'Heart_Rate', 'Body_Temp', 'Calories', 'gender_bin'],\n",
       "      dtype='object')"
      ]
     },
     "execution_count": 52,
     "metadata": {},
     "output_type": "execute_result"
    }
   ],
   "source": [
    "df.columns"
   ]
  },
  {
   "cell_type": "code",
   "execution_count": 53,
   "id": "2a356ac1",
   "metadata": {},
   "outputs": [
    {
     "data": {
      "text/plain": [
       "Index(['Age', 'BMI', 'Duration', 'gender_bin'], dtype='object')"
      ]
     },
     "execution_count": 53,
     "metadata": {},
     "output_type": "execute_result"
    }
   ],
   "source": [
    "train['BMI'] = train['Weight'] / (train['Height']) ** 2\n",
    "valid['BMI'] = valid['Weight'] / (valid['Height']) ** 2\n",
    "test['BMI'] = test['Weight'] / (test['Height']) ** 2\n",
    "X1 = X.drop(['Weight', 'Height', 'Body_Temp', 'Heart_Rate'])\n",
    "X1 =X1.union(pd.Index(['BMI']))\n",
    "X1"
   ]
  },
  {
   "attachments": {
    "image.png": {
     "image/png": "[encoded data removed]"
    }
   },
   "cell_type": "markdown",
   "id": "c91ca888",
   "metadata": {},
   "source": [
    "### Жадный алгоритм\n",
    "![image.png](attachment:image.png)\n",
    "\n",
    "Жадный алгоритм будем тестировать на двух датасетах, т.к. признаков не очень много в первом 7, во втором - 4.\n",
    "\n",
    "Можем выбрать $N=1$. \n",
    "Всего придется перебрать $2^7$ вариантов в первом случа и $2^4$ во втором.\n",
    "\n",
    "Замерять точность будем на валидационной выборке"
   ]
  },
  {
   "cell_type": "code",
   "execution_count": 59,
   "id": "dc597b1c",
   "metadata": {},
   "outputs": [],
   "source": [
    "def greed_feature_selection(train, valid,  columns, target):\n",
    "    subsets = [list(comb) for i in range(1, columns.size +1) for comb in combinations(columns, i)]\n",
    "    metrics = []\n",
    "    for i, subset in enumerate(subsets):\n",
    "        dt = DecisionTreeRegressor(max_depth=6, criterion='squared_error', random_state=RANDOM_STATE)\n",
    "        X_train = train[subset]\n",
    "        y_train = train[target]\n",
    "        X_valid = valid[subset]\n",
    "        y_valid = valid[target]\n",
    "\n",
    "        dt.fit(X_train, y_train)\n",
    "        metrics.append(get_metric(y_valid, dt.predict(X_valid), f'DT_{i + 1}', 'valid'))\n",
    "    metrics = pd.concat(metrics)\n",
    "    metrics['feature_list'] = subsets\n",
    "    metrics['feature_cnt'] = [len(subset) for subset in subsets]\n",
    "    return metrics.round(6)"
   ]
  },
  {
   "cell_type": "code",
   "execution_count": 60,
   "id": "54122586",
   "metadata": {},
   "outputs": [
    {
     "data": {
      "application/vnd.microsoft.datawrangler.viewer.v0+json": {
       "columns": [
        {
         "name": "index",
         "rawType": "object",
         "type": "string"
        },
        {
         "name": "MSE",
         "rawType": "float64",
         "type": "float"
        },
        {
         "name": "RMSE",
         "rawType": "float64",
         "type": "float"
        },
        {
         "name": "MAE",
         "rawType": "float64",
         "type": "float"
        },
        {
         "name": "R2",
         "rawType": "float64",
         "type": "float"
        },
        {
         "name": "feature_list",
         "rawType": "object",
         "type": "unknown"
        },
        {
         "name": "feature_cnt",
         "rawType": "int64",
         "type": "integer"
        }
       ],
       "ref": "c97d3e21-7e79-417e-b27a-7230594f3c83",
       "rows": [
        [
         "DT_113_valid",
         "110.447836",
         "10.509417",
         "7.587408",
         "0.971021",
         "['Age', 'Duration', 'Heart_Rate', 'Body_Temp', 'gender_bin']",
         "5"
        ],
        [
         "DT_81_valid",
         "110.447836",
         "10.509417",
         "7.587408",
         "0.971021",
         "['Age', 'Duration', 'Heart_Rate', 'gender_bin']",
         "4"
        ],
        [
         "DT_124_valid",
         "110.627987",
         "10.517984",
         "7.595362",
         "0.970974",
         "['Age', 'Height', 'Duration', 'Heart_Rate', 'Body_Temp', 'gender_bin']",
         "6"
        ],
        [
         "DT_106_valid",
         "110.627987",
         "10.517984",
         "7.595362",
         "0.970974",
         "['Age', 'Height', 'Duration', 'Heart_Rate', 'gender_bin']",
         "5"
        ],
        [
         "DT_127_valid",
         "110.726181",
         "10.522651",
         "7.598613",
         "0.970948",
         "['Age', 'Height', 'Weight', 'Duration', 'Heart_Rate', 'Body_Temp', 'gender_bin']",
         "7"
        ],
        [
         "DT_121_valid",
         "110.726181",
         "10.522651",
         "7.598613",
         "0.970948",
         "['Age', 'Height', 'Weight', 'Duration', 'Heart_Rate', 'gender_bin']",
         "6"
        ],
        [
         "DT_125_valid",
         "110.726181",
         "10.522651",
         "7.598613",
         "0.970948",
         "['Age', 'Weight', 'Duration', 'Heart_Rate', 'Body_Temp', 'gender_bin']",
         "6"
        ],
        [
         "DT_110_valid",
         "110.726181",
         "10.522651",
         "7.598613",
         "0.970948",
         "['Age', 'Weight', 'Duration', 'Heart_Rate', 'gender_bin']",
         "5"
        ],
        [
         "DT_120_valid",
         "116.643233",
         "10.80015",
         "7.781184",
         "0.969396",
         "['Age', 'Height', 'Weight', 'Duration', 'Heart_Rate', 'Body_Temp']",
         "6"
        ],
        [
         "DT_109_valid",
         "116.643233",
         "10.80015",
         "7.781184",
         "0.969396",
         "['Age', 'Weight', 'Duration', 'Heart_Rate', 'Body_Temp']",
         "5"
        ],
        [
         "DT_74_valid",
         "116.643233",
         "10.80015",
         "7.781184",
         "0.969396",
         "['Age', 'Weight', 'Duration', 'Heart_Rate']",
         "4"
        ],
        [
         "DT_99_valid",
         "116.643233",
         "10.80015",
         "7.781184",
         "0.969396",
         "['Age', 'Height', 'Weight', 'Duration', 'Heart_Rate']",
         "5"
        ],
        [
         "DT_105_valid",
         "120.741636",
         "10.98825",
         "7.850591",
         "0.96832",
         "['Age', 'Height', 'Duration', 'Heart_Rate', 'Body_Temp']",
         "5"
        ],
        [
         "DT_68_valid",
         "120.741636",
         "10.98825",
         "7.850591",
         "0.96832",
         "['Age', 'Height', 'Duration', 'Heart_Rate']",
         "4"
        ],
        [
         "DT_38_valid",
         "128.183906",
         "11.321833",
         "8.107628",
         "0.966368",
         "['Age', 'Duration', 'Heart_Rate']",
         "3"
        ],
        [
         "DT_80_valid",
         "128.183906",
         "11.321833",
         "8.107628",
         "0.966368",
         "['Age', 'Duration', 'Heart_Rate', 'Body_Temp']",
         "4"
        ],
        [
         "DT_98_valid",
         "180.127749",
         "13.421168",
         "9.239749",
         "0.952739",
         "['Duration', 'Heart_Rate', 'Body_Temp', 'gender_bin']",
         "4"
        ],
        [
         "DT_60_valid",
         "182.471783",
         "13.508212",
         "9.247785",
         "0.952124",
         "['Duration', 'Heart_Rate', 'Body_Temp']",
         "3"
        ],
        [
         "DT_61_valid",
         "180.368125",
         "13.43012",
         "9.255328",
         "0.952676",
         "['Duration', 'Heart_Rate', 'gender_bin']",
         "3"
        ],
        [
         "DT_23_valid",
         "182.712159",
         "13.517106",
         "9.263364",
         "0.952061",
         "['Duration', 'Heart_Rate']",
         "2"
        ],
        [
         "DT_118_valid",
         "181.152397",
         "13.459287",
         "9.268282",
         "0.95247",
         "['Height', 'Duration', 'Heart_Rate', 'Body_Temp', 'gender_bin']",
         "5"
        ],
        [
         "DT_91_valid",
         "181.847706",
         "13.485092",
         "9.283948",
         "0.952287",
         "['Height', 'Duration', 'Heart_Rate', 'gender_bin']",
         "4"
        ],
        [
         "DT_126_valid",
         "183.156301",
         "13.533525",
         "9.361079",
         "0.951944",
         "['Height', 'Weight', 'Duration', 'Heart_Rate', 'Body_Temp', 'gender_bin']",
         "6"
        ],
        [
         "DT_119_valid",
         "183.156301",
         "13.533525",
         "9.361079",
         "0.951944",
         "['Weight', 'Duration', 'Heart_Rate', 'Body_Temp', 'gender_bin']",
         "5"
        ],
        [
         "DT_90_valid",
         "186.893676",
         "13.670906",
         "9.373781",
         "0.950963",
         "['Height', 'Duration', 'Heart_Rate', 'Body_Temp']",
         "4"
        ],
        [
         "DT_114_valid",
         "183.198269",
         "13.535076",
         "9.375166",
         "0.951933",
         "['Height', 'Weight', 'Duration', 'Heart_Rate', 'Body_Temp']",
         "5"
        ],
        [
         "DT_94_valid",
         "183.198269",
         "13.535076",
         "9.375166",
         "0.951933",
         "['Weight', 'Duration', 'Heart_Rate', 'Body_Temp']",
         "4"
        ],
        [
         "DT_95_valid",
         "183.396678",
         "13.542403",
         "9.376658",
         "0.951881",
         "['Weight', 'Duration', 'Heart_Rate', 'gender_bin']",
         "4"
        ],
        [
         "DT_115_valid",
         "183.85161",
         "13.559189",
         "9.376745",
         "0.951762",
         "['Height', 'Weight', 'Duration', 'Heart_Rate', 'gender_bin']",
         "5"
        ],
        [
         "DT_48_valid",
         "187.588985",
         "13.696313",
         "9.389448",
         "0.950781",
         "['Height', 'Duration', 'Heart_Rate']",
         "3"
        ],
        [
         "DT_54_valid",
         "183.438646",
         "13.543952",
         "9.390745",
         "0.95187",
         "['Weight', 'Duration', 'Heart_Rate']",
         "3"
        ],
        [
         "DT_84_valid",
         "183.893578",
         "13.560737",
         "9.390833",
         "0.951751",
         "['Height', 'Weight', 'Duration', 'Heart_Rate']",
         "4"
        ],
        [
         "DT_70_valid",
         "185.510274",
         "13.620216",
         "9.566411",
         "0.951326",
         "['Age', 'Height', 'Duration', 'gender_bin']",
         "4"
        ],
        [
         "DT_107_valid",
         "185.510274",
         "13.620216",
         "9.566411",
         "0.951326",
         "['Age', 'Height', 'Duration', 'Body_Temp', 'gender_bin']",
         "5"
        ],
        [
         "DT_101_valid",
         "185.66969",
         "13.626067",
         "9.573624",
         "0.951285",
         "['Age', 'Height', 'Weight', 'Duration', 'gender_bin']",
         "5"
        ],
        [
         "DT_122_valid",
         "185.66969",
         "13.626067",
         "9.573624",
         "0.951285",
         "['Age', 'Height', 'Weight', 'Duration', 'Body_Temp', 'gender_bin']",
         "6"
        ],
        [
         "DT_111_valid",
         "185.66969",
         "13.626067",
         "9.573624",
         "0.951285",
         "['Age', 'Weight', 'Duration', 'Body_Temp', 'gender_bin']",
         "5"
        ],
        [
         "DT_76_valid",
         "185.66969",
         "13.626067",
         "9.573624",
         "0.951285",
         "['Age', 'Weight', 'Duration', 'gender_bin']",
         "4"
        ],
        [
         "DT_40_valid",
         "184.798081",
         "13.594046",
         "9.576453",
         "0.951513",
         "['Age', 'Duration', 'gender_bin']",
         "3"
        ],
        [
         "DT_82_valid",
         "184.798081",
         "13.594046",
         "9.576453",
         "0.951513",
         "['Age', 'Duration', 'Body_Temp', 'gender_bin']",
         "4"
        ],
        [
         "DT_100_valid",
         "195.838738",
         "13.994239",
         "9.789203",
         "0.948616",
         "['Age', 'Height', 'Weight', 'Duration', 'Body_Temp']",
         "5"
        ],
        [
         "DT_64_valid",
         "195.838738",
         "13.994239",
         "9.789203",
         "0.948616",
         "['Age', 'Height', 'Weight', 'Duration']",
         "4"
        ],
        [
         "DT_34_valid",
         "197.810261",
         "14.064504",
         "9.820656",
         "0.948099",
         "['Age', 'Weight', 'Duration']",
         "3"
        ],
        [
         "DT_75_valid",
         "197.810261",
         "14.064504",
         "9.820656",
         "0.948099",
         "['Age', 'Weight', 'Duration', 'Body_Temp']",
         "4"
        ],
        [
         "DT_69_valid",
         "203.217869",
         "14.255451",
         "9.933281",
         "0.94668",
         "['Age', 'Height', 'Duration', 'Body_Temp']",
         "4"
        ],
        [
         "DT_30_valid",
         "203.217869",
         "14.255451",
         "9.933281",
         "0.94668",
         "['Age', 'Height', 'Duration']",
         "3"
        ],
        [
         "DT_10_valid",
         "207.688967",
         "14.411418",
         "10.038901",
         "0.945507",
         "['Age', 'Duration']",
         "2"
        ],
        [
         "DT_39_valid",
         "208.219614",
         "14.429817",
         "10.044951",
         "0.945368",
         "['Age', 'Duration', 'Body_Temp']",
         "3"
        ],
        [
         "DT_56_valid",
         "280.973607",
         "16.762267",
         "11.596267",
         "0.926279",
         "['Weight', 'Duration', 'gender_bin']",
         "3"
        ],
        [
         "DT_96_valid",
         "280.821505",
         "16.75773",
         "11.602536",
         "0.926319",
         "['Weight', 'Duration', 'Body_Temp', 'gender_bin']",
         "4"
        ]
       ],
       "shape": {
        "columns": 6,
        "rows": 127
       }
      },
      "text/html": [
       "<div>\n",
       "<style scoped>\n",
       "    .dataframe tbody tr th:only-of-type {\n",
       "        vertical-align: middle;\n",
       "    }\n",
       "\n",
       "    .dataframe tbody tr th {\n",
       "        vertical-align: top;\n",
       "    }\n",
       "\n",
       "    .dataframe thead th {\n",
       "        text-align: right;\n",
       "    }\n",
       "</style>\n",
       "<table border=\"1\" class=\"dataframe\">\n",
       "  <thead>\n",
       "    <tr style=\"text-align: right;\">\n",
       "      <th></th>\n",
       "      <th>MSE</th>\n",
       "      <th>RMSE</th>\n",
       "      <th>MAE</th>\n",
       "      <th>R2</th>\n",
       "      <th>feature_list</th>\n",
       "      <th>feature_cnt</th>\n",
       "    </tr>\n",
       "  </thead>\n",
       "  <tbody>\n",
       "    <tr>\n",
       "      <th>DT_113_valid</th>\n",
       "      <td>110.447836</td>\n",
       "      <td>10.509417</td>\n",
       "      <td>7.587408</td>\n",
       "      <td>0.971021</td>\n",
       "      <td>[Age, Duration, Heart_Rate, Body_Temp, gender_...</td>\n",
       "      <td>5</td>\n",
       "    </tr>\n",
       "    <tr>\n",
       "      <th>DT_81_valid</th>\n",
       "      <td>110.447836</td>\n",
       "      <td>10.509417</td>\n",
       "      <td>7.587408</td>\n",
       "      <td>0.971021</td>\n",
       "      <td>[Age, Duration, Heart_Rate, gender_bin]</td>\n",
       "      <td>4</td>\n",
       "    </tr>\n",
       "    <tr>\n",
       "      <th>DT_124_valid</th>\n",
       "      <td>110.627987</td>\n",
       "      <td>10.517984</td>\n",
       "      <td>7.595362</td>\n",
       "      <td>0.970974</td>\n",
       "      <td>[Age, Height, Duration, Heart_Rate, Body_Temp,...</td>\n",
       "      <td>6</td>\n",
       "    </tr>\n",
       "    <tr>\n",
       "      <th>DT_106_valid</th>\n",
       "      <td>110.627987</td>\n",
       "      <td>10.517984</td>\n",
       "      <td>7.595362</td>\n",
       "      <td>0.970974</td>\n",
       "      <td>[Age, Height, Duration, Heart_Rate, gender_bin]</td>\n",
       "      <td>5</td>\n",
       "    </tr>\n",
       "    <tr>\n",
       "      <th>DT_127_valid</th>\n",
       "      <td>110.726181</td>\n",
       "      <td>10.522651</td>\n",
       "      <td>7.598613</td>\n",
       "      <td>0.970948</td>\n",
       "      <td>[Age, Height, Weight, Duration, Heart_Rate, Bo...</td>\n",
       "      <td>7</td>\n",
       "    </tr>\n",
       "    <tr>\n",
       "      <th>...</th>\n",
       "      <td>...</td>\n",
       "      <td>...</td>\n",
       "      <td>...</td>\n",
       "      <td>...</td>\n",
       "      <td>...</td>\n",
       "      <td>...</td>\n",
       "    </tr>\n",
       "    <tr>\n",
       "      <th>DT_2_valid</th>\n",
       "      <td>3828.954221</td>\n",
       "      <td>61.878544</td>\n",
       "      <td>52.313718</td>\n",
       "      <td>-0.004629</td>\n",
       "      <td>[Height]</td>\n",
       "      <td>1</td>\n",
       "    </tr>\n",
       "    <tr>\n",
       "      <th>DT_3_valid</th>\n",
       "      <td>3838.560321</td>\n",
       "      <td>61.956116</td>\n",
       "      <td>52.360694</td>\n",
       "      <td>-0.007149</td>\n",
       "      <td>[Weight]</td>\n",
       "      <td>1</td>\n",
       "    </tr>\n",
       "    <tr>\n",
       "      <th>DT_47_valid</th>\n",
       "      <td>3857.299356</td>\n",
       "      <td>62.107160</td>\n",
       "      <td>52.384369</td>\n",
       "      <td>-0.012066</td>\n",
       "      <td>[Height, Weight, gender_bin]</td>\n",
       "      <td>3</td>\n",
       "    </tr>\n",
       "    <tr>\n",
       "      <th>DT_22_valid</th>\n",
       "      <td>3838.076128</td>\n",
       "      <td>61.952208</td>\n",
       "      <td>52.410684</td>\n",
       "      <td>-0.007022</td>\n",
       "      <td>[Weight, gender_bin]</td>\n",
       "      <td>2</td>\n",
       "    </tr>\n",
       "    <tr>\n",
       "      <th>DT_14_valid</th>\n",
       "      <td>3861.671611</td>\n",
       "      <td>62.142350</td>\n",
       "      <td>52.450544</td>\n",
       "      <td>-0.013213</td>\n",
       "      <td>[Height, Weight]</td>\n",
       "      <td>2</td>\n",
       "    </tr>\n",
       "  </tbody>\n",
       "</table>\n",
       "<p>127 rows × 6 columns</p>\n",
       "</div>"
      ],
      "text/plain": [
       "                      MSE       RMSE        MAE        R2  \\\n",
       "DT_113_valid   110.447836  10.509417   7.587408  0.971021   \n",
       "DT_81_valid    110.447836  10.509417   7.587408  0.971021   \n",
       "DT_124_valid   110.627987  10.517984   7.595362  0.970974   \n",
       "DT_106_valid   110.627987  10.517984   7.595362  0.970974   \n",
       "DT_127_valid   110.726181  10.522651   7.598613  0.970948   \n",
       "...                   ...        ...        ...       ...   \n",
       "DT_2_valid    3828.954221  61.878544  52.313718 -0.004629   \n",
       "DT_3_valid    3838.560321  61.956116  52.360694 -0.007149   \n",
       "DT_47_valid   3857.299356  62.107160  52.384369 -0.012066   \n",
       "DT_22_valid   3838.076128  61.952208  52.410684 -0.007022   \n",
       "DT_14_valid   3861.671611  62.142350  52.450544 -0.013213   \n",
       "\n",
       "                                                   feature_list  feature_cnt  \n",
       "DT_113_valid  [Age, Duration, Heart_Rate, Body_Temp, gender_...            5  \n",
       "DT_81_valid             [Age, Duration, Heart_Rate, gender_bin]            4  \n",
       "DT_124_valid  [Age, Height, Duration, Heart_Rate, Body_Temp,...            6  \n",
       "DT_106_valid    [Age, Height, Duration, Heart_Rate, gender_bin]            5  \n",
       "DT_127_valid  [Age, Height, Weight, Duration, Heart_Rate, Bo...            7  \n",
       "...                                                         ...          ...  \n",
       "DT_2_valid                                             [Height]            1  \n",
       "DT_3_valid                                             [Weight]            1  \n",
       "DT_47_valid                        [Height, Weight, gender_bin]            3  \n",
       "DT_22_valid                                [Weight, gender_bin]            2  \n",
       "DT_14_valid                                    [Height, Weight]            2  \n",
       "\n",
       "[127 rows x 6 columns]"
      ]
     },
     "execution_count": 60,
     "metadata": {},
     "output_type": "execute_result"
    }
   ],
   "source": [
    "greed_res = greed_feature_selection(train, valid,  X, target)\n",
    "greed_res.sort_values('MAE')"
   ]
  },
  {
   "cell_type": "code",
   "execution_count": 61,
   "id": "f281bf87",
   "metadata": {},
   "outputs": [
    {
     "data": {
      "application/vnd.microsoft.datawrangler.viewer.v0+json": {
       "columns": [
        {
         "name": "index",
         "rawType": "object",
         "type": "string"
        },
        {
         "name": "0",
         "rawType": "object",
         "type": "string"
        }
       ],
       "ref": "d89ddadd-b9ef-4388-87c2-2e0dd9fae1eb",
       "rows": [
        [
         "MSE",
         "DT_81_valid"
        ],
        [
         "MAE",
         "DT_81_valid"
        ],
        [
         "R2",
         "DT_81_valid"
        ]
       ],
       "shape": {
        "columns": 1,
        "rows": 3
       }
      },
      "text/plain": [
       "MSE    DT_81_valid\n",
       "MAE    DT_81_valid\n",
       "R2     DT_81_valid\n",
       "dtype: object"
      ]
     },
     "execution_count": 61,
     "metadata": {},
     "output_type": "execute_result"
    }
   ],
   "source": [
    "pd.concat([greed_res[['MSE', 'MAE']].idxmin(), greed_res[['R2']].idxmax()])"
   ]
  },
  {
   "cell_type": "code",
   "execution_count": 62,
   "id": "cff8d362",
   "metadata": {},
   "outputs": [
    {
     "data": {
      "application/vnd.microsoft.datawrangler.viewer.v0+json": {
       "columns": [
        {
         "name": "index",
         "rawType": "object",
         "type": "string"
        },
        {
         "name": "MSE",
         "rawType": "float64",
         "type": "float"
        },
        {
         "name": "RMSE",
         "rawType": "float64",
         "type": "float"
        },
        {
         "name": "MAE",
         "rawType": "float64",
         "type": "float"
        },
        {
         "name": "R2",
         "rawType": "float64",
         "type": "float"
        },
        {
         "name": "feature_list",
         "rawType": "object",
         "type": "unknown"
        },
        {
         "name": "feature_cnt",
         "rawType": "int64",
         "type": "integer"
        }
       ],
       "ref": "93ff6683-637d-4f32-a3f5-537ba53d42cc",
       "rows": [
        [
         "DT_13_valid",
         "184.798081",
         "13.594046",
         "9.576453",
         "0.951513",
         "['Age', 'Duration', 'gender_bin']",
         "3"
        ],
        [
         "DT_15_valid",
         "184.798081",
         "13.594046",
         "9.576453",
         "0.951513",
         "['Age', 'BMI', 'Duration', 'gender_bin']",
         "4"
        ],
        [
         "DT_11_valid",
         "205.891186",
         "14.348909",
         "9.998327",
         "0.945979",
         "['Age', 'BMI', 'Duration']",
         "3"
        ],
        [
         "DT_6_valid",
         "207.688967",
         "14.411418",
         "10.038901",
         "0.945507",
         "['Age', 'Duration']",
         "2"
        ],
        [
         "DT_14_valid",
         "276.723625",
         "16.635012",
         "11.552203",
         "0.927394",
         "['BMI', 'Duration', 'gender_bin']",
         "3"
        ],
        [
         "DT_8_valid",
         "275.887974",
         "16.609876",
         "11.562224",
         "0.927613",
         "['BMI', 'Duration']",
         "2"
        ],
        [
         "DT_10_valid",
         "284.760468",
         "16.874847",
         "11.666118",
         "0.925285",
         "['Duration', 'gender_bin']",
         "2"
        ],
        [
         "DT_3_valid",
         "293.143406",
         "17.121431",
         "11.763561",
         "0.923086",
         "['Duration']",
         "1"
        ],
        [
         "DT_7_valid",
         "3715.647146",
         "60.956108",
         "51.416541",
         "0.0251",
         "['Age', 'gender_bin']",
         "2"
        ],
        [
         "DT_1_valid",
         "3703.742578",
         "60.858381",
         "51.443303",
         "0.028224",
         "['Age']",
         "1"
        ],
        [
         "DT_12_valid",
         "3749.893386",
         "61.236373",
         "51.491259",
         "0.016115",
         "['Age', 'BMI', 'gender_bin']",
         "3"
        ],
        [
         "DT_5_valid",
         "3779.057404",
         "61.474038",
         "51.802627",
         "0.008463",
         "['Age', 'BMI']",
         "2"
        ],
        [
         "DT_4_valid",
         "3806.244151",
         "61.694766",
         "52.21414",
         "0.00133",
         "['gender_bin']",
         "1"
        ],
        [
         "DT_2_valid",
         "3828.660906",
         "61.876174",
         "52.328",
         "-0.004552",
         "['BMI']",
         "1"
        ],
        [
         "DT_9_valid",
         "3856.876398",
         "62.103755",
         "52.417742",
         "-0.011955",
         "['BMI', 'gender_bin']",
         "2"
        ]
       ],
       "shape": {
        "columns": 6,
        "rows": 15
       }
      },
      "text/html": [
       "<div>\n",
       "<style scoped>\n",
       "    .dataframe tbody tr th:only-of-type {\n",
       "        vertical-align: middle;\n",
       "    }\n",
       "\n",
       "    .dataframe tbody tr th {\n",
       "        vertical-align: top;\n",
       "    }\n",
       "\n",
       "    .dataframe thead th {\n",
       "        text-align: right;\n",
       "    }\n",
       "</style>\n",
       "<table border=\"1\" class=\"dataframe\">\n",
       "  <thead>\n",
       "    <tr style=\"text-align: right;\">\n",
       "      <th></th>\n",
       "      <th>MSE</th>\n",
       "      <th>RMSE</th>\n",
       "      <th>MAE</th>\n",
       "      <th>R2</th>\n",
       "      <th>feature_list</th>\n",
       "      <th>feature_cnt</th>\n",
       "    </tr>\n",
       "  </thead>\n",
       "  <tbody>\n",
       "    <tr>\n",
       "      <th>DT_13_valid</th>\n",
       "      <td>184.798081</td>\n",
       "      <td>13.594046</td>\n",
       "      <td>9.576453</td>\n",
       "      <td>0.951513</td>\n",
       "      <td>[Age, Duration, gender_bin]</td>\n",
       "      <td>3</td>\n",
       "    </tr>\n",
       "    <tr>\n",
       "      <th>DT_15_valid</th>\n",
       "      <td>184.798081</td>\n",
       "      <td>13.594046</td>\n",
       "      <td>9.576453</td>\n",
       "      <td>0.951513</td>\n",
       "      <td>[Age, BMI, Duration, gender_bin]</td>\n",
       "      <td>4</td>\n",
       "    </tr>\n",
       "    <tr>\n",
       "      <th>DT_11_valid</th>\n",
       "      <td>205.891186</td>\n",
       "      <td>14.348909</td>\n",
       "      <td>9.998327</td>\n",
       "      <td>0.945979</td>\n",
       "      <td>[Age, BMI, Duration]</td>\n",
       "      <td>3</td>\n",
       "    </tr>\n",
       "    <tr>\n",
       "      <th>DT_6_valid</th>\n",
       "      <td>207.688967</td>\n",
       "      <td>14.411418</td>\n",
       "      <td>10.038901</td>\n",
       "      <td>0.945507</td>\n",
       "      <td>[Age, Duration]</td>\n",
       "      <td>2</td>\n",
       "    </tr>\n",
       "    <tr>\n",
       "      <th>DT_14_valid</th>\n",
       "      <td>276.723625</td>\n",
       "      <td>16.635012</td>\n",
       "      <td>11.552203</td>\n",
       "      <td>0.927394</td>\n",
       "      <td>[BMI, Duration, gender_bin]</td>\n",
       "      <td>3</td>\n",
       "    </tr>\n",
       "    <tr>\n",
       "      <th>DT_8_valid</th>\n",
       "      <td>275.887974</td>\n",
       "      <td>16.609876</td>\n",
       "      <td>11.562224</td>\n",
       "      <td>0.927613</td>\n",
       "      <td>[BMI, Duration]</td>\n",
       "      <td>2</td>\n",
       "    </tr>\n",
       "    <tr>\n",
       "      <th>DT_10_valid</th>\n",
       "      <td>284.760468</td>\n",
       "      <td>16.874847</td>\n",
       "      <td>11.666118</td>\n",
       "      <td>0.925285</td>\n",
       "      <td>[Duration, gender_bin]</td>\n",
       "      <td>2</td>\n",
       "    </tr>\n",
       "    <tr>\n",
       "      <th>DT_3_valid</th>\n",
       "      <td>293.143406</td>\n",
       "      <td>17.121431</td>\n",
       "      <td>11.763561</td>\n",
       "      <td>0.923086</td>\n",
       "      <td>[Duration]</td>\n",
       "      <td>1</td>\n",
       "    </tr>\n",
       "    <tr>\n",
       "      <th>DT_7_valid</th>\n",
       "      <td>3715.647146</td>\n",
       "      <td>60.956108</td>\n",
       "      <td>51.416541</td>\n",
       "      <td>0.025100</td>\n",
       "      <td>[Age, gender_bin]</td>\n",
       "      <td>2</td>\n",
       "    </tr>\n",
       "    <tr>\n",
       "      <th>DT_1_valid</th>\n",
       "      <td>3703.742578</td>\n",
       "      <td>60.858381</td>\n",
       "      <td>51.443303</td>\n",
       "      <td>0.028224</td>\n",
       "      <td>[Age]</td>\n",
       "      <td>1</td>\n",
       "    </tr>\n",
       "    <tr>\n",
       "      <th>DT_12_valid</th>\n",
       "      <td>3749.893386</td>\n",
       "      <td>61.236373</td>\n",
       "      <td>51.491259</td>\n",
       "      <td>0.016115</td>\n",
       "      <td>[Age, BMI, gender_bin]</td>\n",
       "      <td>3</td>\n",
       "    </tr>\n",
       "    <tr>\n",
       "      <th>DT_5_valid</th>\n",
       "      <td>3779.057404</td>\n",
       "      <td>61.474038</td>\n",
       "      <td>51.802627</td>\n",
       "      <td>0.008463</td>\n",
       "      <td>[Age, BMI]</td>\n",
       "      <td>2</td>\n",
       "    </tr>\n",
       "    <tr>\n",
       "      <th>DT_4_valid</th>\n",
       "      <td>3806.244151</td>\n",
       "      <td>61.694766</td>\n",
       "      <td>52.214140</td>\n",
       "      <td>0.001330</td>\n",
       "      <td>[gender_bin]</td>\n",
       "      <td>1</td>\n",
       "    </tr>\n",
       "    <tr>\n",
       "      <th>DT_2_valid</th>\n",
       "      <td>3828.660906</td>\n",
       "      <td>61.876174</td>\n",
       "      <td>52.328000</td>\n",
       "      <td>-0.004552</td>\n",
       "      <td>[BMI]</td>\n",
       "      <td>1</td>\n",
       "    </tr>\n",
       "    <tr>\n",
       "      <th>DT_9_valid</th>\n",
       "      <td>3856.876398</td>\n",
       "      <td>62.103755</td>\n",
       "      <td>52.417742</td>\n",
       "      <td>-0.011955</td>\n",
       "      <td>[BMI, gender_bin]</td>\n",
       "      <td>2</td>\n",
       "    </tr>\n",
       "  </tbody>\n",
       "</table>\n",
       "</div>"
      ],
      "text/plain": [
       "                     MSE       RMSE        MAE        R2  \\\n",
       "DT_13_valid   184.798081  13.594046   9.576453  0.951513   \n",
       "DT_15_valid   184.798081  13.594046   9.576453  0.951513   \n",
       "DT_11_valid   205.891186  14.348909   9.998327  0.945979   \n",
       "DT_6_valid    207.688967  14.411418  10.038901  0.945507   \n",
       "DT_14_valid   276.723625  16.635012  11.552203  0.927394   \n",
       "DT_8_valid    275.887974  16.609876  11.562224  0.927613   \n",
       "DT_10_valid   284.760468  16.874847  11.666118  0.925285   \n",
       "DT_3_valid    293.143406  17.121431  11.763561  0.923086   \n",
       "DT_7_valid   3715.647146  60.956108  51.416541  0.025100   \n",
       "DT_1_valid   3703.742578  60.858381  51.443303  0.028224   \n",
       "DT_12_valid  3749.893386  61.236373  51.491259  0.016115   \n",
       "DT_5_valid   3779.057404  61.474038  51.802627  0.008463   \n",
       "DT_4_valid   3806.244151  61.694766  52.214140  0.001330   \n",
       "DT_2_valid   3828.660906  61.876174  52.328000 -0.004552   \n",
       "DT_9_valid   3856.876398  62.103755  52.417742 -0.011955   \n",
       "\n",
       "                                 feature_list  feature_cnt  \n",
       "DT_13_valid       [Age, Duration, gender_bin]            3  \n",
       "DT_15_valid  [Age, BMI, Duration, gender_bin]            4  \n",
       "DT_11_valid              [Age, BMI, Duration]            3  \n",
       "DT_6_valid                    [Age, Duration]            2  \n",
       "DT_14_valid       [BMI, Duration, gender_bin]            3  \n",
       "DT_8_valid                    [BMI, Duration]            2  \n",
       "DT_10_valid            [Duration, gender_bin]            2  \n",
       "DT_3_valid                         [Duration]            1  \n",
       "DT_7_valid                  [Age, gender_bin]            2  \n",
       "DT_1_valid                              [Age]            1  \n",
       "DT_12_valid            [Age, BMI, gender_bin]            3  \n",
       "DT_5_valid                         [Age, BMI]            2  \n",
       "DT_4_valid                       [gender_bin]            1  \n",
       "DT_2_valid                              [BMI]            1  \n",
       "DT_9_valid                  [BMI, gender_bin]            2  "
      ]
     },
     "execution_count": 62,
     "metadata": {},
     "output_type": "execute_result"
    }
   ],
   "source": [
    "greed_res_2 = greed_feature_selection(train, valid,  X1, target)\n",
    "greed_res_2.sort_values('MAE')"
   ]
  },
  {
   "cell_type": "code",
   "execution_count": 63,
   "id": "8fc7729e",
   "metadata": {},
   "outputs": [
    {
     "data": {
      "application/vnd.microsoft.datawrangler.viewer.v0+json": {
       "columns": [
        {
         "name": "index",
         "rawType": "object",
         "type": "string"
        },
        {
         "name": "0",
         "rawType": "object",
         "type": "string"
        }
       ],
       "ref": "f3a03070-1c1f-4678-8429-7f72c586f82c",
       "rows": [
        [
         "MSE",
         "DT_13_valid"
        ],
        [
         "MAE",
         "DT_13_valid"
        ],
        [
         "R2",
         "DT_13_valid"
        ]
       ],
       "shape": {
        "columns": 1,
        "rows": 3
       }
      },
      "text/plain": [
       "MSE    DT_13_valid\n",
       "MAE    DT_13_valid\n",
       "R2     DT_13_valid\n",
       "dtype: object"
      ]
     },
     "execution_count": 63,
     "metadata": {},
     "output_type": "execute_result"
    }
   ],
   "source": [
    "pd.concat([greed_res_2[['MSE', 'MAE']].idxmin(), greed_res_2[['R2']].idxmax()])"
   ]
  },
  {
   "cell_type": "markdown",
   "id": "2bcaef8e",
   "metadata": {},
   "source": [
    "## Метрики на лучшем подмножестве\n",
    "Переобучим дерево на лучшем подмножестве посчитаем метрики и посмотрим на графики распределения"
   ]
  },
  {
   "cell_type": "code",
   "execution_count": 64,
   "id": "c7c711f3",
   "metadata": {},
   "outputs": [
    {
     "data": {
      "text/html": [
       "<style>#sk-container-id-9 {\n",
       "  /* Definition of color scheme common for light and dark mode */\n",
       "  --sklearn-color-text: #000;\n",
       "  --sklearn-color-text-muted: #666;\n",
       "  --sklearn-color-line: gray;\n",
       "  /* Definition of color scheme for unfitted estimators */\n",
       "  --sklearn-color-unfitted-level-0: #fff5e6;\n",
       "  --sklearn-color-unfitted-level-1: #f6e4d2;\n",
       "  --sklearn-color-unfitted-level-2: #ffe0b3;\n",
       "  --sklearn-color-unfitted-level-3: chocolate;\n",
       "  /* Definition of color scheme for fitted estimators */\n",
       "  --sklearn-color-fitted-level-0: #f0f8ff;\n",
       "  --sklearn-color-fitted-level-1: #d4ebff;\n",
       "  --sklearn-color-fitted-level-2: #b3dbfd;\n",
       "  --sklearn-color-fitted-level-3: cornflowerblue;\n",
       "\n",
       "  /* Specific color for light theme */\n",
       "  --sklearn-color-text-on-default-background: var(--sg-text-color, var(--theme-code-foreground, var(--jp-content-font-color1, black)));\n",
       "  --sklearn-color-background: var(--sg-background-color, var(--theme-background, var(--jp-layout-color0, white)));\n",
       "  --sklearn-color-border-box: var(--sg-text-color, var(--theme-code-foreground, var(--jp-content-font-color1, black)));\n",
       "  --sklearn-color-icon: #696969;\n",
       "\n",
       "  @media (prefers-color-scheme: dark) {\n",
       "    /* Redefinition of color scheme for dark theme */\n",
       "    --sklearn-color-text-on-default-background: var(--sg-text-color, var(--theme-code-foreground, var(--jp-content-font-color1, white)));\n",
       "    --sklearn-color-background: var(--sg-background-color, var(--theme-background, var(--jp-layout-color0, #111)));\n",
       "    --sklearn-color-border-box: var(--sg-text-color, var(--theme-code-foreground, var(--jp-content-font-color1, white)));\n",
       "    --sklearn-color-icon: #878787;\n",
       "  }\n",
       "}\n",
       "\n",
       "#sk-container-id-9 {\n",
       "  color: var(--sklearn-color-text);\n",
       "}\n",
       "\n",
       "#sk-container-id-9 pre {\n",
       "  padding: 0;\n",
       "}\n",
       "\n",
       "#sk-container-id-9 input.sk-hidden--visually {\n",
       "  border: 0;\n",
       "  clip: rect(1px 1px 1px 1px);\n",
       "  clip: rect(1px, 1px, 1px, 1px);\n",
       "  height: 1px;\n",
       "  margin: -1px;\n",
       "  overflow: hidden;\n",
       "  padding: 0;\n",
       "  position: absolute;\n",
       "  width: 1px;\n",
       "}\n",
       "\n",
       "#sk-container-id-9 div.sk-dashed-wrapped {\n",
       "  border: 1px dashed var(--sklearn-color-line);\n",
       "  margin: 0 0.4em 0.5em 0.4em;\n",
       "  box-sizing: border-box;\n",
       "  padding-bottom: 0.4em;\n",
       "  background-color: var(--sklearn-color-background);\n",
       "}\n",
       "\n",
       "#sk-container-id-9 div.sk-container {\n",
       "  /* jupyter's `normalize.less` sets `[hidden] { display: none; }`\n",
       "     but bootstrap.min.css set `[hidden] { display: none !important; }`\n",
       "     so we also need the `!important` here to be able to override the\n",
       "     default hidden behavior on the sphinx rendered scikit-learn.org.\n",
       "     See: https://github.com/scikit-learn/scikit-learn/issues/21755 */\n",
       "  display: inline-block !important;\n",
       "  position: relative;\n",
       "}\n",
       "\n",
       "#sk-container-id-9 div.sk-text-repr-fallback {\n",
       "  display: none;\n",
       "}\n",
       "\n",
       "div.sk-parallel-item,\n",
       "div.sk-serial,\n",
       "div.sk-item {\n",
       "  /* draw centered vertical line to link estimators */\n",
       "  background-image: linear-gradient(var(--sklearn-color-text-on-default-background), var(--sklearn-color-text-on-default-background));\n",
       "  background-size: 2px 100%;\n",
       "  background-repeat: no-repeat;\n",
       "  background-position: center center;\n",
       "}\n",
       "\n",
       "/* Parallel-specific style estimator block */\n",
       "\n",
       "#sk-container-id-9 div.sk-parallel-item::after {\n",
       "  content: \"\";\n",
       "  width: 100%;\n",
       "  border-bottom: 2px solid var(--sklearn-color-text-on-default-background);\n",
       "  flex-grow: 1;\n",
       "}\n",
       "\n",
       "#sk-container-id-9 div.sk-parallel {\n",
       "  display: flex;\n",
       "  align-items: stretch;\n",
       "  justify-content: center;\n",
       "  background-color: var(--sklearn-color-background);\n",
       "  position: relative;\n",
       "}\n",
       "\n",
       "#sk-container-id-9 div.sk-parallel-item {\n",
       "  display: flex;\n",
       "  flex-direction: column;\n",
       "}\n",
       "\n",
       "#sk-container-id-9 div.sk-parallel-item:first-child::after {\n",
       "  align-self: flex-end;\n",
       "  width: 50%;\n",
       "}\n",
       "\n",
       "#sk-container-id-9 div.sk-parallel-item:last-child::after {\n",
       "  align-self: flex-start;\n",
       "  width: 50%;\n",
       "}\n",
       "\n",
       "#sk-container-id-9 div.sk-parallel-item:only-child::after {\n",
       "  width: 0;\n",
       "}\n",
       "\n",
       "/* Serial-specific style estimator block */\n",
       "\n",
       "#sk-container-id-9 div.sk-serial {\n",
       "  display: flex;\n",
       "  flex-direction: column;\n",
       "  align-items: center;\n",
       "  background-color: var(--sklearn-color-background);\n",
       "  padding-right: 1em;\n",
       "  padding-left: 1em;\n",
       "}\n",
       "\n",
       "\n",
       "/* Toggleable style: style used for estimator/Pipeline/ColumnTransformer box that is\n",
       "clickable and can be expanded/collapsed.\n",
       "- Pipeline and ColumnTransformer use this feature and define the default style\n",
       "- Estimators will overwrite some part of the style using the `sk-estimator` class\n",
       "*/\n",
       "\n",
       "/* Pipeline and ColumnTransformer style (default) */\n",
       "\n",
       "#sk-container-id-9 div.sk-toggleable {\n",
       "  /* Default theme specific background. It is overwritten whether we have a\n",
       "  specific estimator or a Pipeline/ColumnTransformer */\n",
       "  background-color: var(--sklearn-color-background);\n",
       "}\n",
       "\n",
       "/* Toggleable label */\n",
       "#sk-container-id-9 label.sk-toggleable__label {\n",
       "  cursor: pointer;\n",
       "  display: flex;\n",
       "  width: 100%;\n",
       "  margin-bottom: 0;\n",
       "  padding: 0.5em;\n",
       "  box-sizing: border-box;\n",
       "  text-align: center;\n",
       "  align-items: start;\n",
       "  justify-content: space-between;\n",
       "  gap: 0.5em;\n",
       "}\n",
       "\n",
       "#sk-container-id-9 label.sk-toggleable__label .caption {\n",
       "  font-size: 0.6rem;\n",
       "  font-weight: lighter;\n",
       "  color: var(--sklearn-color-text-muted);\n",
       "}\n",
       "\n",
       "#sk-container-id-9 label.sk-toggleable__label-arrow:before {\n",
       "  /* Arrow on the left of the label */\n",
       "  content: \"▸\";\n",
       "  float: left;\n",
       "  margin-right: 0.25em;\n",
       "  color: var(--sklearn-color-icon);\n",
       "}\n",
       "\n",
       "#sk-container-id-9 label.sk-toggleable__label-arrow:hover:before {\n",
       "  color: var(--sklearn-color-text);\n",
       "}\n",
       "\n",
       "/* Toggleable content - dropdown */\n",
       "\n",
       "#sk-container-id-9 div.sk-toggleable__content {\n",
       "  display: none;\n",
       "  text-align: left;\n",
       "  /* unfitted */\n",
       "  background-color: var(--sklearn-color-unfitted-level-0);\n",
       "}\n",
       "\n",
       "#sk-container-id-9 div.sk-toggleable__content.fitted {\n",
       "  /* fitted */\n",
       "  background-color: var(--sklearn-color-fitted-level-0);\n",
       "}\n",
       "\n",
       "#sk-container-id-9 div.sk-toggleable__content pre {\n",
       "  margin: 0.2em;\n",
       "  border-radius: 0.25em;\n",
       "  color: var(--sklearn-color-text);\n",
       "  /* unfitted */\n",
       "  background-color: var(--sklearn-color-unfitted-level-0);\n",
       "}\n",
       "\n",
       "#sk-container-id-9 div.sk-toggleable__content.fitted pre {\n",
       "  /* unfitted */\n",
       "  background-color: var(--sklearn-color-fitted-level-0);\n",
       "}\n",
       "\n",
       "#sk-container-id-9 input.sk-toggleable__control:checked~div.sk-toggleable__content {\n",
       "  /* Expand drop-down */\n",
       "  display: block;\n",
       "  width: 100%;\n",
       "  overflow: visible;\n",
       "}\n",
       "\n",
       "#sk-container-id-9 input.sk-toggleable__control:checked~label.sk-toggleable__label-arrow:before {\n",
       "  content: \"▾\";\n",
       "}\n",
       "\n",
       "/* Pipeline/ColumnTransformer-specific style */\n",
       "\n",
       "#sk-container-id-9 div.sk-label input.sk-toggleable__control:checked~label.sk-toggleable__label {\n",
       "  color: var(--sklearn-color-text);\n",
       "  background-color: var(--sklearn-color-unfitted-level-2);\n",
       "}\n",
       "\n",
       "#sk-container-id-9 div.sk-label.fitted input.sk-toggleable__control:checked~label.sk-toggleable__label {\n",
       "  background-color: var(--sklearn-color-fitted-level-2);\n",
       "}\n",
       "\n",
       "/* Estimator-specific style */\n",
       "\n",
       "/* Colorize estimator box */\n",
       "#sk-container-id-9 div.sk-estimator input.sk-toggleable__control:checked~label.sk-toggleable__label {\n",
       "  /* unfitted */\n",
       "  background-color: var(--sklearn-color-unfitted-level-2);\n",
       "}\n",
       "\n",
       "#sk-container-id-9 div.sk-estimator.fitted input.sk-toggleable__control:checked~label.sk-toggleable__label {\n",
       "  /* fitted */\n",
       "  background-color: var(--sklearn-color-fitted-level-2);\n",
       "}\n",
       "\n",
       "#sk-container-id-9 div.sk-label label.sk-toggleable__label,\n",
       "#sk-container-id-9 div.sk-label label {\n",
       "  /* The background is the default theme color */\n",
       "  color: var(--sklearn-color-text-on-default-background);\n",
       "}\n",
       "\n",
       "/* On hover, darken the color of the background */\n",
       "#sk-container-id-9 div.sk-label:hover label.sk-toggleable__label {\n",
       "  color: var(--sklearn-color-text);\n",
       "  background-color: var(--sklearn-color-unfitted-level-2);\n",
       "}\n",
       "\n",
       "/* Label box, darken color on hover, fitted */\n",
       "#sk-container-id-9 div.sk-label.fitted:hover label.sk-toggleable__label.fitted {\n",
       "  color: var(--sklearn-color-text);\n",
       "  background-color: var(--sklearn-color-fitted-level-2);\n",
       "}\n",
       "\n",
       "/* Estimator label */\n",
       "\n",
       "#sk-container-id-9 div.sk-label label {\n",
       "  font-family: monospace;\n",
       "  font-weight: bold;\n",
       "  display: inline-block;\n",
       "  line-height: 1.2em;\n",
       "}\n",
       "\n",
       "#sk-container-id-9 div.sk-label-container {\n",
       "  text-align: center;\n",
       "}\n",
       "\n",
       "/* Estimator-specific */\n",
       "#sk-container-id-9 div.sk-estimator {\n",
       "  font-family: monospace;\n",
       "  border: 1px dotted var(--sklearn-color-border-box);\n",
       "  border-radius: 0.25em;\n",
       "  box-sizing: border-box;\n",
       "  margin-bottom: 0.5em;\n",
       "  /* unfitted */\n",
       "  background-color: var(--sklearn-color-unfitted-level-0);\n",
       "}\n",
       "\n",
       "#sk-container-id-9 div.sk-estimator.fitted {\n",
       "  /* fitted */\n",
       "  background-color: var(--sklearn-color-fitted-level-0);\n",
       "}\n",
       "\n",
       "/* on hover */\n",
       "#sk-container-id-9 div.sk-estimator:hover {\n",
       "  /* unfitted */\n",
       "  background-color: var(--sklearn-color-unfitted-level-2);\n",
       "}\n",
       "\n",
       "#sk-container-id-9 div.sk-estimator.fitted:hover {\n",
       "  /* fitted */\n",
       "  background-color: var(--sklearn-color-fitted-level-2);\n",
       "}\n",
       "\n",
       "/* Specification for estimator info (e.g. \"i\" and \"?\") */\n",
       "\n",
       "/* Common style for \"i\" and \"?\" */\n",
       "\n",
       ".sk-estimator-doc-link,\n",
       "a:link.sk-estimator-doc-link,\n",
       "a:visited.sk-estimator-doc-link {\n",
       "  float: right;\n",
       "  font-size: smaller;\n",
       "  line-height: 1em;\n",
       "  font-family: monospace;\n",
       "  background-color: var(--sklearn-color-background);\n",
       "  border-radius: 1em;\n",
       "  height: 1em;\n",
       "  width: 1em;\n",
       "  text-decoration: none !important;\n",
       "  margin-left: 0.5em;\n",
       "  text-align: center;\n",
       "  /* unfitted */\n",
       "  border: var(--sklearn-color-unfitted-level-1) 1pt solid;\n",
       "  color: var(--sklearn-color-unfitted-level-1);\n",
       "}\n",
       "\n",
       ".sk-estimator-doc-link.fitted,\n",
       "a:link.sk-estimator-doc-link.fitted,\n",
       "a:visited.sk-estimator-doc-link.fitted {\n",
       "  /* fitted */\n",
       "  border: var(--sklearn-color-fitted-level-1) 1pt solid;\n",
       "  color: var(--sklearn-color-fitted-level-1);\n",
       "}\n",
       "\n",
       "/* On hover */\n",
       "div.sk-estimator:hover .sk-estimator-doc-link:hover,\n",
       ".sk-estimator-doc-link:hover,\n",
       "div.sk-label-container:hover .sk-estimator-doc-link:hover,\n",
       ".sk-estimator-doc-link:hover {\n",
       "  /* unfitted */\n",
       "  background-color: var(--sklearn-color-unfitted-level-3);\n",
       "  color: var(--sklearn-color-background);\n",
       "  text-decoration: none;\n",
       "}\n",
       "\n",
       "div.sk-estimator.fitted:hover .sk-estimator-doc-link.fitted:hover,\n",
       ".sk-estimator-doc-link.fitted:hover,\n",
       "div.sk-label-container:hover .sk-estimator-doc-link.fitted:hover,\n",
       ".sk-estimator-doc-link.fitted:hover {\n",
       "  /* fitted */\n",
       "  background-color: var(--sklearn-color-fitted-level-3);\n",
       "  color: var(--sklearn-color-background);\n",
       "  text-decoration: none;\n",
       "}\n",
       "\n",
       "/* Span, style for the box shown on hovering the info icon */\n",
       ".sk-estimator-doc-link span {\n",
       "  display: none;\n",
       "  z-index: 9999;\n",
       "  position: relative;\n",
       "  font-weight: normal;\n",
       "  right: .2ex;\n",
       "  padding: .5ex;\n",
       "  margin: .5ex;\n",
       "  width: min-content;\n",
       "  min-width: 20ex;\n",
       "  max-width: 50ex;\n",
       "  color: var(--sklearn-color-text);\n",
       "  box-shadow: 2pt 2pt 4pt #999;\n",
       "  /* unfitted */\n",
       "  background: var(--sklearn-color-unfitted-level-0);\n",
       "  border: .5pt solid var(--sklearn-color-unfitted-level-3);\n",
       "}\n",
       "\n",
       ".sk-estimator-doc-link.fitted span {\n",
       "  /* fitted */\n",
       "  background: var(--sklearn-color-fitted-level-0);\n",
       "  border: var(--sklearn-color-fitted-level-3);\n",
       "}\n",
       "\n",
       ".sk-estimator-doc-link:hover span {\n",
       "  display: block;\n",
       "}\n",
       "\n",
       "/* \"?\"-specific style due to the `<a>` HTML tag */\n",
       "\n",
       "#sk-container-id-9 a.estimator_doc_link {\n",
       "  float: right;\n",
       "  font-size: 1rem;\n",
       "  line-height: 1em;\n",
       "  font-family: monospace;\n",
       "  background-color: var(--sklearn-color-background);\n",
       "  border-radius: 1rem;\n",
       "  height: 1rem;\n",
       "  width: 1rem;\n",
       "  text-decoration: none;\n",
       "  /* unfitted */\n",
       "  color: var(--sklearn-color-unfitted-level-1);\n",
       "  border: var(--sklearn-color-unfitted-level-1) 1pt solid;\n",
       "}\n",
       "\n",
       "#sk-container-id-9 a.estimator_doc_link.fitted {\n",
       "  /* fitted */\n",
       "  border: var(--sklearn-color-fitted-level-1) 1pt solid;\n",
       "  color: var(--sklearn-color-fitted-level-1);\n",
       "}\n",
       "\n",
       "/* On hover */\n",
       "#sk-container-id-9 a.estimator_doc_link:hover {\n",
       "  /* unfitted */\n",
       "  background-color: var(--sklearn-color-unfitted-level-3);\n",
       "  color: var(--sklearn-color-background);\n",
       "  text-decoration: none;\n",
       "}\n",
       "\n",
       "#sk-container-id-9 a.estimator_doc_link.fitted:hover {\n",
       "  /* fitted */\n",
       "  background-color: var(--sklearn-color-fitted-level-3);\n",
       "}\n",
       "\n",
       ".estimator-table summary {\n",
       "    padding: .5rem;\n",
       "    font-family: monospace;\n",
       "    cursor: pointer;\n",
       "}\n",
       "\n",
       ".estimator-table details[open] {\n",
       "    padding-left: 0.1rem;\n",
       "    padding-right: 0.1rem;\n",
       "    padding-bottom: 0.3rem;\n",
       "}\n",
       "\n",
       ".estimator-table .parameters-table {\n",
       "    margin-left: auto !important;\n",
       "    margin-right: auto !important;\n",
       "}\n",
       "\n",
       ".estimator-table .parameters-table tr:nth-child(odd) {\n",
       "    background-color: #fff;\n",
       "}\n",
       "\n",
       ".estimator-table .parameters-table tr:nth-child(even) {\n",
       "    background-color: #f6f6f6;\n",
       "}\n",
       "\n",
       ".estimator-table .parameters-table tr:hover {\n",
       "    background-color: #e0e0e0;\n",
       "}\n",
       "\n",
       ".estimator-table table td {\n",
       "    border: 1px solid rgba(106, 105, 104, 0.232);\n",
       "}\n",
       "\n",
       ".user-set td {\n",
       "    color:rgb(255, 94, 0);\n",
       "    text-align: left;\n",
       "}\n",
       "\n",
       ".user-set td.value pre {\n",
       "    color:rgb(255, 94, 0) !important;\n",
       "    background-color: transparent !important;\n",
       "}\n",
       "\n",
       ".default td {\n",
       "    color: black;\n",
       "    text-align: left;\n",
       "}\n",
       "\n",
       ".user-set td i,\n",
       ".default td i {\n",
       "    color: black;\n",
       "}\n",
       "\n",
       ".copy-paste-icon {\n",
       "    background-image: url(data:image/svg+xml;base64,PHN2ZyB4bWxucz0iaHR0cDovL3d3dy53My5vcmcvMjAwMC9zdmciIHZpZXdCb3g9IjAgMCA0NDggNTEyIj48IS0tIUZvbnQgQXdlc29tZSBGcmVlIDYuNy4yIGJ5IEBmb250YXdlc29tZSAtIGh0dHBzOi8vZm9udGF3ZXNvbWUuY29tIExpY2Vuc2UgLSBodHRwczovL2ZvbnRhd2Vzb21lLmNvbS9saWNlbnNlL2ZyZWUgQ29weXJpZ2h0IDIwMjUgRm9udGljb25zLCBJbmMuLS0+PHBhdGggZD0iTTIwOCAwTDMzMi4xIDBjMTIuNyAwIDI0LjkgNS4xIDMzLjkgMTQuMWw2Ny45IDY3LjljOSA5IDE0LjEgMjEuMiAxNC4xIDMzLjlMNDQ4IDMzNmMwIDI2LjUtMjEuNSA0OC00OCA0OGwtMTkyIDBjLTI2LjUgMC00OC0yMS41LTQ4LTQ4bDAtMjg4YzAtMjYuNSAyMS41LTQ4IDQ4LTQ4ek00OCAxMjhsODAgMCAwIDY0LTY0IDAgMCAyNTYgMTkyIDAgMC0zMiA2NCAwIDAgNDhjMCAyNi41LTIxLjUgNDgtNDggNDhMNDggNTEyYy0yNi41IDAtNDgtMjEuNS00OC00OEwwIDE3NmMwLTI2LjUgMjEuNS00OCA0OC00OHoiLz48L3N2Zz4=);\n",
       "    background-repeat: no-repeat;\n",
       "    background-size: 14px 14px;\n",
       "    background-position: 0;\n",
       "    display: inline-block;\n",
       "    width: 14px;\n",
       "    height: 14px;\n",
       "    cursor: pointer;\n",
       "}\n",
       "</style><body><div id=\"sk-container-id-9\" class=\"sk-top-container\"><div class=\"sk-text-repr-fallback\"><pre>DecisionTreeRegressor(max_depth=5, random_state=57523)</pre><b>In a Jupyter environment, please rerun this cell to show the HTML representation or trust the notebook. <br />On GitHub, the HTML representation is unable to render, please try loading this page with nbviewer.org.</b></div><div class=\"sk-container\" hidden><div class=\"sk-item\"><div class=\"sk-estimator fitted sk-toggleable\"><input class=\"sk-toggleable__control sk-hidden--visually\" id=\"sk-estimator-id-9\" type=\"checkbox\" checked><label for=\"sk-estimator-id-9\" class=\"sk-toggleable__label fitted sk-toggleable__label-arrow\"><div><div>DecisionTreeRegressor</div></div><div><a class=\"sk-estimator-doc-link fitted\" rel=\"noreferrer\" target=\"_blank\" href=\"https://scikit-learn.org/1.7/modules/generated/sklearn.tree.DecisionTreeRegressor.html\">?<span>Documentation for DecisionTreeRegressor</span></a><span class=\"sk-estimator-doc-link fitted\">i<span>Fitted</span></span></div></label><div class=\"sk-toggleable__content fitted\" data-param-prefix=\"\">\n",
       "        <div class=\"estimator-table\">\n",
       "            <details>\n",
       "                <summary>Parameters</summary>\n",
       "                <table class=\"parameters-table\">\n",
       "                  <tbody>\n",
       "                    \n",
       "        <tr class=\"default\">\n",
       "            <td><i class=\"copy-paste-icon\"\n",
       "                 onclick=\"copyToClipboard('criterion',\n",
       "                          this.parentElement.nextElementSibling)\"\n",
       "            ></i></td>\n",
       "            <td class=\"param\">criterion&nbsp;</td>\n",
       "            <td class=\"value\">&#x27;squared_error&#x27;</td>\n",
       "        </tr>\n",
       "    \n",
       "\n",
       "        <tr class=\"default\">\n",
       "            <td><i class=\"copy-paste-icon\"\n",
       "                 onclick=\"copyToClipboard('splitter',\n",
       "                          this.parentElement.nextElementSibling)\"\n",
       "            ></i></td>\n",
       "            <td class=\"param\">splitter&nbsp;</td>\n",
       "            <td class=\"value\">&#x27;best&#x27;</td>\n",
       "        </tr>\n",
       "    \n",
       "\n",
       "        <tr class=\"user-set\">\n",
       "            <td><i class=\"copy-paste-icon\"\n",
       "                 onclick=\"copyToClipboard('max_depth',\n",
       "                          this.parentElement.nextElementSibling)\"\n",
       "            ></i></td>\n",
       "            <td class=\"param\">max_depth&nbsp;</td>\n",
       "            <td class=\"value\">5</td>\n",
       "        </tr>\n",
       "    \n",
       "\n",
       "        <tr class=\"default\">\n",
       "            <td><i class=\"copy-paste-icon\"\n",
       "                 onclick=\"copyToClipboard('min_samples_split',\n",
       "                          this.parentElement.nextElementSibling)\"\n",
       "            ></i></td>\n",
       "            <td class=\"param\">min_samples_split&nbsp;</td>\n",
       "            <td class=\"value\">2</td>\n",
       "        </tr>\n",
       "    \n",
       "\n",
       "        <tr class=\"default\">\n",
       "            <td><i class=\"copy-paste-icon\"\n",
       "                 onclick=\"copyToClipboard('min_samples_leaf',\n",
       "                          this.parentElement.nextElementSibling)\"\n",
       "            ></i></td>\n",
       "            <td class=\"param\">min_samples_leaf&nbsp;</td>\n",
       "            <td class=\"value\">1</td>\n",
       "        </tr>\n",
       "    \n",
       "\n",
       "        <tr class=\"default\">\n",
       "            <td><i class=\"copy-paste-icon\"\n",
       "                 onclick=\"copyToClipboard('min_weight_fraction_leaf',\n",
       "                          this.parentElement.nextElementSibling)\"\n",
       "            ></i></td>\n",
       "            <td class=\"param\">min_weight_fraction_leaf&nbsp;</td>\n",
       "            <td class=\"value\">0.0</td>\n",
       "        </tr>\n",
       "    \n",
       "\n",
       "        <tr class=\"default\">\n",
       "            <td><i class=\"copy-paste-icon\"\n",
       "                 onclick=\"copyToClipboard('max_features',\n",
       "                          this.parentElement.nextElementSibling)\"\n",
       "            ></i></td>\n",
       "            <td class=\"param\">max_features&nbsp;</td>\n",
       "            <td class=\"value\">None</td>\n",
       "        </tr>\n",
       "    \n",
       "\n",
       "        <tr class=\"user-set\">\n",
       "            <td><i class=\"copy-paste-icon\"\n",
       "                 onclick=\"copyToClipboard('random_state',\n",
       "                          this.parentElement.nextElementSibling)\"\n",
       "            ></i></td>\n",
       "            <td class=\"param\">random_state&nbsp;</td>\n",
       "            <td class=\"value\">57523</td>\n",
       "        </tr>\n",
       "    \n",
       "\n",
       "        <tr class=\"default\">\n",
       "            <td><i class=\"copy-paste-icon\"\n",
       "                 onclick=\"copyToClipboard('max_leaf_nodes',\n",
       "                          this.parentElement.nextElementSibling)\"\n",
       "            ></i></td>\n",
       "            <td class=\"param\">max_leaf_nodes&nbsp;</td>\n",
       "            <td class=\"value\">None</td>\n",
       "        </tr>\n",
       "    \n",
       "\n",
       "        <tr class=\"default\">\n",
       "            <td><i class=\"copy-paste-icon\"\n",
       "                 onclick=\"copyToClipboard('min_impurity_decrease',\n",
       "                          this.parentElement.nextElementSibling)\"\n",
       "            ></i></td>\n",
       "            <td class=\"param\">min_impurity_decrease&nbsp;</td>\n",
       "            <td class=\"value\">0.0</td>\n",
       "        </tr>\n",
       "    \n",
       "\n",
       "        <tr class=\"default\">\n",
       "            <td><i class=\"copy-paste-icon\"\n",
       "                 onclick=\"copyToClipboard('ccp_alpha',\n",
       "                          this.parentElement.nextElementSibling)\"\n",
       "            ></i></td>\n",
       "            <td class=\"param\">ccp_alpha&nbsp;</td>\n",
       "            <td class=\"value\">0.0</td>\n",
       "        </tr>\n",
       "    \n",
       "\n",
       "        <tr class=\"default\">\n",
       "            <td><i class=\"copy-paste-icon\"\n",
       "                 onclick=\"copyToClipboard('monotonic_cst',\n",
       "                          this.parentElement.nextElementSibling)\"\n",
       "            ></i></td>\n",
       "            <td class=\"param\">monotonic_cst&nbsp;</td>\n",
       "            <td class=\"value\">None</td>\n",
       "        </tr>\n",
       "    \n",
       "                  </tbody>\n",
       "                </table>\n",
       "            </details>\n",
       "        </div>\n",
       "    </div></div></div></div></div><script>function copyToClipboard(text, element) {\n",
       "    // Get the parameter prefix from the closest toggleable content\n",
       "    const toggleableContent = element.closest('.sk-toggleable__content');\n",
       "    const paramPrefix = toggleableContent ? toggleableContent.dataset.paramPrefix : '';\n",
       "    const fullParamName = paramPrefix ? `${paramPrefix}${text}` : text;\n",
       "\n",
       "    const originalStyle = element.style;\n",
       "    const computedStyle = window.getComputedStyle(element);\n",
       "    const originalWidth = computedStyle.width;\n",
       "    const originalHTML = element.innerHTML.replace('Copied!', '');\n",
       "\n",
       "    navigator.clipboard.writeText(fullParamName)\n",
       "        .then(() => {\n",
       "            element.style.width = originalWidth;\n",
       "            element.style.color = 'green';\n",
       "            element.innerHTML = \"Copied!\";\n",
       "\n",
       "            setTimeout(() => {\n",
       "                element.innerHTML = originalHTML;\n",
       "                element.style = originalStyle;\n",
       "            }, 2000);\n",
       "        })\n",
       "        .catch(err => {\n",
       "            console.error('Failed to copy:', err);\n",
       "            element.style.color = 'red';\n",
       "            element.innerHTML = \"Failed!\";\n",
       "            setTimeout(() => {\n",
       "                element.innerHTML = originalHTML;\n",
       "                element.style = originalStyle;\n",
       "            }, 2000);\n",
       "        });\n",
       "    return false;\n",
       "}\n",
       "\n",
       "document.querySelectorAll('.fa-regular.fa-copy').forEach(function(element) {\n",
       "    const toggleableContent = element.closest('.sk-toggleable__content');\n",
       "    const paramPrefix = toggleableContent ? toggleableContent.dataset.paramPrefix : '';\n",
       "    const paramName = element.parentElement.nextElementSibling.textContent.trim();\n",
       "    const fullParamName = paramPrefix ? `${paramPrefix}${paramName}` : paramName;\n",
       "\n",
       "    element.setAttribute('title', fullParamName);\n",
       "});\n",
       "</script></body>"
      ],
      "text/plain": [
       "DecisionTreeRegressor(max_depth=5, random_state=57523)"
      ]
     },
     "execution_count": 64,
     "metadata": {},
     "output_type": "execute_result"
    }
   ],
   "source": [
    "best_subset = greed_res.loc[greed_res['MSE'].idxmin()]['feature_list']\n",
    "dt = DecisionTreeRegressor(max_depth=5, criterion='squared_error', random_state=RANDOM_STATE)\n",
    "\n",
    "dt.fit(train[best_subset], train[target])"
   ]
  },
  {
   "cell_type": "code",
   "execution_count": 65,
   "id": "d4974fe2",
   "metadata": {},
   "outputs": [
    {
     "data": {
      "application/vnd.microsoft.datawrangler.viewer.v0+json": {
       "columns": [
        {
         "name": "index",
         "rawType": "object",
         "type": "string"
        },
        {
         "name": "MSE",
         "rawType": "float64",
         "type": "float"
        },
        {
         "name": "RMSE",
         "rawType": "float64",
         "type": "float"
        },
        {
         "name": "MAE",
         "rawType": "float64",
         "type": "float"
        },
        {
         "name": "R2",
         "rawType": "float64",
         "type": "float"
        }
       ],
       "ref": "8307a6a4-d5e0-49be-9242-9a7fdcfd35ec",
       "rows": [
        [
         "DT_train",
         "137.38225565059452",
         "11.721017688349187",
         "8.49617049863945",
         "0.9648360110695456"
        ],
        [
         "DT_valid",
         "161.53449409014289",
         "12.709622106504304",
         "9.2018854710055",
         "0.9576170861639666"
        ],
        [
         "DT_test",
         "147.2626977912141",
         "12.13518429160489",
         "8.842828461940647",
         "0.962775653522593"
        ]
       ],
       "shape": {
        "columns": 4,
        "rows": 3
       }
      },
      "text/html": [
       "<div>\n",
       "<style scoped>\n",
       "    .dataframe tbody tr th:only-of-type {\n",
       "        vertical-align: middle;\n",
       "    }\n",
       "\n",
       "    .dataframe tbody tr th {\n",
       "        vertical-align: top;\n",
       "    }\n",
       "\n",
       "    .dataframe thead th {\n",
       "        text-align: right;\n",
       "    }\n",
       "</style>\n",
       "<table border=\"1\" class=\"dataframe\">\n",
       "  <thead>\n",
       "    <tr style=\"text-align: right;\">\n",
       "      <th></th>\n",
       "      <th>MSE</th>\n",
       "      <th>RMSE</th>\n",
       "      <th>MAE</th>\n",
       "      <th>R2</th>\n",
       "    </tr>\n",
       "  </thead>\n",
       "  <tbody>\n",
       "    <tr>\n",
       "      <th>DT_train</th>\n",
       "      <td>137.382256</td>\n",
       "      <td>11.721018</td>\n",
       "      <td>8.496170</td>\n",
       "      <td>0.964836</td>\n",
       "    </tr>\n",
       "    <tr>\n",
       "      <th>DT_valid</th>\n",
       "      <td>161.534494</td>\n",
       "      <td>12.709622</td>\n",
       "      <td>9.201885</td>\n",
       "      <td>0.957617</td>\n",
       "    </tr>\n",
       "    <tr>\n",
       "      <th>DT_test</th>\n",
       "      <td>147.262698</td>\n",
       "      <td>12.135184</td>\n",
       "      <td>8.842828</td>\n",
       "      <td>0.962776</td>\n",
       "    </tr>\n",
       "  </tbody>\n",
       "</table>\n",
       "</div>"
      ],
      "text/plain": [
       "                 MSE       RMSE       MAE        R2\n",
       "DT_train  137.382256  11.721018  8.496170  0.964836\n",
       "DT_valid  161.534494  12.709622  9.201885  0.957617\n",
       "DT_test   147.262698  12.135184  8.842828  0.962776"
      ]
     },
     "execution_count": 65,
     "metadata": {},
     "output_type": "execute_result"
    }
   ],
   "source": [
    "bs_metrics = pd.concat([\n",
    "    get_metric(y_train, dt.predict(train[best_subset]), 'DT', 'train'),\n",
    "    get_metric(y_valid, dt.predict(valid[best_subset]), 'DT', 'valid'),\n",
    "    get_metric(y_test, dt.predict(test[best_subset]), 'DT', 'test'),\n",
    "])\n",
    "bs_metrics"
   ]
  },
  {
   "cell_type": "markdown",
   "id": "df63abf6",
   "metadata": {},
   "source": [
    "После перебора всевозможных подмножеств не удалось сильно снизить RMSE и MAE по сравнению с первым запуском моделей, но получили, что можно снизить размерность с 7 до 4 признаков. \n",
    "\n",
    "Проверим графики и выведем feature importance"
   ]
  },
  {
   "cell_type": "code",
   "execution_count": 66,
   "id": "11528c57",
   "metadata": {},
   "outputs": [
    {
     "data": {
      "image/png": "[encoded data removed]",
      "text/plain": [
       "<Figure size 800x400 with 2 Axes>"
      ]
     },
     "metadata": {},
     "output_type": "display_data"
    },
    {
     "data": {
      "image/png": "[encoded data removed]",
      "text/plain": [
       "<Figure size 800x400 with 2 Axes>"
      ]
     },
     "metadata": {},
     "output_type": "display_data"
    },
    {
     "data": {
      "image/png": "[encoded data removed]",
      "text/plain": [
       "<Figure size 800x400 with 2 Axes>"
      ]
     },
     "metadata": {},
     "output_type": "display_data"
    }
   ],
   "source": [
    "pred_plot(y_train, dt.predict(train[best_subset]), 'DT (train)')\n",
    "pred_plot(y_valid, dt.predict(valid[best_subset]), 'DT (valid)')\n",
    "pred_plot(y_test, dt.predict(test[best_subset]), 'DT (test)')"
   ]
  },
  {
   "cell_type": "markdown",
   "id": "cedb7159",
   "metadata": {},
   "source": [
    "### Feature Importance best subset"
   ]
  },
  {
   "cell_type": "code",
   "execution_count": 67,
   "id": "fb35ef58",
   "metadata": {},
   "outputs": [
    {
     "data": {
      "application/vnd.microsoft.datawrangler.viewer.v0+json": {
       "columns": [
        {
         "name": "index",
         "rawType": "int64",
         "type": "integer"
        },
        {
         "name": "feature",
         "rawType": "object",
         "type": "string"
        },
        {
         "name": "dt_importance",
         "rawType": "float64",
         "type": "float"
        }
       ],
       "ref": "aa481723-7613-48ba-94cd-2cd0b119db53",
       "rows": [
        [
         "1",
         "Duration",
         "0.9386296607794503"
        ],
        [
         "2",
         "Heart_Rate",
         "0.036679863770148875"
        ],
        [
         "0",
         "Age",
         "0.020557729505269254"
        ],
        [
         "3",
         "gender_bin",
         "0.004132745945131582"
        ]
       ],
       "shape": {
        "columns": 2,
        "rows": 4
       }
      },
      "text/html": [
       "<div>\n",
       "<style scoped>\n",
       "    .dataframe tbody tr th:only-of-type {\n",
       "        vertical-align: middle;\n",
       "    }\n",
       "\n",
       "    .dataframe tbody tr th {\n",
       "        vertical-align: top;\n",
       "    }\n",
       "\n",
       "    .dataframe thead th {\n",
       "        text-align: right;\n",
       "    }\n",
       "</style>\n",
       "<table border=\"1\" class=\"dataframe\">\n",
       "  <thead>\n",
       "    <tr style=\"text-align: right;\">\n",
       "      <th></th>\n",
       "      <th>feature</th>\n",
       "      <th>dt_importance</th>\n",
       "    </tr>\n",
       "  </thead>\n",
       "  <tbody>\n",
       "    <tr>\n",
       "      <th>1</th>\n",
       "      <td>Duration</td>\n",
       "      <td>0.938630</td>\n",
       "    </tr>\n",
       "    <tr>\n",
       "      <th>2</th>\n",
       "      <td>Heart_Rate</td>\n",
       "      <td>0.036680</td>\n",
       "    </tr>\n",
       "    <tr>\n",
       "      <th>0</th>\n",
       "      <td>Age</td>\n",
       "      <td>0.020558</td>\n",
       "    </tr>\n",
       "    <tr>\n",
       "      <th>3</th>\n",
       "      <td>gender_bin</td>\n",
       "      <td>0.004133</td>\n",
       "    </tr>\n",
       "  </tbody>\n",
       "</table>\n",
       "</div>"
      ],
      "text/plain": [
       "      feature  dt_importance\n",
       "1    Duration       0.938630\n",
       "2  Heart_Rate       0.036680\n",
       "0         Age       0.020558\n",
       "3  gender_bin       0.004133"
      ]
     },
     "execution_count": 67,
     "metadata": {},
     "output_type": "execute_result"
    }
   ],
   "source": [
    "pd.DataFrame({\n",
    "    'feature':best_subset,\n",
    "    'dt_importance':dt.feature_importances_\n",
    "}).sort_values('dt_importance', ascending=False)"
   ]
  },
  {
   "cell_type": "markdown",
   "id": "9bfbccce",
   "metadata": {},
   "source": [
    "В итоговом наборе признаков получиили первые 4 после сортировки по feature importance при первом обучении дерева решений на всем множестве признаков"
   ]
  }
 ],
 "metadata": {
  "kernelspec": {
   "display_name": "MathVenv (3.11.4)",
   "language": "python",
   "name": "python3"
  },
  "language_info": {
   "codemirror_mode": {
    "name": "ipython",
    "version": 3
   },
   "file_extension": ".py",
   "mimetype": "text/x-python",
   "name": "python",
   "nbconvert_exporter": "python",
   "pygments_lexer": "ipython3",
   "version": "3.11.4"
  }
 },
 "nbformat": 4,
 "nbformat_minor": 5
}
