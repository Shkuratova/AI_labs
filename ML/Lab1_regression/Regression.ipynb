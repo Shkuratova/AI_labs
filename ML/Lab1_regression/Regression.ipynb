{
 "cells": [
  {
   "cell_type": "markdown",
   "id": "0dcb70a5",
   "metadata": {},
   "source": [
    "# Лабораторная №1. Задача регрессии.\n",
    "\n",
    "**Шкуратова Д.В. Б9122-01.03.02мкт**\n"
   ]
  },
  {
   "cell_type": "markdown",
   "id": "88a2fed7",
   "metadata": {},
   "source": [
    "# Import"
   ]
  },
  {
   "cell_type": "code",
   "execution_count": null,
   "id": "0b08c040",
   "metadata": {},
   "outputs": [],
   "source": [
    "import pandas as pd\n",
    "import numpy as np \n",
    "import seaborn as sns \n",
    "import matplotlib.pyplot as plt \n",
    "from IPython.display import display"
   ]
  },
  {
   "cell_type": "code",
   "execution_count": null,
   "id": "5baa26ed",
   "metadata": {},
   "outputs": [],
   "source": [
    "from sklearn.linear_model import LinearRegression, Lasso, Ridge\n",
    "from sklearn.tree import DecisionTreeRegressor\n",
    "from sklearn.ensemble import RandomForestRegressor\n",
    "from catboost import CatBoostRegressor\n",
    "\n",
    "from sklearn.metrics import mean_absolute_error, mean_squared_error, r2_score\n",
    "from sklearn.model_selection import train_test_split"
   ]
  },
  {
   "cell_type": "markdown",
   "id": "e7207d66",
   "metadata": {},
   "source": [
    "# Load Dataset\n",
    "Датасет взят с [Kaggle](https://www.kaggle.com/competitions/critical-temperature-of-superconductors/overview) (Задача с Samsung Innovation Campus Bootcamp)\n",
    "\n",
    "**Описание задачи:**\n",
    ">Явление сверхпроводимость одно из самых удивительных по своей природе, но объяснить его с классической точки зрения невозможно.\n",
    "Данное явление было открыто голландским физиком Хейке Камерлинг-Оннес в 1911 году.\n",
    "\n",
    ">Сверхпроводимость — свойство некоторых веществ и материалов, электрическое сопротивление которых при понижении температуры до определенного уровня падает до нуля. Сверхпроводимость возникает скачком при понижении температуры. Температура при которой возникает скачок называется критической температурой.\n",
    "\n",
    ">Несмотря на то, что сверхпроводимость была открыта больше века назад, многие её свойства плохо изучены, например, связь между сверхпроводимостью и химическими/структурными свойствами материалов.\n",
    "\n",
    ">Вам предлагается разработать алгоритмы машинного обучения, которые позволяют установить связь между химическим составом, различными свойствами сверхпроводниками и их критической температурой.\n"
   ]
  },
  {
   "cell_type": "code",
   "execution_count": null,
   "id": "dd9c0907",
   "metadata": {},
   "outputs": [
    {
     "data": {
      "application/vnd.microsoft.datawrangler.viewer.v0+json": {
       "columns": [
        {
         "name": "index",
         "rawType": "int64",
         "type": "integer"
        },
        {
         "name": "number_of_elements",
         "rawType": "int64",
         "type": "integer"
        },
        {
         "name": "mean_atomic_mass",
         "rawType": "float64",
         "type": "float"
        },
        {
         "name": "wtd_mean_atomic_mass",
         "rawType": "float64",
         "type": "float"
        },
        {
         "name": "gmean_atomic_mass",
         "rawType": "float64",
         "type": "float"
        },
        {
         "name": "wtd_gmean_atomic_mass",
         "rawType": "float64",
         "type": "float"
        },
        {
         "name": "entropy_atomic_mass",
         "rawType": "float64",
         "type": "float"
        },
        {
         "name": "wtd_entropy_atomic_mass",
         "rawType": "float64",
         "type": "float"
        },
        {
         "name": "range_atomic_mass",
         "rawType": "float64",
         "type": "float"
        },
        {
         "name": "wtd_range_atomic_mass",
         "rawType": "float64",
         "type": "float"
        },
        {
         "name": "std_atomic_mass",
         "rawType": "float64",
         "type": "float"
        },
        {
         "name": "wtd_std_atomic_mass",
         "rawType": "float64",
         "type": "float"
        },
        {
         "name": "mean_fie",
         "rawType": "float64",
         "type": "float"
        },
        {
         "name": "wtd_mean_fie",
         "rawType": "float64",
         "type": "float"
        },
        {
         "name": "gmean_fie",
         "rawType": "float64",
         "type": "float"
        },
        {
         "name": "wtd_gmean_fie",
         "rawType": "float64",
         "type": "float"
        },
        {
         "name": "entropy_fie",
         "rawType": "float64",
         "type": "float"
        },
        {
         "name": "wtd_entropy_fie",
         "rawType": "float64",
         "type": "float"
        },
        {
         "name": "range_fie",
         "rawType": "float64",
         "type": "float"
        },
        {
         "name": "wtd_range_fie",
         "rawType": "float64",
         "type": "float"
        },
        {
         "name": "std_fie",
         "rawType": "float64",
         "type": "float"
        },
        {
         "name": "wtd_std_fie",
         "rawType": "float64",
         "type": "float"
        },
        {
         "name": "mean_atomic_radius",
         "rawType": "float64",
         "type": "float"
        },
        {
         "name": "wtd_mean_atomic_radius",
         "rawType": "float64",
         "type": "float"
        },
        {
         "name": "gmean_atomic_radius",
         "rawType": "float64",
         "type": "float"
        },
        {
         "name": "wtd_gmean_atomic_radius",
         "rawType": "float64",
         "type": "float"
        },
        {
         "name": "entropy_atomic_radius",
         "rawType": "float64",
         "type": "float"
        },
        {
         "name": "wtd_entropy_atomic_radius",
         "rawType": "float64",
         "type": "float"
        },
        {
         "name": "range_atomic_radius",
         "rawType": "int64",
         "type": "integer"
        },
        {
         "name": "wtd_range_atomic_radius",
         "rawType": "float64",
         "type": "float"
        },
        {
         "name": "std_atomic_radius",
         "rawType": "float64",
         "type": "float"
        },
        {
         "name": "wtd_std_atomic_radius",
         "rawType": "float64",
         "type": "float"
        },
        {
         "name": "mean_Density",
         "rawType": "float64",
         "type": "float"
        },
        {
         "name": "wtd_mean_Density",
         "rawType": "float64",
         "type": "float"
        },
        {
         "name": "gmean_Density",
         "rawType": "float64",
         "type": "float"
        },
        {
         "name": "wtd_gmean_Density",
         "rawType": "float64",
         "type": "float"
        },
        {
         "name": "entropy_Density",
         "rawType": "float64",
         "type": "float"
        },
        {
         "name": "wtd_entropy_Density",
         "rawType": "float64",
         "type": "float"
        },
        {
         "name": "range_Density",
         "rawType": "float64",
         "type": "float"
        },
        {
         "name": "wtd_range_Density",
         "rawType": "float64",
         "type": "float"
        },
        {
         "name": "std_Density",
         "rawType": "float64",
         "type": "float"
        },
        {
         "name": "wtd_std_Density",
         "rawType": "float64",
         "type": "float"
        },
        {
         "name": "mean_ElectronAffinity",
         "rawType": "float64",
         "type": "float"
        },
        {
         "name": "wtd_mean_ElectronAffinity",
         "rawType": "float64",
         "type": "float"
        },
        {
         "name": "gmean_ElectronAffinity",
         "rawType": "float64",
         "type": "float"
        },
        {
         "name": "wtd_gmean_ElectronAffinity",
         "rawType": "float64",
         "type": "float"
        },
        {
         "name": "entropy_ElectronAffinity",
         "rawType": "float64",
         "type": "float"
        },
        {
         "name": "wtd_entropy_ElectronAffinity",
         "rawType": "float64",
         "type": "float"
        },
        {
         "name": "range_ElectronAffinity",
         "rawType": "float64",
         "type": "float"
        },
        {
         "name": "wtd_range_ElectronAffinity",
         "rawType": "float64",
         "type": "float"
        },
        {
         "name": "std_ElectronAffinity",
         "rawType": "float64",
         "type": "float"
        },
        {
         "name": "wtd_std_ElectronAffinity",
         "rawType": "float64",
         "type": "float"
        },
        {
         "name": "mean_FusionHeat",
         "rawType": "float64",
         "type": "float"
        },
        {
         "name": "wtd_mean_FusionHeat",
         "rawType": "float64",
         "type": "float"
        },
        {
         "name": "gmean_FusionHeat",
         "rawType": "float64",
         "type": "float"
        },
        {
         "name": "wtd_gmean_FusionHeat",
         "rawType": "float64",
         "type": "float"
        },
        {
         "name": "entropy_FusionHeat",
         "rawType": "float64",
         "type": "float"
        },
        {
         "name": "wtd_entropy_FusionHeat",
         "rawType": "float64",
         "type": "float"
        },
        {
         "name": "range_FusionHeat",
         "rawType": "float64",
         "type": "float"
        },
        {
         "name": "wtd_range_FusionHeat",
         "rawType": "float64",
         "type": "float"
        },
        {
         "name": "std_FusionHeat",
         "rawType": "float64",
         "type": "float"
        },
        {
         "name": "wtd_std_FusionHeat",
         "rawType": "float64",
         "type": "float"
        },
        {
         "name": "mean_ThermalConductivity",
         "rawType": "float64",
         "type": "float"
        },
        {
         "name": "wtd_mean_ThermalConductivity",
         "rawType": "float64",
         "type": "float"
        },
        {
         "name": "gmean_ThermalConductivity",
         "rawType": "float64",
         "type": "float"
        },
        {
         "name": "wtd_gmean_ThermalConductivity",
         "rawType": "float64",
         "type": "float"
        },
        {
         "name": "entropy_ThermalConductivity",
         "rawType": "float64",
         "type": "float"
        },
        {
         "name": "wtd_entropy_ThermalConductivity",
         "rawType": "float64",
         "type": "float"
        },
        {
         "name": "range_ThermalConductivity",
         "rawType": "float64",
         "type": "float"
        },
        {
         "name": "wtd_range_ThermalConductivity",
         "rawType": "float64",
         "type": "float"
        },
        {
         "name": "std_ThermalConductivity",
         "rawType": "float64",
         "type": "float"
        },
        {
         "name": "wtd_std_ThermalConductivity",
         "rawType": "float64",
         "type": "float"
        },
        {
         "name": "mean_Valence",
         "rawType": "float64",
         "type": "float"
        },
        {
         "name": "wtd_mean_Valence",
         "rawType": "float64",
         "type": "float"
        },
        {
         "name": "gmean_Valence",
         "rawType": "float64",
         "type": "float"
        },
        {
         "name": "wtd_gmean_Valence",
         "rawType": "float64",
         "type": "float"
        },
        {
         "name": "entropy_Valence",
         "rawType": "float64",
         "type": "float"
        },
        {
         "name": "wtd_entropy_Valence",
         "rawType": "float64",
         "type": "float"
        },
        {
         "name": "range_Valence",
         "rawType": "int64",
         "type": "integer"
        },
        {
         "name": "wtd_range_Valence",
         "rawType": "float64",
         "type": "float"
        },
        {
         "name": "std_Valence",
         "rawType": "float64",
         "type": "float"
        },
        {
         "name": "wtd_std_Valence",
         "rawType": "float64",
         "type": "float"
        },
        {
         "name": "critical_temp",
         "rawType": "float64",
         "type": "float"
        },
        {
         "name": "H",
         "rawType": "float64",
         "type": "float"
        },
        {
         "name": "He",
         "rawType": "int64",
         "type": "integer"
        },
        {
         "name": "Li",
         "rawType": "float64",
         "type": "float"
        },
        {
         "name": "Be",
         "rawType": "float64",
         "type": "float"
        },
        {
         "name": "B",
         "rawType": "float64",
         "type": "float"
        },
        {
         "name": "C",
         "rawType": "float64",
         "type": "float"
        },
        {
         "name": "N",
         "rawType": "float64",
         "type": "float"
        },
        {
         "name": "O",
         "rawType": "float64",
         "type": "float"
        },
        {
         "name": "F",
         "rawType": "float64",
         "type": "float"
        },
        {
         "name": "Ne",
         "rawType": "int64",
         "type": "integer"
        },
        {
         "name": "Na",
         "rawType": "float64",
         "type": "float"
        },
        {
         "name": "Mg",
         "rawType": "float64",
         "type": "float"
        },
        {
         "name": "Al",
         "rawType": "float64",
         "type": "float"
        },
        {
         "name": "Si",
         "rawType": "float64",
         "type": "float"
        },
        {
         "name": "P",
         "rawType": "float64",
         "type": "float"
        },
        {
         "name": "S",
         "rawType": "float64",
         "type": "float"
        },
        {
         "name": "Cl",
         "rawType": "float64",
         "type": "float"
        },
        {
         "name": "Ar",
         "rawType": "int64",
         "type": "integer"
        },
        {
         "name": "K",
         "rawType": "float64",
         "type": "float"
        },
        {
         "name": "Ca",
         "rawType": "float64",
         "type": "float"
        },
        {
         "name": "Sc",
         "rawType": "float64",
         "type": "float"
        },
        {
         "name": "Ti",
         "rawType": "float64",
         "type": "float"
        },
        {
         "name": "V",
         "rawType": "float64",
         "type": "float"
        },
        {
         "name": "Cr",
         "rawType": "float64",
         "type": "float"
        },
        {
         "name": "Mn",
         "rawType": "float64",
         "type": "float"
        },
        {
         "name": "Fe",
         "rawType": "float64",
         "type": "float"
        },
        {
         "name": "Co",
         "rawType": "float64",
         "type": "float"
        },
        {
         "name": "Ni",
         "rawType": "float64",
         "type": "float"
        },
        {
         "name": "Cu",
         "rawType": "float64",
         "type": "float"
        },
        {
         "name": "Zn",
         "rawType": "float64",
         "type": "float"
        },
        {
         "name": "Ga",
         "rawType": "float64",
         "type": "float"
        },
        {
         "name": "Ge",
         "rawType": "float64",
         "type": "float"
        },
        {
         "name": "As",
         "rawType": "float64",
         "type": "float"
        },
        {
         "name": "Se",
         "rawType": "float64",
         "type": "float"
        },
        {
         "name": "Br",
         "rawType": "float64",
         "type": "float"
        },
        {
         "name": "Kr",
         "rawType": "int64",
         "type": "integer"
        },
        {
         "name": "Rb",
         "rawType": "float64",
         "type": "float"
        },
        {
         "name": "Sr",
         "rawType": "float64",
         "type": "float"
        },
        {
         "name": "Y",
         "rawType": "float64",
         "type": "float"
        },
        {
         "name": "Zr",
         "rawType": "float64",
         "type": "float"
        },
        {
         "name": "Nb",
         "rawType": "float64",
         "type": "float"
        },
        {
         "name": "Mo",
         "rawType": "float64",
         "type": "float"
        },
        {
         "name": "Tc",
         "rawType": "float64",
         "type": "float"
        },
        {
         "name": "Ru",
         "rawType": "float64",
         "type": "float"
        },
        {
         "name": "Rh",
         "rawType": "float64",
         "type": "float"
        },
        {
         "name": "Pd",
         "rawType": "float64",
         "type": "float"
        },
        {
         "name": "Ag",
         "rawType": "float64",
         "type": "float"
        },
        {
         "name": "Cd",
         "rawType": "float64",
         "type": "float"
        },
        {
         "name": "In",
         "rawType": "float64",
         "type": "float"
        },
        {
         "name": "Sn",
         "rawType": "float64",
         "type": "float"
        },
        {
         "name": "Sb",
         "rawType": "float64",
         "type": "float"
        },
        {
         "name": "Te",
         "rawType": "float64",
         "type": "float"
        },
        {
         "name": "I",
         "rawType": "float64",
         "type": "float"
        },
        {
         "name": "Xe",
         "rawType": "int64",
         "type": "integer"
        },
        {
         "name": "Cs",
         "rawType": "float64",
         "type": "float"
        },
        {
         "name": "Ba",
         "rawType": "float64",
         "type": "float"
        },
        {
         "name": "La",
         "rawType": "float64",
         "type": "float"
        },
        {
         "name": "Ce",
         "rawType": "float64",
         "type": "float"
        },
        {
         "name": "Pr",
         "rawType": "float64",
         "type": "float"
        },
        {
         "name": "Nd",
         "rawType": "float64",
         "type": "float"
        },
        {
         "name": "Pm",
         "rawType": "int64",
         "type": "integer"
        },
        {
         "name": "Sm",
         "rawType": "float64",
         "type": "float"
        },
        {
         "name": "Eu",
         "rawType": "float64",
         "type": "float"
        },
        {
         "name": "Gd",
         "rawType": "float64",
         "type": "float"
        },
        {
         "name": "Tb",
         "rawType": "float64",
         "type": "float"
        },
        {
         "name": "Dy",
         "rawType": "float64",
         "type": "float"
        },
        {
         "name": "Ho",
         "rawType": "float64",
         "type": "float"
        },
        {
         "name": "Er",
         "rawType": "float64",
         "type": "float"
        },
        {
         "name": "Tm",
         "rawType": "float64",
         "type": "float"
        },
        {
         "name": "Yb",
         "rawType": "float64",
         "type": "float"
        },
        {
         "name": "Lu",
         "rawType": "float64",
         "type": "float"
        },
        {
         "name": "Hf",
         "rawType": "float64",
         "type": "float"
        },
        {
         "name": "Ta",
         "rawType": "float64",
         "type": "float"
        },
        {
         "name": "W",
         "rawType": "float64",
         "type": "float"
        },
        {
         "name": "Re",
         "rawType": "float64",
         "type": "float"
        },
        {
         "name": "Os",
         "rawType": "float64",
         "type": "float"
        },
        {
         "name": "Ir",
         "rawType": "float64",
         "type": "float"
        },
        {
         "name": "Pt",
         "rawType": "float64",
         "type": "float"
        },
        {
         "name": "Au",
         "rawType": "float64",
         "type": "float"
        },
        {
         "name": "Hg",
         "rawType": "float64",
         "type": "float"
        },
        {
         "name": "Tl",
         "rawType": "float64",
         "type": "float"
        },
        {
         "name": "Pb",
         "rawType": "float64",
         "type": "float"
        },
        {
         "name": "Bi",
         "rawType": "float64",
         "type": "float"
        },
        {
         "name": "Po",
         "rawType": "int64",
         "type": "integer"
        },
        {
         "name": "At",
         "rawType": "int64",
         "type": "integer"
        },
        {
         "name": "Rn",
         "rawType": "int64",
         "type": "integer"
        },
        {
         "name": "material",
         "rawType": "object",
         "type": "string"
        }
       ],
       "ref": "eb404096-93ad-483c-a33c-fd8c4bf796ef",
       "rows": [
        [
         "0",
         "4",
         "88.9444675",
         "57.8626922857143",
         "66.3615924315719",
         "36.1166119053847",
         "1.1817952393305",
         "1.06239554519617",
         "122.90607",
         "31.7949208571429",
         "51.9688277861034",
         "53.6225345301219",
         "775.425",
         "1010.26857142857",
         "718.15289995213",
         "938.016780052204",
         "1.30596703599158",
         "0.791487788469155",
         "810.6",
         "735.985714285714",
         "323.811807806633",
         "355.562966713294",
         "160.25",
         "105.514285714286",
         "136.126003095455",
         "84.528422716633",
         "1.25924397214289",
         "1.20703998701461",
         "205",
         "42.9142857142857",
         "75.2375404967494",
         "69.2355694829807",
         "4654.35725",
         "2961.50228571429",
         "724.953210852388",
         "53.5438109235142",
         "1.03312880053102",
         "0.814598190091683",
         "8958.571",
         "1579.58342857143",
         "3306.1628967555",
         "3572.59662370838",
         "81.8375",
         "111.727142857143",
         "60.1231785550982",
         "99.4146820543113",
         "1.15968659338134",
         "0.787381690763223",
         "127.05",
         "80.9871428571429",
         "51.4337118896741",
         "42.55839575195",
         "6.9055",
         "3.84685714285714",
         "3.47947484936327",
         "1.04098598567486",
         "1.08857534188499",
         "0.994998193254128",
         "12.878",
         "1.74457142857143",
         "4.59906411675245",
         "4.66691955388659",
         "107.756645",
         "61.0151885714286",
         "7.06248773046785",
         "0.62197948704754",
         "0.308147989812345",
         "0.262848266362233",
         "399.97342",
         "57.1276685714286",
         "168.854243757651",
         "138.51716251123",
         "2.25",
         "2.25714285714286",
         "2.21336383940064",
         "2.21978342968743",
         "1.36892236074022",
         "1.0662210317362",
         "1",
         "1.08571428571429",
         "0.433012701892219",
         "0.43705881545081",
         "29.0",
         "0.0",
         "0",
         "0.0",
         "0.0",
         "0.0",
         "0.0",
         "0.0",
         "4.0",
         "0.0",
         "0",
         "0.0",
         "0.0",
         "0.0",
         "0.0",
         "0.0",
         "0.0",
         "0.0",
         "0",
         "0.0",
         "0.0",
         "0.0",
         "0.0",
         "0.0",
         "0.0",
         "0.0",
         "0.0",
         "0.0",
         "0.0",
         "1.0",
         "0.0",
         "0.0",
         "0.0",
         "0.0",
         "0.0",
         "0.0",
         "0",
         "0.0",
         "0.0",
         "0.0",
         "0.0",
         "0.0",
         "0.0",
         "0.0",
         "0.0",
         "0.0",
         "0.0",
         "0.0",
         "0.0",
         "0.0",
         "0.0",
         "0.0",
         "0.0",
         "0.0",
         "0",
         "0.0",
         "0.2",
         "1.8",
         "0.0",
         "0.0",
         "0.0",
         "0",
         "0.0",
         "0.0",
         "0.0",
         "0.0",
         "0.0",
         "0.0",
         "0.0",
         "0.0",
         "0.0",
         "0.0",
         "0.0",
         "0.0",
         "0.0",
         "0.0",
         "0.0",
         "0.0",
         "0.0",
         "0.0",
         "0.0",
         "0.0",
         "0.0",
         "0.0",
         "0",
         "0",
         "0",
         "Ba0.2La1.8Cu1O4"
        ],
        [
         "1",
         "5",
         "92.729214",
         "58.5184161428571",
         "73.1327872225065",
         "36.3966020291995",
         "1.44930919335685",
         "1.05775512271911",
         "122.90607",
         "36.161939",
         "47.0946331703134",
         "53.9798696513451",
         "766.44",
         "1010.61285714286",
         "720.605510513725",
         "938.745412527433",
         "1.54414454326973",
         "0.807078214938731",
         "810.6",
         "743.164285714286",
         "290.183029138508",
         "354.963511171592",
         "161.2",
         "104.971428571429",
         "141.465214777999",
         "84.3701669575628",
         "1.50832754035259",
         "1.2041147982326",
         "205",
         "50.5714285714286",
         "67.321319060161",
         "68.0088169554027",
         "5821.4858",
         "3021.01657142857",
         "1237.09508033858",
         "54.0957182556368",
         "1.31444218462105",
         "0.914802177066343",
         "10488.571",
         "1667.38342857143",
         "3767.40317577062",
         "3632.64918471043",
         "90.89",
         "112.316428571429",
         "69.8333146094209",
         "101.166397739874",
         "1.42799655342352",
         "0.83866646563365",
         "127.05",
         "81.2078571428572",
         "49.4381674417651",
         "41.6676207979191",
         "7.7844",
         "3.79685714285714",
         "4.40379049753476",
         "1.03525111582814",
         "1.37497728009085",
         "1.07309384625263",
         "12.878",
         "1.59571428571429",
         "4.47336265464807",
         "4.60300005985449",
         "172.205316",
         "61.3723314285714",
         "16.0642278788044",
         "0.619734632330547",
         "0.847404163195705",
         "0.567706107876637",
         "429.97342",
         "51.4133828571429",
         "198.554600255545",
         "139.630922368904",
         "2.0",
         "2.25714285714286",
         "1.8881750225898",
         "2.21067940870655",
         "1.55711309805765",
         "1.04722136819323",
         "2",
         "1.12857142857143",
         "0.632455532033676",
         "0.468606270481621",
         "26.0",
         "0.0",
         "0",
         "0.0",
         "0.0",
         "0.0",
         "0.0",
         "0.0",
         "4.0",
         "0.0",
         "0",
         "0.0",
         "0.0",
         "0.0",
         "0.0",
         "0.0",
         "0.0",
         "0.0",
         "0",
         "0.0",
         "0.0",
         "0.0",
         "0.0",
         "0.0",
         "0.0",
         "0.0",
         "0.0",
         "0.0",
         "0.0",
         "0.9",
         "0.0",
         "0.0",
         "0.0",
         "0.0",
         "0.0",
         "0.0",
         "0",
         "0.0",
         "0.0",
         "0.0",
         "0.0",
         "0.0",
         "0.0",
         "0.0",
         "0.0",
         "0.0",
         "0.0",
         "0.1",
         "0.0",
         "0.0",
         "0.0",
         "0.0",
         "0.0",
         "0.0",
         "0",
         "0.0",
         "0.1",
         "1.9",
         "0.0",
         "0.0",
         "0.0",
         "0",
         "0.0",
         "0.0",
         "0.0",
         "0.0",
         "0.0",
         "0.0",
         "0.0",
         "0.0",
         "0.0",
         "0.0",
         "0.0",
         "0.0",
         "0.0",
         "0.0",
         "0.0",
         "0.0",
         "0.0",
         "0.0",
         "0.0",
         "0.0",
         "0.0",
         "0.0",
         "0",
         "0",
         "0",
         "Ba0.1La1.9Ag0.1Cu0.9O4"
        ],
        [
         "2",
         "4",
         "88.9444675",
         "57.8852418571429",
         "66.3615924315719",
         "36.1225090359592",
         "1.1817952393305",
         "0.975980464165498",
         "122.90607",
         "35.741099",
         "51.9688277861034",
         "53.6562677320982",
         "775.425",
         "1010.82",
         "718.15289995213",
         "939.009035665864",
         "1.30596703599158",
         "0.773620193146673",
         "810.6",
         "743.164285714286",
         "323.811807806633",
         "354.804182855034",
         "160.25",
         "104.685714285714",
         "136.126003095455",
         "84.214573243296",
         "1.25924397214289",
         "1.13254686280436",
         "205",
         "49.3142857142857",
         "75.2375404967494",
         "67.797712320685",
         "4654.35725",
         "2999.15942857143",
         "724.953210852388",
         "53.9740223651659",
         "1.03312880053102",
         "0.760305152674073",
         "8958.571",
         "1667.38342857143",
         "3306.1628967555",
         "3592.01928133231",
         "81.8375",
         "112.213571428571",
         "60.1231785550982",
         "101.082152388012",
         "1.15968659338134",
         "0.786006736025012",
         "127.05",
         "81.2078571428572",
         "51.4337118896741",
         "41.6398777971212",
         "6.9055",
         "3.82257142857143",
         "3.47947484936327",
         "1.03743942474191",
         "1.08857534188499",
         "0.927479442031317",
         "12.878",
         "1.75714285714286",
         "4.59906411675245",
         "4.64963546519334",
         "107.756645",
         "60.94376",
         "7.06248773046785",
         "0.619094682704274",
         "0.308147989812345",
         "0.250477444193951",
         "399.97342",
         "57.1276685714286",
         "168.854243757651",
         "138.54061273835",
         "2.25",
         "2.27142857142857",
         "2.21336383940064",
         "2.23267852196607",
         "1.36892236074022",
         "1.02917468729772",
         "1",
         "1.11428571428571",
         "0.433012701892219",
         "0.444696640464954",
         "19.0",
         "0.0",
         "0",
         "0.0",
         "0.0",
         "0.0",
         "0.0",
         "0.0",
         "4.0",
         "0.0",
         "0",
         "0.0",
         "0.0",
         "0.0",
         "0.0",
         "0.0",
         "0.0",
         "0.0",
         "0",
         "0.0",
         "0.0",
         "0.0",
         "0.0",
         "0.0",
         "0.0",
         "0.0",
         "0.0",
         "0.0",
         "0.0",
         "1.0",
         "0.0",
         "0.0",
         "0.0",
         "0.0",
         "0.0",
         "0.0",
         "0",
         "0.0",
         "0.0",
         "0.0",
         "0.0",
         "0.0",
         "0.0",
         "0.0",
         "0.0",
         "0.0",
         "0.0",
         "0.0",
         "0.0",
         "0.0",
         "0.0",
         "0.0",
         "0.0",
         "0.0",
         "0",
         "0.0",
         "0.1",
         "1.9",
         "0.0",
         "0.0",
         "0.0",
         "0",
         "0.0",
         "0.0",
         "0.0",
         "0.0",
         "0.0",
         "0.0",
         "0.0",
         "0.0",
         "0.0",
         "0.0",
         "0.0",
         "0.0",
         "0.0",
         "0.0",
         "0.0",
         "0.0",
         "0.0",
         "0.0",
         "0.0",
         "0.0",
         "0.0",
         "0.0",
         "0",
         "0",
         "0",
         "Ba0.1La1.9Cu1O4"
        ],
        [
         "3",
         "4",
         "88.9444675",
         "57.8739670714286",
         "66.3615924315719",
         "36.1195603503211",
         "1.1817952393305",
         "1.0222908923957",
         "122.90607",
         "33.7680099285714",
         "51.9688277861034",
         "53.63940496787",
         "775.425",
         "1010.54428571429",
         "718.15289995213",
         "938.512776724546",
         "1.30596703599158",
         "0.783206660361291",
         "810.6",
         "739.575",
         "323.811807806633",
         "355.183884421944",
         "160.25",
         "105.1",
         "136.126003095455",
         "84.371352045645",
         "1.25924397214289",
         "1.17303291789271",
         "205",
         "46.1142857142857",
         "75.2375404967494",
         "68.5216649785203",
         "4654.35725",
         "2980.33085714286",
         "724.953210852388",
         "53.7584862910218",
         "1.03312880053102",
         "0.788888532221461",
         "8958.571",
         "1623.48342857143",
         "3306.1628967555",
         "3582.37059664405",
         "81.8375",
         "111.970357142857",
         "60.1231785550982",
         "100.24495020209",
         "1.15968659338134",
         "0.786900489374915",
         "127.05",
         "81.0975",
         "51.4337118896741",
         "42.1023442240235",
         "6.9055",
         "3.83471428571429",
         "3.47947484936327",
         "1.03921119227177",
         "1.08857534188499",
         "0.96403104867923",
         "12.878",
         "1.74457142857143",
         "4.59906411675245",
         "4.6583013524026",
         "107.756645",
         "60.9794742857143",
         "7.06248773046785",
         "0.620535408483887",
         "0.308147989812345",
         "0.257045108326848",
         "399.97342",
         "57.1276685714286",
         "168.854243757651",
         "138.528892724768",
         "2.25",
         "2.26428571428571",
         "2.21336383940064",
         "2.2262216392083",
         "1.36892236074022",
         "1.04883427304761",
         "1",
         "1.1",
         "0.433012701892219",
         "0.440952123830019",
         "22.0",
         "0.0",
         "0",
         "0.0",
         "0.0",
         "0.0",
         "0.0",
         "0.0",
         "4.0",
         "0.0",
         "0",
         "0.0",
         "0.0",
         "0.0",
         "0.0",
         "0.0",
         "0.0",
         "0.0",
         "0",
         "0.0",
         "0.0",
         "0.0",
         "0.0",
         "0.0",
         "0.0",
         "0.0",
         "0.0",
         "0.0",
         "0.0",
         "1.0",
         "0.0",
         "0.0",
         "0.0",
         "0.0",
         "0.0",
         "0.0",
         "0",
         "0.0",
         "0.0",
         "0.0",
         "0.0",
         "0.0",
         "0.0",
         "0.0",
         "0.0",
         "0.0",
         "0.0",
         "0.0",
         "0.0",
         "0.0",
         "0.0",
         "0.0",
         "0.0",
         "0.0",
         "0",
         "0.0",
         "0.15",
         "1.85",
         "0.0",
         "0.0",
         "0.0",
         "0",
         "0.0",
         "0.0",
         "0.0",
         "0.0",
         "0.0",
         "0.0",
         "0.0",
         "0.0",
         "0.0",
         "0.0",
         "0.0",
         "0.0",
         "0.0",
         "0.0",
         "0.0",
         "0.0",
         "0.0",
         "0.0",
         "0.0",
         "0.0",
         "0.0",
         "0.0",
         "0",
         "0",
         "0",
         "Ba0.15La1.85Cu1O4"
        ],
        [
         "4",
         "4",
         "88.9444675",
         "57.8401427142857",
         "66.3615924315719",
         "36.1107157375382",
         "1.1817952393305",
         "1.12922373013507",
         "122.90607",
         "27.8487427142857",
         "51.9688277861034",
         "53.5887706050743",
         "775.425",
         "1009.71714285714",
         "718.15289995213",
         "937.025572960086",
         "1.30596703599158",
         "0.805229640813357",
         "810.6",
         "728.807142857143",
         "323.811807806633",
         "356.31928137213",
         "160.25",
         "106.342857142857",
         "136.126003095455",
         "84.8434418389765",
         "1.25924397214289",
         "1.26119371912948",
         "205",
         "36.5142857142857",
         "75.2375404967494",
         "70.6344484378724",
         "4654.35725",
         "2923.84514285714",
         "724.953210852388",
         "53.1170285737926",
         "1.03312880053102",
         "0.859810869291435",
         "8958.571",
         "1491.78342857143",
         "3306.1628967555",
         "3552.66866358032",
         "81.8375",
         "111.240714285714",
         "60.1231785550982",
         "97.7747186271033",
         "1.15968659338134",
         "0.787396182520174",
         "127.05",
         "80.7664285714286",
         "51.4337118896741",
         "43.4520592088545",
         "6.9055",
         "3.87114285714286",
         "3.47947484936327",
         "1.04454467078021",
         "1.08857534188499",
         "1.04496953590973",
         "12.878",
         "1.74457142857143",
         "4.59906411675245",
         "4.68401395107631",
         "107.756645",
         "61.0866171428571",
         "7.06248773046785",
         "0.624877733754845",
         "0.308147989812345",
         "0.272819938850094",
         "399.97342",
         "57.1276685714286",
         "168.854243757651",
         "138.493671473918",
         "2.25",
         "2.24285714285714",
         "2.21336383940064",
         "2.20696281450132",
         "1.36892236074022",
         "1.09605191790054",
         "1",
         "1.05714285714286",
         "0.433012701892219",
         "0.428809457708675",
         "23.0",
         "0.0",
         "0",
         "0.0",
         "0.0",
         "0.0",
         "0.0",
         "0.0",
         "4.0",
         "0.0",
         "0",
         "0.0",
         "0.0",
         "0.0",
         "0.0",
         "0.0",
         "0.0",
         "0.0",
         "0",
         "0.0",
         "0.0",
         "0.0",
         "0.0",
         "0.0",
         "0.0",
         "0.0",
         "0.0",
         "0.0",
         "0.0",
         "1.0",
         "0.0",
         "0.0",
         "0.0",
         "0.0",
         "0.0",
         "0.0",
         "0",
         "0.0",
         "0.0",
         "0.0",
         "0.0",
         "0.0",
         "0.0",
         "0.0",
         "0.0",
         "0.0",
         "0.0",
         "0.0",
         "0.0",
         "0.0",
         "0.0",
         "0.0",
         "0.0",
         "0.0",
         "0",
         "0.0",
         "0.3",
         "1.7",
         "0.0",
         "0.0",
         "0.0",
         "0",
         "0.0",
         "0.0",
         "0.0",
         "0.0",
         "0.0",
         "0.0",
         "0.0",
         "0.0",
         "0.0",
         "0.0",
         "0.0",
         "0.0",
         "0.0",
         "0.0",
         "0.0",
         "0.0",
         "0.0",
         "0.0",
         "0.0",
         "0.0",
         "0.0",
         "0.0",
         "0",
         "0",
         "0",
         "Ba0.3La1.7Cu1O4"
        ]
       ],
       "shape": {
        "columns": 169,
        "rows": 5
       }
      },
      "text/html": [
       "<div>\n",
       "<style scoped>\n",
       "    .dataframe tbody tr th:only-of-type {\n",
       "        vertical-align: middle;\n",
       "    }\n",
       "\n",
       "    .dataframe tbody tr th {\n",
       "        vertical-align: top;\n",
       "    }\n",
       "\n",
       "    .dataframe thead th {\n",
       "        text-align: right;\n",
       "    }\n",
       "</style>\n",
       "<table border=\"1\" class=\"dataframe\">\n",
       "  <thead>\n",
       "    <tr style=\"text-align: right;\">\n",
       "      <th></th>\n",
       "      <th>number_of_elements</th>\n",
       "      <th>mean_atomic_mass</th>\n",
       "      <th>wtd_mean_atomic_mass</th>\n",
       "      <th>gmean_atomic_mass</th>\n",
       "      <th>wtd_gmean_atomic_mass</th>\n",
       "      <th>entropy_atomic_mass</th>\n",
       "      <th>wtd_entropy_atomic_mass</th>\n",
       "      <th>range_atomic_mass</th>\n",
       "      <th>wtd_range_atomic_mass</th>\n",
       "      <th>std_atomic_mass</th>\n",
       "      <th>...</th>\n",
       "      <th>Pt</th>\n",
       "      <th>Au</th>\n",
       "      <th>Hg</th>\n",
       "      <th>Tl</th>\n",
       "      <th>Pb</th>\n",
       "      <th>Bi</th>\n",
       "      <th>Po</th>\n",
       "      <th>At</th>\n",
       "      <th>Rn</th>\n",
       "      <th>material</th>\n",
       "    </tr>\n",
       "  </thead>\n",
       "  <tbody>\n",
       "    <tr>\n",
       "      <th>0</th>\n",
       "      <td>4</td>\n",
       "      <td>88.944468</td>\n",
       "      <td>57.862692</td>\n",
       "      <td>66.361592</td>\n",
       "      <td>36.116612</td>\n",
       "      <td>1.181795</td>\n",
       "      <td>1.062396</td>\n",
       "      <td>122.90607</td>\n",
       "      <td>31.794921</td>\n",
       "      <td>51.968828</td>\n",
       "      <td>...</td>\n",
       "      <td>0.0</td>\n",
       "      <td>0.0</td>\n",
       "      <td>0.0</td>\n",
       "      <td>0.0</td>\n",
       "      <td>0.0</td>\n",
       "      <td>0.0</td>\n",
       "      <td>0</td>\n",
       "      <td>0</td>\n",
       "      <td>0</td>\n",
       "      <td>Ba0.2La1.8Cu1O4</td>\n",
       "    </tr>\n",
       "    <tr>\n",
       "      <th>1</th>\n",
       "      <td>5</td>\n",
       "      <td>92.729214</td>\n",
       "      <td>58.518416</td>\n",
       "      <td>73.132787</td>\n",
       "      <td>36.396602</td>\n",
       "      <td>1.449309</td>\n",
       "      <td>1.057755</td>\n",
       "      <td>122.90607</td>\n",
       "      <td>36.161939</td>\n",
       "      <td>47.094633</td>\n",
       "      <td>...</td>\n",
       "      <td>0.0</td>\n",
       "      <td>0.0</td>\n",
       "      <td>0.0</td>\n",
       "      <td>0.0</td>\n",
       "      <td>0.0</td>\n",
       "      <td>0.0</td>\n",
       "      <td>0</td>\n",
       "      <td>0</td>\n",
       "      <td>0</td>\n",
       "      <td>Ba0.1La1.9Ag0.1Cu0.9O4</td>\n",
       "    </tr>\n",
       "    <tr>\n",
       "      <th>2</th>\n",
       "      <td>4</td>\n",
       "      <td>88.944468</td>\n",
       "      <td>57.885242</td>\n",
       "      <td>66.361592</td>\n",
       "      <td>36.122509</td>\n",
       "      <td>1.181795</td>\n",
       "      <td>0.975980</td>\n",
       "      <td>122.90607</td>\n",
       "      <td>35.741099</td>\n",
       "      <td>51.968828</td>\n",
       "      <td>...</td>\n",
       "      <td>0.0</td>\n",
       "      <td>0.0</td>\n",
       "      <td>0.0</td>\n",
       "      <td>0.0</td>\n",
       "      <td>0.0</td>\n",
       "      <td>0.0</td>\n",
       "      <td>0</td>\n",
       "      <td>0</td>\n",
       "      <td>0</td>\n",
       "      <td>Ba0.1La1.9Cu1O4</td>\n",
       "    </tr>\n",
       "    <tr>\n",
       "      <th>3</th>\n",
       "      <td>4</td>\n",
       "      <td>88.944468</td>\n",
       "      <td>57.873967</td>\n",
       "      <td>66.361592</td>\n",
       "      <td>36.119560</td>\n",
       "      <td>1.181795</td>\n",
       "      <td>1.022291</td>\n",
       "      <td>122.90607</td>\n",
       "      <td>33.768010</td>\n",
       "      <td>51.968828</td>\n",
       "      <td>...</td>\n",
       "      <td>0.0</td>\n",
       "      <td>0.0</td>\n",
       "      <td>0.0</td>\n",
       "      <td>0.0</td>\n",
       "      <td>0.0</td>\n",
       "      <td>0.0</td>\n",
       "      <td>0</td>\n",
       "      <td>0</td>\n",
       "      <td>0</td>\n",
       "      <td>Ba0.15La1.85Cu1O4</td>\n",
       "    </tr>\n",
       "    <tr>\n",
       "      <th>4</th>\n",
       "      <td>4</td>\n",
       "      <td>88.944468</td>\n",
       "      <td>57.840143</td>\n",
       "      <td>66.361592</td>\n",
       "      <td>36.110716</td>\n",
       "      <td>1.181795</td>\n",
       "      <td>1.129224</td>\n",
       "      <td>122.90607</td>\n",
       "      <td>27.848743</td>\n",
       "      <td>51.968828</td>\n",
       "      <td>...</td>\n",
       "      <td>0.0</td>\n",
       "      <td>0.0</td>\n",
       "      <td>0.0</td>\n",
       "      <td>0.0</td>\n",
       "      <td>0.0</td>\n",
       "      <td>0.0</td>\n",
       "      <td>0</td>\n",
       "      <td>0</td>\n",
       "      <td>0</td>\n",
       "      <td>Ba0.3La1.7Cu1O4</td>\n",
       "    </tr>\n",
       "  </tbody>\n",
       "</table>\n",
       "<p>5 rows × 169 columns</p>\n",
       "</div>"
      ],
      "text/plain": [
       "   number_of_elements  mean_atomic_mass  wtd_mean_atomic_mass  \\\n",
       "0                   4         88.944468             57.862692   \n",
       "1                   5         92.729214             58.518416   \n",
       "2                   4         88.944468             57.885242   \n",
       "3                   4         88.944468             57.873967   \n",
       "4                   4         88.944468             57.840143   \n",
       "\n",
       "   gmean_atomic_mass  wtd_gmean_atomic_mass  entropy_atomic_mass  \\\n",
       "0          66.361592              36.116612             1.181795   \n",
       "1          73.132787              36.396602             1.449309   \n",
       "2          66.361592              36.122509             1.181795   \n",
       "3          66.361592              36.119560             1.181795   \n",
       "4          66.361592              36.110716             1.181795   \n",
       "\n",
       "   wtd_entropy_atomic_mass  range_atomic_mass  wtd_range_atomic_mass  \\\n",
       "0                 1.062396          122.90607              31.794921   \n",
       "1                 1.057755          122.90607              36.161939   \n",
       "2                 0.975980          122.90607              35.741099   \n",
       "3                 1.022291          122.90607              33.768010   \n",
       "4                 1.129224          122.90607              27.848743   \n",
       "\n",
       "   std_atomic_mass  ...   Pt   Au   Hg   Tl   Pb   Bi  Po  At  Rn  \\\n",
       "0        51.968828  ...  0.0  0.0  0.0  0.0  0.0  0.0   0   0   0   \n",
       "1        47.094633  ...  0.0  0.0  0.0  0.0  0.0  0.0   0   0   0   \n",
       "2        51.968828  ...  0.0  0.0  0.0  0.0  0.0  0.0   0   0   0   \n",
       "3        51.968828  ...  0.0  0.0  0.0  0.0  0.0  0.0   0   0   0   \n",
       "4        51.968828  ...  0.0  0.0  0.0  0.0  0.0  0.0   0   0   0   \n",
       "\n",
       "                 material  \n",
       "0         Ba0.2La1.8Cu1O4  \n",
       "1  Ba0.1La1.9Ag0.1Cu0.9O4  \n",
       "2         Ba0.1La1.9Cu1O4  \n",
       "3       Ba0.15La1.85Cu1O4  \n",
       "4         Ba0.3La1.7Cu1O4  \n",
       "\n",
       "[5 rows x 169 columns]"
      ]
     },
     "execution_count": 3,
     "metadata": {},
     "output_type": "execute_result"
    }
   ],
   "source": [
    "df = pd.read_csv('data/train.csv')\n",
    "formula = pd.read_csv('data/formula_train.csv')\n",
    "formula.drop(columns=['critical_temp'], inplace=True)\n",
    "df = pd.concat([df, formula], axis=1)\n",
    "df.head()"
   ]
  },
  {
   "cell_type": "code",
   "execution_count": null,
   "id": "d3b5a38a",
   "metadata": {},
   "outputs": [
    {
     "data": {
      "text/plain": [
       "(87, 82)"
      ]
     },
     "execution_count": 4,
     "metadata": {},
     "output_type": "execute_result"
    }
   ],
   "source": [
    "formula.shape[1], df.shape[1] - formula.shape[1]"
   ]
  },
  {
   "cell_type": "markdown",
   "id": "37117ccb",
   "metadata": {},
   "source": [
    "# DA\n",
    "Тренировочный датасет состоит из двух csv файлов:\n",
    "- formula_train.csv\n",
    "    - содержит химическую формулу сверхпроводника: колонки являются названиями хим. эл-в, строки содержат кол-во атомов соответствюшего эл-та\n",
    "- train.csv \n",
    "    - содержит другие химические и физические свойства сверхпроводника"
   ]
  },
  {
   "cell_type": "code",
   "execution_count": null,
   "id": "0ef8c199",
   "metadata": {},
   "outputs": [
    {
     "data": {
      "text/plain": [
       "<Axes: xlabel='critical_temp', ylabel='Count'>"
      ]
     },
     "execution_count": 45,
     "metadata": {},
     "output_type": "execute_result"
    },
    {
     "data": {
      "image/png": "[encoded data removed]",
      "text/plain": [
       "<Figure size 640x480 with 1 Axes>"
      ]
     },
     "metadata": {},
     "output_type": "display_data"
    }
   ],
   "source": [
    "sns.histplot(df['critical_temp'], kde=True)"
   ]
  },
  {
   "cell_type": "code",
   "execution_count": null,
   "id": "616c9163",
   "metadata": {},
   "outputs": [
    {
     "data": {
      "application/vnd.microsoft.datawrangler.viewer.v0+json": {
       "columns": [
        {
         "name": "index",
         "rawType": "object",
         "type": "string"
        },
        {
         "name": "critical_temp",
         "rawType": "float64",
         "type": "float"
        }
       ],
       "ref": "38b1ec4b-5078-4942-9a0d-0e9ce2deca3c",
       "rows": [
        [
         "count",
         "17010.0"
        ],
        [
         "mean",
         "34.502993478835975"
        ],
        [
         "std",
         "34.33479321181257"
        ],
        [
         "min",
         "0.00021"
        ],
        [
         "25%",
         "5.33"
        ],
        [
         "50%",
         "20.0"
        ],
        [
         "75%",
         "63.0"
        ],
        [
         "max",
         "185.0"
        ]
       ],
       "shape": {
        "columns": 1,
        "rows": 8
       }
      },
      "text/plain": [
       "count    17010.000000\n",
       "mean        34.502993\n",
       "std         34.334793\n",
       "min          0.000210\n",
       "25%          5.330000\n",
       "50%         20.000000\n",
       "75%         63.000000\n",
       "max        185.000000\n",
       "Name: critical_temp, dtype: float64"
      ]
     },
     "execution_count": 68,
     "metadata": {},
     "output_type": "execute_result"
    }
   ],
   "source": [
    "df['critical_temp'].describe()"
   ]
  },
  {
   "cell_type": "code",
   "execution_count": null,
   "id": "d7be5536",
   "metadata": {},
   "outputs": [],
   "source": [
    "def get_metric(y_true, y_pred, filter=False):\n",
    "    if filter:\n",
    "        y_pred = [0 if i < 0 else i for i in y_pred]\n",
    "    mse = mean_squared_error(y_true, y_pred)\n",
    "    rmse = mse ** (1/2)\n",
    "    mae = mean_absolute_error(y_true, y_pred)\n",
    "    r2 = r2_score(y_true, y_pred)\n",
    "    return pd.DataFrame({\n",
    "        'MSE':[mse],\n",
    "        'RMSE':[rmse],\n",
    "        'MAE':[mae],\n",
    "        'R2':[r2]\n",
    "    })\n"
   ]
  },
  {
   "cell_type": "markdown",
   "id": "e1dc86c2",
   "metadata": {},
   "source": [
    "# Models"
   ]
  },
  {
   "cell_type": "markdown",
   "id": "5f3903c1",
   "metadata": {},
   "source": [
    "## Data preprocessing"
   ]
  },
  {
   "cell_type": "code",
   "execution_count": null,
   "id": "ca7ed340",
   "metadata": {},
   "outputs": [],
   "source": [
    "train, test = train_test_split(df, train_size=0.7, random_state=714134)\n",
    "X_col = df.columns.drop(['critical_temp', 'material'])\n",
    "y_col = 'critical_temp'"
   ]
  },
  {
   "cell_type": "markdown",
   "id": "131533ab",
   "metadata": {},
   "source": [
    "## Linear Model"
   ]
  },
  {
   "cell_type": "code",
   "execution_count": null,
   "id": "834a2cf6",
   "metadata": {},
   "outputs": [
    {
     "name": "stderr",
     "output_type": "stream",
     "text": [
      "d:\\xyz\\Projects\\MathVenv\\Lib\\site-packages\\sklearn\\linear_model\\_coordinate_descent.py:695: ConvergenceWarning: Objective did not converge. You might want to increase the number of iterations, check the scale of the features or consider increasing regularisation. Duality gap: 4.739e+05, tolerance: 1.409e+03\n",
      "  model = cd_fast.enet_coordinate_descent(\n"
     ]
    },
    {
     "data": {
      "application/vnd.microsoft.datawrangler.viewer.v0+json": {
       "columns": [
        {
         "name": "index",
         "rawType": "int64",
         "type": "integer"
        },
        {
         "name": "feature_name",
         "rawType": "object",
         "type": "string"
        },
        {
         "name": "lm_coef",
         "rawType": "float64",
         "type": "float"
        },
        {
         "name": "lasso_wi",
         "rawType": "float64",
         "type": "float"
        },
        {
         "name": "ridge_wi",
         "rawType": "float64",
         "type": "float"
        }
       ],
       "ref": "7770bb1d-b19c-4ead-bb70-b6c1f6e69d5b",
       "rows": [
        [
         "0",
         "Intercept",
         "-8.943333403934204",
         "-14.2451038174502",
         "-9.49892160248966"
        ],
        [
         "1",
         "number_of_elements",
         "0.69234458825985",
         "0.0",
         "0.3815381004710819"
        ],
        [
         "2",
         "mean_atomic_mass",
         "1.032552147228155",
         "0.18197145601036002",
         "1.0250585743042784"
        ],
        [
         "3",
         "wtd_mean_atomic_mass",
         "-1.407359401747438",
         "-0.07354949252317691",
         "-1.3988028742642056"
        ],
        [
         "4",
         "gmean_atomic_mass",
         "-0.5903919691851405",
         "-0.0",
         "-0.5938075056177313"
        ],
        [
         "5",
         "wtd_gmean_atomic_mass",
         "0.9017862511826064",
         "-0.0291194722346756",
         "0.904947365796355"
        ],
        [
         "6",
         "entropy_atomic_mass",
         "-26.05341033208058",
         "-0.0",
         "-25.720662351610077"
        ],
        [
         "7",
         "wtd_entropy_atomic_mass",
         "1.9109132969400229",
         "0.0",
         "3.259371635948229"
        ],
        [
         "8",
         "range_atomic_mass",
         "0.18612927946003957",
         "0.21574611915602748",
         "0.18395226993362981"
        ],
        [
         "9",
         "wtd_range_atomic_mass",
         "0.11483343782476353",
         "-0.036884107644653205",
         "0.12020795382613655"
        ],
        [
         "10",
         "std_atomic_mass",
         "-0.5278733047539396",
         "-0.0",
         "-0.5286236172972599"
        ],
        [
         "11",
         "wtd_std_atomic_mass",
         "0.05809316393288981",
         "-0.3968305168637616",
         "0.0666914905008719"
        ],
        [
         "12",
         "mean_fie",
         "-0.15681763453636277",
         "0.0651019387943906",
         "-0.10170383209722694"
        ],
        [
         "13",
         "wtd_mean_fie",
         "0.09619561139326557",
         "0.060188210995927256",
         "0.056889589305383834"
        ],
        [
         "14",
         "gmean_fie",
         "0.13123273371444716",
         "-0.05128211719391466",
         "0.08646133929304665"
        ],
        [
         "15",
         "wtd_gmean_fie",
         "-0.05515060290497012",
         "-0.06412845672246889",
         "-0.023329937845002306"
        ],
        [
         "16",
         "entropy_fie",
         "17.914341092522516",
         "0.0",
         "3.8341111397907865"
        ],
        [
         "17",
         "wtd_entropy_fie",
         "54.791701461223155",
         "0.0",
         "41.96115640540317"
        ],
        [
         "18",
         "range_fie",
         "0.042132761034210764",
         "0.09192668858339334",
         "0.041705471085052286"
        ],
        [
         "19",
         "wtd_range_fie",
         "0.018437363117926098",
         "0.027845220500482798",
         "0.015074644382702639"
        ],
        [
         "20",
         "std_fie",
         "-0.04427081705525826",
         "-0.21097974454966212",
         "-0.054732228848451636"
        ],
        [
         "21",
         "wtd_std_fie",
         "-0.08294841275012932",
         "-0.01438002728380922",
         "-0.07412862009607263"
        ],
        [
         "22",
         "mean_atomic_radius",
         "-0.817302574263673",
         "0.0",
         "-0.7491982714796868"
        ],
        [
         "23",
         "wtd_mean_atomic_radius",
         "2.3729424065274",
         "0.34173984324294504",
         "2.389587916406548"
        ],
        [
         "24",
         "gmean_atomic_radius",
         "0.6349600203379832",
         "-0.19418423454913636",
         "0.5596917897259766"
        ],
        [
         "25",
         "wtd_gmean_atomic_radius",
         "-2.1639112920185544",
         "-0.09042360583502722",
         "-2.177067796310663"
        ],
        [
         "26",
         "entropy_atomic_radius",
         "-69.0268701902921",
         "0.0",
         "-18.35952057100006"
        ],
        [
         "27",
         "wtd_entropy_atomic_radius",
         "21.372325284538622",
         "0.0",
         "14.97103745109868"
        ],
        [
         "28",
         "range_atomic_radius",
         "0.08186837730689388",
         "0.09558844840025127",
         "0.08033212814152546"
        ],
        [
         "29",
         "wtd_range_atomic_radius",
         "-0.06407982195929413",
         "-0.10808877896981418",
         "-0.08045652519670093"
        ],
        [
         "30",
         "std_atomic_radius",
         "-0.3368409904840544",
         "-0.1912312323046117",
         "-0.2773430427669607"
        ],
        [
         "31",
         "wtd_std_atomic_radius",
         "-0.06933042014178117",
         "0.03173029441019085",
         "-0.08702023693791991"
        ],
        [
         "32",
         "mean_Density",
         "-0.005989232377066722",
         "-0.003562334717829703",
         "-0.005842938068244344"
        ],
        [
         "33",
         "wtd_mean_Density",
         "0.005636016679706701",
         "-4.421767292364414e-05",
         "0.005568808431793784"
        ],
        [
         "34",
         "gmean_Density",
         "0.0009678477636896332",
         "0.0010060681083642116",
         "0.0009115630873235088"
        ],
        [
         "35",
         "wtd_gmean_Density",
         "-0.0008859695058567318",
         "0.0014234508293636335",
         "-0.0009007643689408313"
        ],
        [
         "36",
         "entropy_Density",
         "6.402114217077084",
         "-0.0",
         "4.781766911073501"
        ],
        [
         "37",
         "wtd_entropy_Density",
         "-3.1423963886867874",
         "0.0",
         "-3.6754062392177613"
        ],
        [
         "38",
         "range_Density",
         "-0.0009705183713712984",
         "-0.0009049693341985801",
         "-0.001029289571979246"
        ],
        [
         "39",
         "wtd_range_Density",
         "-0.0008816899369019637",
         "0.0003470193017906817",
         "-0.0009507682873633051"
        ],
        [
         "40",
         "std_Density",
         "0.004016173621975927",
         "0.003782353581599859",
         "0.004196807091856264"
        ],
        [
         "41",
         "wtd_std_Density",
         "-0.001389465512527721",
         "-0.0015116599317448517",
         "-0.0015243728210255463"
        ],
        [
         "42",
         "mean_ElectronAffinity",
         "-0.030478383457776204",
         "-0.055845065728814994",
         "-0.05929715855629346"
        ],
        [
         "43",
         "wtd_mean_ElectronAffinity",
         "0.31650899483600536",
         "0.5793767951996949",
         "0.3361460867184691"
        ],
        [
         "44",
         "gmean_ElectronAffinity",
         "0.10661274451674885",
         "0.05454898598221439",
         "0.12134308393141263"
        ],
        [
         "45",
         "wtd_gmean_ElectronAffinity",
         "-0.3936675688248066",
         "-0.6443644240532796",
         "-0.4054265847601151"
        ],
        [
         "46",
         "entropy_ElectronAffinity",
         "8.045450307977609",
         "-0.0",
         "7.849386806671505"
        ],
        [
         "47",
         "wtd_entropy_ElectronAffinity",
         "-17.903640273954814",
         "-0.0",
         "-16.62543819851226"
        ],
        [
         "48",
         "range_ElectronAffinity",
         "-0.3229197468776519",
         "-0.3377700533403466",
         "-0.32170462933920435"
        ],
        [
         "49",
         "wtd_range_ElectronAffinity",
         "-0.06259798287130103",
         "-0.03485839738167025",
         "-0.06575932288913493"
        ]
       ],
       "shape": {
        "columns": 4,
        "rows": 168
       }
      },
      "text/html": [
       "<div>\n",
       "<style scoped>\n",
       "    .dataframe tbody tr th:only-of-type {\n",
       "        vertical-align: middle;\n",
       "    }\n",
       "\n",
       "    .dataframe tbody tr th {\n",
       "        vertical-align: top;\n",
       "    }\n",
       "\n",
       "    .dataframe thead th {\n",
       "        text-align: right;\n",
       "    }\n",
       "</style>\n",
       "<table border=\"1\" class=\"dataframe\">\n",
       "  <thead>\n",
       "    <tr style=\"text-align: right;\">\n",
       "      <th></th>\n",
       "      <th>feature_name</th>\n",
       "      <th>lm_coef</th>\n",
       "      <th>lasso_wi</th>\n",
       "      <th>ridge_wi</th>\n",
       "    </tr>\n",
       "  </thead>\n",
       "  <tbody>\n",
       "    <tr>\n",
       "      <th>0</th>\n",
       "      <td>Intercept</td>\n",
       "      <td>-8.943333</td>\n",
       "      <td>-14.245104</td>\n",
       "      <td>-9.498922</td>\n",
       "    </tr>\n",
       "    <tr>\n",
       "      <th>1</th>\n",
       "      <td>number_of_elements</td>\n",
       "      <td>0.692345</td>\n",
       "      <td>0.000000</td>\n",
       "      <td>0.381538</td>\n",
       "    </tr>\n",
       "    <tr>\n",
       "      <th>2</th>\n",
       "      <td>mean_atomic_mass</td>\n",
       "      <td>1.032552</td>\n",
       "      <td>0.181971</td>\n",
       "      <td>1.025059</td>\n",
       "    </tr>\n",
       "    <tr>\n",
       "      <th>3</th>\n",
       "      <td>wtd_mean_atomic_mass</td>\n",
       "      <td>-1.407359</td>\n",
       "      <td>-0.073549</td>\n",
       "      <td>-1.398803</td>\n",
       "    </tr>\n",
       "    <tr>\n",
       "      <th>4</th>\n",
       "      <td>gmean_atomic_mass</td>\n",
       "      <td>-0.590392</td>\n",
       "      <td>-0.000000</td>\n",
       "      <td>-0.593808</td>\n",
       "    </tr>\n",
       "    <tr>\n",
       "      <th>...</th>\n",
       "      <td>...</td>\n",
       "      <td>...</td>\n",
       "      <td>...</td>\n",
       "      <td>...</td>\n",
       "    </tr>\n",
       "    <tr>\n",
       "      <th>163</th>\n",
       "      <td>Pb</td>\n",
       "      <td>1.550200</td>\n",
       "      <td>-0.000000</td>\n",
       "      <td>1.477462</td>\n",
       "    </tr>\n",
       "    <tr>\n",
       "      <th>164</th>\n",
       "      <td>Bi</td>\n",
       "      <td>6.483567</td>\n",
       "      <td>0.000000</td>\n",
       "      <td>6.371743</td>\n",
       "    </tr>\n",
       "    <tr>\n",
       "      <th>165</th>\n",
       "      <td>Po</td>\n",
       "      <td>0.000000</td>\n",
       "      <td>0.000000</td>\n",
       "      <td>0.000000</td>\n",
       "    </tr>\n",
       "    <tr>\n",
       "      <th>166</th>\n",
       "      <td>At</td>\n",
       "      <td>0.000000</td>\n",
       "      <td>0.000000</td>\n",
       "      <td>0.000000</td>\n",
       "    </tr>\n",
       "    <tr>\n",
       "      <th>167</th>\n",
       "      <td>Rn</td>\n",
       "      <td>0.000000</td>\n",
       "      <td>0.000000</td>\n",
       "      <td>0.000000</td>\n",
       "    </tr>\n",
       "  </tbody>\n",
       "</table>\n",
       "<p>168 rows × 4 columns</p>\n",
       "</div>"
      ],
      "text/plain": [
       "             feature_name   lm_coef   lasso_wi  ridge_wi\n",
       "0               Intercept -8.943333 -14.245104 -9.498922\n",
       "1      number_of_elements  0.692345   0.000000  0.381538\n",
       "2        mean_atomic_mass  1.032552   0.181971  1.025059\n",
       "3    wtd_mean_atomic_mass -1.407359  -0.073549 -1.398803\n",
       "4       gmean_atomic_mass -0.590392  -0.000000 -0.593808\n",
       "..                    ...       ...        ...       ...\n",
       "163                    Pb  1.550200  -0.000000  1.477462\n",
       "164                    Bi  6.483567   0.000000  6.371743\n",
       "165                    Po  0.000000   0.000000  0.000000\n",
       "166                    At  0.000000   0.000000  0.000000\n",
       "167                    Rn  0.000000   0.000000  0.000000\n",
       "\n",
       "[168 rows x 4 columns]"
      ]
     },
     "execution_count": 36,
     "metadata": {},
     "output_type": "execute_result"
    }
   ],
   "source": [
    "lm = LinearRegression()\n",
    "lasso = Lasso()\n",
    "ridge = Ridge()\n",
    "\n",
    "lm = LinearRegression()\n",
    "lm.fit(train[X_col], train[y_col])\n",
    "lasso.fit(train[X_col], train[y_col])\n",
    "ridge.fit(train[X_col], train[y_col])\n",
    "reg_coef = pd.DataFrame({\n",
    "    'feature_name':['Intercept'] +  lasso.feature_names_in_.tolist(),\n",
    "    'lm_coef':  [lm.intercept_] + lm.coef_.tolist(),\n",
    "    'lasso_wi': [lasso.intercept_] + lasso.coef_.tolist(),\n",
    "    'ridge_wi': [ridge.intercept_] + ridge.coef_.tolist(),\n",
    "})\n",
    "reg_coef"
   ]
  },
  {
   "cell_type": "code",
   "execution_count": null,
   "id": "f81d12b6",
   "metadata": {},
   "outputs": [
    {
     "data": {
      "application/vnd.microsoft.datawrangler.viewer.v0+json": {
       "columns": [
        {
         "name": "index",
         "rawType": "int64",
         "type": "integer"
        },
        {
         "name": "feature_name",
         "rawType": "object",
         "type": "string"
        },
        {
         "name": "lm_coef",
         "rawType": "float64",
         "type": "float"
        },
        {
         "name": "lasso_wi",
         "rawType": "float64",
         "type": "float"
        },
        {
         "name": "ridge_wi",
         "rawType": "float64",
         "type": "float"
        }
       ],
       "ref": "8dfed7d4-8157-4559-9119-8737eaf629b4",
       "rows": [
        [
         "137",
         "Ba",
         "8.379805407999811",
         "5.381109623967442",
         "8.397380973466609"
        ],
        [
         "50",
         "std_ElectronAffinity",
         "1.0925181899902459",
         "0.9806673779716667",
         "1.1022456159647664"
        ],
        [
         "43",
         "wtd_mean_ElectronAffinity",
         "0.31650899483600536",
         "0.5793767951996949",
         "0.3361460867184691"
        ],
        [
         "63",
         "wtd_mean_ThermalConductivity",
         "0.5033134948277578",
         "0.47273806723803524",
         "0.4863804159740277"
        ],
        [
         "23",
         "wtd_mean_atomic_radius",
         "2.3729424065274",
         "0.34173984324294504",
         "2.389587916406548"
        ],
        [
         "89",
         "O",
         "-0.5084897206915318",
         "0.2866626874556181",
         "-0.49429029400414276"
        ],
        [
         "8",
         "range_atomic_mass",
         "0.18612927946003957",
         "0.21574611915602748",
         "0.18395226993362981"
        ],
        [
         "2",
         "mean_atomic_mass",
         "1.032552147228155",
         "0.18197145601036002",
         "1.0250585743042784"
        ],
        [
         "59",
         "wtd_range_FusionHeat",
         "0.6112961580833183",
         "0.17388584706190147",
         "0.6095120995450329"
        ],
        [
         "52",
         "mean_FusionHeat",
         "1.1777339156847253",
         "0.1327918442305013",
         "1.2070367263628665"
        ],
        [
         "70",
         "std_ThermalConductivity",
         "0.35122265514178785",
         "0.12095811513817595",
         "0.35389551322454976"
        ],
        [
         "28",
         "range_atomic_radius",
         "0.08186837730689388",
         "0.09558844840025127",
         "0.08033212814152546"
        ],
        [
         "18",
         "range_fie",
         "0.042132761034210764",
         "0.09192668858339334",
         "0.041705471085052286"
        ],
        [
         "71",
         "wtd_std_ThermalConductivity",
         "0.012390465195690648",
         "0.07546538908384309",
         "0.02578182486081097"
        ],
        [
         "12",
         "mean_fie",
         "-0.15681763453636277",
         "0.0651019387943906",
         "-0.10170383209722694"
        ],
        [
         "13",
         "wtd_mean_fie",
         "0.09619561139326557",
         "0.060188210995927256",
         "0.056889589305383834"
        ],
        [
         "44",
         "gmean_ElectronAffinity",
         "0.10661274451674885",
         "0.05454898598221439",
         "0.12134308393141263"
        ],
        [
         "31",
         "wtd_std_atomic_radius",
         "-0.06933042014178117",
         "0.03173029441019085",
         "-0.08702023693791991"
        ],
        [
         "19",
         "wtd_range_fie",
         "0.018437363117926098",
         "0.027845220500482798",
         "0.015074644382702639"
        ],
        [
         "104",
         "V",
         "0.04182657060890449",
         "0.019442833242315157",
         "0.03620704618090634"
        ],
        [
         "87",
         "C",
         "-0.10699253413703591",
         "0.006781075807874982",
         "-0.09048278314745434"
        ],
        [
         "40",
         "std_Density",
         "0.004016173621975927",
         "0.003782353581599859",
         "0.004196807091856264"
        ],
        [
         "122",
         "Nb",
         "0.09072578405469023",
         "0.0037542650391455628",
         "0.08421611875798095"
        ],
        [
         "35",
         "wtd_gmean_Density",
         "-0.0008859695058567318",
         "0.0014234508293636335",
         "-0.0009007643689408313"
        ],
        [
         "34",
         "gmean_Density",
         "0.0009678477636896332",
         "0.0010060681083642116",
         "0.0009115630873235088"
        ],
        [
         "39",
         "wtd_range_Density",
         "-0.0008816899369019637",
         "0.0003470193017906817",
         "-0.0009507682873633051"
        ],
        [
         "54",
         "gmean_FusionHeat",
         "-0.752934258136432",
         "0.0",
         "-0.7974156839729956"
        ],
        [
         "55",
         "wtd_gmean_FusionHeat",
         "1.2309819716027586",
         "0.0",
         "1.231117211313942"
        ],
        [
         "4",
         "gmean_atomic_mass",
         "-0.5903919691851405",
         "-0.0",
         "-0.5938075056177313"
        ],
        [
         "6",
         "entropy_atomic_mass",
         "-26.05341033208058",
         "-0.0",
         "-25.720662351610077"
        ],
        [
         "1",
         "number_of_elements",
         "0.69234458825985",
         "0.0",
         "0.3815381004710819"
        ],
        [
         "7",
         "wtd_entropy_atomic_mass",
         "1.9109132969400229",
         "0.0",
         "3.259371635948229"
        ],
        [
         "37",
         "wtd_entropy_Density",
         "-3.1423963886867874",
         "0.0",
         "-3.6754062392177613"
        ],
        [
         "26",
         "entropy_atomic_radius",
         "-69.0268701902921",
         "0.0",
         "-18.35952057100006"
        ],
        [
         "27",
         "wtd_entropy_atomic_radius",
         "21.372325284538622",
         "0.0",
         "14.97103745109868"
        ],
        [
         "36",
         "entropy_Density",
         "6.402114217077084",
         "-0.0",
         "4.781766911073501"
        ],
        [
         "16",
         "entropy_fie",
         "17.914341092522516",
         "0.0",
         "3.8341111397907865"
        ],
        [
         "22",
         "mean_atomic_radius",
         "-0.817302574263673",
         "0.0",
         "-0.7491982714796868"
        ],
        [
         "17",
         "wtd_entropy_fie",
         "54.791701461223155",
         "0.0",
         "41.96115640540317"
        ],
        [
         "10",
         "std_atomic_mass",
         "-0.5278733047539396",
         "-0.0",
         "-0.5286236172972599"
        ],
        [
         "152",
         "Lu",
         "4.014686613627483",
         "0.0",
         "3.951358313551357"
        ],
        [
         "136",
         "Cs",
         "4.837105148022406",
         "-0.0",
         "3.486992610526491"
        ],
        [
         "138",
         "La",
         "-0.004259024942857126",
         "-0.0",
         "-0.0031491829930492244"
        ],
        [
         "139",
         "Ce",
         "-2.4909300313275415",
         "-0.0",
         "-2.612747683636712"
        ],
        [
         "140",
         "Pr",
         "-11.39291803908075",
         "-0.0",
         "-11.453814187847845"
        ],
        [
         "141",
         "Nd",
         "-2.50493713309586",
         "-0.0",
         "-2.465470209388982"
        ],
        [
         "142",
         "Pm",
         "2.4868995751603507e-13",
         "0.0",
         "0.0"
        ],
        [
         "143",
         "Sm",
         "-1.4516313517402941",
         "0.0",
         "-1.3824615554960333"
        ],
        [
         "144",
         "Eu",
         "-1.553904549635411",
         "-0.0",
         "-1.724257064300753"
        ],
        [
         "145",
         "Gd",
         "0.010247815146506259",
         "-0.0",
         "-0.08163619489302519"
        ]
       ],
       "shape": {
        "columns": 4,
        "rows": 168
       }
      },
      "text/html": [
       "<div>\n",
       "<style scoped>\n",
       "    .dataframe tbody tr th:only-of-type {\n",
       "        vertical-align: middle;\n",
       "    }\n",
       "\n",
       "    .dataframe tbody tr th {\n",
       "        vertical-align: top;\n",
       "    }\n",
       "\n",
       "    .dataframe thead th {\n",
       "        text-align: right;\n",
       "    }\n",
       "</style>\n",
       "<table border=\"1\" class=\"dataframe\">\n",
       "  <thead>\n",
       "    <tr style=\"text-align: right;\">\n",
       "      <th></th>\n",
       "      <th>feature_name</th>\n",
       "      <th>lm_coef</th>\n",
       "      <th>lasso_wi</th>\n",
       "      <th>ridge_wi</th>\n",
       "    </tr>\n",
       "  </thead>\n",
       "  <tbody>\n",
       "    <tr>\n",
       "      <th>137</th>\n",
       "      <td>Ba</td>\n",
       "      <td>8.379805</td>\n",
       "      <td>5.381110</td>\n",
       "      <td>8.397381</td>\n",
       "    </tr>\n",
       "    <tr>\n",
       "      <th>50</th>\n",
       "      <td>std_ElectronAffinity</td>\n",
       "      <td>1.092518</td>\n",
       "      <td>0.980667</td>\n",
       "      <td>1.102246</td>\n",
       "    </tr>\n",
       "    <tr>\n",
       "      <th>43</th>\n",
       "      <td>wtd_mean_ElectronAffinity</td>\n",
       "      <td>0.316509</td>\n",
       "      <td>0.579377</td>\n",
       "      <td>0.336146</td>\n",
       "    </tr>\n",
       "    <tr>\n",
       "      <th>63</th>\n",
       "      <td>wtd_mean_ThermalConductivity</td>\n",
       "      <td>0.503313</td>\n",
       "      <td>0.472738</td>\n",
       "      <td>0.486380</td>\n",
       "    </tr>\n",
       "    <tr>\n",
       "      <th>23</th>\n",
       "      <td>wtd_mean_atomic_radius</td>\n",
       "      <td>2.372942</td>\n",
       "      <td>0.341740</td>\n",
       "      <td>2.389588</td>\n",
       "    </tr>\n",
       "    <tr>\n",
       "      <th>...</th>\n",
       "      <td>...</td>\n",
       "      <td>...</td>\n",
       "      <td>...</td>\n",
       "      <td>...</td>\n",
       "    </tr>\n",
       "    <tr>\n",
       "      <th>78</th>\n",
       "      <td>range_Valence</td>\n",
       "      <td>3.954913</td>\n",
       "      <td>-0.423158</td>\n",
       "      <td>3.755210</td>\n",
       "    </tr>\n",
       "    <tr>\n",
       "      <th>51</th>\n",
       "      <td>wtd_std_ElectronAffinity</td>\n",
       "      <td>-0.463624</td>\n",
       "      <td>-0.462561</td>\n",
       "      <td>-0.467900</td>\n",
       "    </tr>\n",
       "    <tr>\n",
       "      <th>45</th>\n",
       "      <td>wtd_gmean_ElectronAffinity</td>\n",
       "      <td>-0.393668</td>\n",
       "      <td>-0.644364</td>\n",
       "      <td>-0.405427</td>\n",
       "    </tr>\n",
       "    <tr>\n",
       "      <th>95</th>\n",
       "      <td>Si</td>\n",
       "      <td>-1.673279</td>\n",
       "      <td>-0.850302</td>\n",
       "      <td>-1.661714</td>\n",
       "    </tr>\n",
       "    <tr>\n",
       "      <th>0</th>\n",
       "      <td>Intercept</td>\n",
       "      <td>-8.943333</td>\n",
       "      <td>-14.245104</td>\n",
       "      <td>-9.498922</td>\n",
       "    </tr>\n",
       "  </tbody>\n",
       "</table>\n",
       "<p>168 rows × 4 columns</p>\n",
       "</div>"
      ],
      "text/plain": [
       "                     feature_name   lm_coef   lasso_wi  ridge_wi\n",
       "137                            Ba  8.379805   5.381110  8.397381\n",
       "50           std_ElectronAffinity  1.092518   0.980667  1.102246\n",
       "43      wtd_mean_ElectronAffinity  0.316509   0.579377  0.336146\n",
       "63   wtd_mean_ThermalConductivity  0.503313   0.472738  0.486380\n",
       "23         wtd_mean_atomic_radius  2.372942   0.341740  2.389588\n",
       "..                            ...       ...        ...       ...\n",
       "78                  range_Valence  3.954913  -0.423158  3.755210\n",
       "51       wtd_std_ElectronAffinity -0.463624  -0.462561 -0.467900\n",
       "45     wtd_gmean_ElectronAffinity -0.393668  -0.644364 -0.405427\n",
       "95                             Si -1.673279  -0.850302 -1.661714\n",
       "0                       Intercept -8.943333 -14.245104 -9.498922\n",
       "\n",
       "[168 rows x 4 columns]"
      ]
     },
     "execution_count": 42,
     "metadata": {},
     "output_type": "execute_result"
    }
   ],
   "source": [
    "reg_coef.sort_values('lasso_wi', ascending=False)"
   ]
  },
  {
   "cell_type": "code",
   "execution_count": null,
   "id": "11747aee",
   "metadata": {},
   "outputs": [
    {
     "data": {
      "application/vnd.microsoft.datawrangler.viewer.v0+json": {
       "columns": [
        {
         "name": "index",
         "rawType": "object",
         "type": "string"
        },
        {
         "name": "MSE",
         "rawType": "float64",
         "type": "float"
        },
        {
         "name": "RMSE",
         "rawType": "float64",
         "type": "float"
        },
        {
         "name": "MAE",
         "rawType": "float64",
         "type": "float"
        },
        {
         "name": "R2",
         "rawType": "float64",
         "type": "float"
        }
       ],
       "ref": "51ac1813-726d-4f86-b91a-02aab28829e1",
       "rows": [
        [
         "lm_train",
         "261.1368",
         "16.1597",
         "12.0988",
         "0.7794"
        ],
        [
         "lm_test",
         "1495.447",
         "38.671",
         "13.3255",
         "-0.2809"
        ],
        [
         "f_lm_train",
         "252.4888",
         "15.8899",
         "11.6048",
         "0.7867"
        ],
        [
         "f_lm_test",
         "284.6953",
         "16.8729",
         "12.1214",
         "0.7561"
        ],
        [
         "lasso_train",
         "308.5708",
         "17.5662",
         "13.4031",
         "0.7393"
        ],
        [
         "lasso_test",
         "337.7785",
         "18.3788",
         "13.8326",
         "0.7107"
        ],
        [
         "f_lasso_train",
         "300.9585",
         "17.3482",
         "12.9167",
         "0.7457"
        ],
        [
         "f_lasso_test",
         "329.031",
         "18.1392",
         "13.301",
         "0.7182"
        ],
        [
         "ridge_train",
         "261.433",
         "16.1689",
         "12.1024",
         "0.7791"
        ],
        [
         "ridge_test",
         "1488.8303",
         "38.5854",
         "13.3173",
         "-0.2752"
        ],
        [
         "f_ridge_train",
         "253.1276",
         "15.91",
         "11.6209",
         "0.7861"
        ],
        [
         "f_ridge_test",
         "284.9652",
         "16.8809",
         "12.1308",
         "0.7559"
        ]
       ],
       "shape": {
        "columns": 4,
        "rows": 12
       }
      },
      "text/html": [
       "<div>\n",
       "<style scoped>\n",
       "    .dataframe tbody tr th:only-of-type {\n",
       "        vertical-align: middle;\n",
       "    }\n",
       "\n",
       "    .dataframe tbody tr th {\n",
       "        vertical-align: top;\n",
       "    }\n",
       "\n",
       "    .dataframe thead th {\n",
       "        text-align: right;\n",
       "    }\n",
       "</style>\n",
       "<table border=\"1\" class=\"dataframe\">\n",
       "  <thead>\n",
       "    <tr style=\"text-align: right;\">\n",
       "      <th></th>\n",
       "      <th>MSE</th>\n",
       "      <th>RMSE</th>\n",
       "      <th>MAE</th>\n",
       "      <th>R2</th>\n",
       "    </tr>\n",
       "  </thead>\n",
       "  <tbody>\n",
       "    <tr>\n",
       "      <th>lm_train</th>\n",
       "      <td>261.1368</td>\n",
       "      <td>16.1597</td>\n",
       "      <td>12.0988</td>\n",
       "      <td>0.7794</td>\n",
       "    </tr>\n",
       "    <tr>\n",
       "      <th>lm_test</th>\n",
       "      <td>1495.4470</td>\n",
       "      <td>38.6710</td>\n",
       "      <td>13.3255</td>\n",
       "      <td>-0.2809</td>\n",
       "    </tr>\n",
       "    <tr>\n",
       "      <th>f_lm_train</th>\n",
       "      <td>252.4888</td>\n",
       "      <td>15.8899</td>\n",
       "      <td>11.6048</td>\n",
       "      <td>0.7867</td>\n",
       "    </tr>\n",
       "    <tr>\n",
       "      <th>f_lm_test</th>\n",
       "      <td>284.6953</td>\n",
       "      <td>16.8729</td>\n",
       "      <td>12.1214</td>\n",
       "      <td>0.7561</td>\n",
       "    </tr>\n",
       "    <tr>\n",
       "      <th>lasso_train</th>\n",
       "      <td>308.5708</td>\n",
       "      <td>17.5662</td>\n",
       "      <td>13.4031</td>\n",
       "      <td>0.7393</td>\n",
       "    </tr>\n",
       "    <tr>\n",
       "      <th>lasso_test</th>\n",
       "      <td>337.7785</td>\n",
       "      <td>18.3788</td>\n",
       "      <td>13.8326</td>\n",
       "      <td>0.7107</td>\n",
       "    </tr>\n",
       "    <tr>\n",
       "      <th>f_lasso_train</th>\n",
       "      <td>300.9585</td>\n",
       "      <td>17.3482</td>\n",
       "      <td>12.9167</td>\n",
       "      <td>0.7457</td>\n",
       "    </tr>\n",
       "    <tr>\n",
       "      <th>f_lasso_test</th>\n",
       "      <td>329.0310</td>\n",
       "      <td>18.1392</td>\n",
       "      <td>13.3010</td>\n",
       "      <td>0.7182</td>\n",
       "    </tr>\n",
       "    <tr>\n",
       "      <th>ridge_train</th>\n",
       "      <td>261.4330</td>\n",
       "      <td>16.1689</td>\n",
       "      <td>12.1024</td>\n",
       "      <td>0.7791</td>\n",
       "    </tr>\n",
       "    <tr>\n",
       "      <th>ridge_test</th>\n",
       "      <td>1488.8303</td>\n",
       "      <td>38.5854</td>\n",
       "      <td>13.3173</td>\n",
       "      <td>-0.2752</td>\n",
       "    </tr>\n",
       "    <tr>\n",
       "      <th>f_ridge_train</th>\n",
       "      <td>253.1276</td>\n",
       "      <td>15.9100</td>\n",
       "      <td>11.6209</td>\n",
       "      <td>0.7861</td>\n",
       "    </tr>\n",
       "    <tr>\n",
       "      <th>f_ridge_test</th>\n",
       "      <td>284.9652</td>\n",
       "      <td>16.8809</td>\n",
       "      <td>12.1308</td>\n",
       "      <td>0.7559</td>\n",
       "    </tr>\n",
       "  </tbody>\n",
       "</table>\n",
       "</div>"
      ],
      "text/plain": [
       "                     MSE     RMSE      MAE      R2\n",
       "lm_train        261.1368  16.1597  12.0988  0.7794\n",
       "lm_test        1495.4470  38.6710  13.3255 -0.2809\n",
       "f_lm_train      252.4888  15.8899  11.6048  0.7867\n",
       "f_lm_test       284.6953  16.8729  12.1214  0.7561\n",
       "lasso_train     308.5708  17.5662  13.4031  0.7393\n",
       "lasso_test      337.7785  18.3788  13.8326  0.7107\n",
       "f_lasso_train   300.9585  17.3482  12.9167  0.7457\n",
       "f_lasso_test    329.0310  18.1392  13.3010  0.7182\n",
       "ridge_train     261.4330  16.1689  12.1024  0.7791\n",
       "ridge_test     1488.8303  38.5854  13.3173 -0.2752\n",
       "f_ridge_train   253.1276  15.9100  11.6209  0.7861\n",
       "f_ridge_test    284.9652  16.8809  12.1308  0.7559"
      ]
     },
     "execution_count": 75,
     "metadata": {},
     "output_type": "execute_result"
    }
   ],
   "source": [
    "lm_metric = pd.concat([\n",
    "    get_metric(train[y_col], lm.predict(train[X_col])),\n",
    "    get_metric(test[y_col], lm.predict(test[X_col])),\n",
    "    get_metric(train[y_col], lm.predict(train[X_col]), filter=True),\n",
    "    get_metric(test[y_col], lm.predict(test[X_col]), filter=True),\n",
    "    get_metric(train[y_col], lasso.predict(train[X_col])),\n",
    "    get_metric(test[y_col], lasso.predict(test[X_col])),\n",
    "    get_metric(train[y_col], lasso.predict(train[X_col]), filter=True),\n",
    "    get_metric(test[y_col], lasso.predict(test[X_col]), filter=True),\n",
    "    get_metric(train[y_col], ridge.predict(train[X_col])),\n",
    "    get_metric(test[y_col], ridge.predict(test[X_col])),\n",
    "    get_metric(train[y_col], ridge.predict(train[X_col]), filter=True),\n",
    "    get_metric(test[y_col], ridge.predict(test[X_col]), filter=True),\n",
    "]).round(4)\n",
    "lm_metric.index = [\n",
    "    'lm_train', 'lm_test',\n",
    "    'f_lm_train', 'f_lm_test',\n",
    "    'lasso_train', 'lasso_test',\n",
    "    'f_lasso_train', 'f_lasso_test',\n",
    "    'ridge_train', 'ridge_test',\n",
    "    'f_ridge_train', 'f_ridge_test'\n",
    "]\n",
    "lm_metric"
   ]
  },
  {
   "cell_type": "code",
   "execution_count": null,
   "id": "965492c8",
   "metadata": {},
   "outputs": [],
   "source": [
    "def get_pred_plot(y_true, y_pred, filter=False):\n",
    "    if filter:\n",
    "        y_pred = [0 if i < 0 else i for i in y_pred]\n",
    "    fig, ax = plt.subplots(1, 2)\n",
    "    sns.histplot(y_true, label='true', ax=ax[0])\n",
    "    sns.histplot(y_pred, label='pred', ax=ax[0])\n",
    "    ax[0].legend()\n",
    "    sns.scatterplot(y=y_pred, x=y_true, ax=ax[1])\n",
    "    sns.lineplot(y=y_true, x=y_true, ax=ax[1])\n",
    "    plt.show()"
   ]
  },
  {
   "cell_type": "code",
   "execution_count": null,
   "id": "094a142c",
   "metadata": {},
   "outputs": [
    {
     "data": {
      "image/png": "[encoded data removed]",
      "text/plain": [
       "<Figure size 640x480 with 2 Axes>"
      ]
     },
     "metadata": {},
     "output_type": "display_data"
    }
   ],
   "source": [
    "get_pred_plot(test[y_col], lasso.predict(test[X_col]), filter=True)"
   ]
  },
  {
   "cell_type": "code",
   "execution_count": null,
   "id": "71e7dc50",
   "metadata": {},
   "outputs": [
    {
     "data": {
      "image/png": "[encoded data removed]",
      "text/plain": [
       "<Figure size 640x480 with 2 Axes>"
      ]
     },
     "metadata": {},
     "output_type": "display_data"
    }
   ],
   "source": [
    "get_pred_plot(test[y_col], lm.predict(test[X_col]), filter=True)"
   ]
  },
  {
   "cell_type": "code",
   "execution_count": null,
   "id": "917c9377",
   "metadata": {},
   "outputs": [
    {
     "data": {
      "image/png": "[encoded data removed]",
      "text/plain": [
       "<Figure size 640x480 with 2 Axes>"
      ]
     },
     "metadata": {},
     "output_type": "display_data"
    }
   ],
   "source": [
    "get_pred_plot(test[y_col], ridge.predict(test[X_col]), filter=True)"
   ]
  },
  {
   "cell_type": "markdown",
   "id": "974802bf",
   "metadata": {},
   "source": [
    "## Decision tree"
   ]
  },
  {
   "cell_type": "code",
   "execution_count": null,
   "id": "d9dad4e0",
   "metadata": {},
   "outputs": [],
   "source": [
    "valid, test = train_test_split(test, train_size=0.5, random_state=54152)"
   ]
  },
  {
   "cell_type": "code",
   "execution_count": null,
   "id": "acf29155",
   "metadata": {},
   "outputs": [
    {
     "data": {
      "application/vnd.microsoft.datawrangler.viewer.v0+json": {
       "columns": [
        {
         "name": "index",
         "rawType": "object",
         "type": "string"
        },
        {
         "name": "MSE",
         "rawType": "float64",
         "type": "float"
        },
        {
         "name": "RMSE",
         "rawType": "float64",
         "type": "float"
        },
        {
         "name": "MAE",
         "rawType": "float64",
         "type": "float"
        },
        {
         "name": "R2",
         "rawType": "float64",
         "type": "float"
        }
       ],
       "ref": "0be77e1f-0c67-48a8-8db1-03a5b3ca62aa",
       "rows": [
        [
         "dt_train",
         "45.31657307910418",
         "6.731758542840361",
         "3.8263035387646878",
         "0.9617098544176853"
        ],
        [
         "dt_valid",
         "160.55860818224883",
         "12.671172328646186",
         "6.955515157575169",
         "0.8610475864929346"
        ],
        [
         "dt_test",
         "139.02011847541775",
         "11.790679305087462",
         "6.49046440857597",
         "0.8821312488508763"
        ]
       ],
       "shape": {
        "columns": 4,
        "rows": 3
       }
      },
      "text/html": [
       "<div>\n",
       "<style scoped>\n",
       "    .dataframe tbody tr th:only-of-type {\n",
       "        vertical-align: middle;\n",
       "    }\n",
       "\n",
       "    .dataframe tbody tr th {\n",
       "        vertical-align: top;\n",
       "    }\n",
       "\n",
       "    .dataframe thead th {\n",
       "        text-align: right;\n",
       "    }\n",
       "</style>\n",
       "<table border=\"1\" class=\"dataframe\">\n",
       "  <thead>\n",
       "    <tr style=\"text-align: right;\">\n",
       "      <th></th>\n",
       "      <th>MSE</th>\n",
       "      <th>RMSE</th>\n",
       "      <th>MAE</th>\n",
       "      <th>R2</th>\n",
       "    </tr>\n",
       "  </thead>\n",
       "  <tbody>\n",
       "    <tr>\n",
       "      <th>dt_train</th>\n",
       "      <td>45.316573</td>\n",
       "      <td>6.731759</td>\n",
       "      <td>3.826304</td>\n",
       "      <td>0.961710</td>\n",
       "    </tr>\n",
       "    <tr>\n",
       "      <th>dt_valid</th>\n",
       "      <td>160.558608</td>\n",
       "      <td>12.671172</td>\n",
       "      <td>6.955515</td>\n",
       "      <td>0.861048</td>\n",
       "    </tr>\n",
       "    <tr>\n",
       "      <th>dt_test</th>\n",
       "      <td>139.020118</td>\n",
       "      <td>11.790679</td>\n",
       "      <td>6.490464</td>\n",
       "      <td>0.882131</td>\n",
       "    </tr>\n",
       "  </tbody>\n",
       "</table>\n",
       "</div>"
      ],
      "text/plain": [
       "                 MSE       RMSE       MAE        R2\n",
       "dt_train   45.316573   6.731759  3.826304  0.961710\n",
       "dt_valid  160.558608  12.671172  6.955515  0.861048\n",
       "dt_test   139.020118  11.790679  6.490464  0.882131"
      ]
     },
     "execution_count": 101,
     "metadata": {},
     "output_type": "execute_result"
    }
   ],
   "source": [
    "dt = DecisionTreeRegressor(max_depth=16, criterion='squared_error', min_samples_split=10)\n",
    "dt.fit(train[X_col], train[y_col])\n",
    "\n",
    "dt_metric = pd.concat([\n",
    "    get_metric(train[y_col], dt.predict(train[X_col])),\n",
    "    get_metric(valid[y_col], dt.predict(valid[X_col])),\n",
    "    get_metric(test[y_col], dt.predict(test[X_col])),\n",
    "])\n",
    "dt_metric.index = ['dt_train', 'dt_valid', 'dt_test']\n",
    "dt_metric"
   ]
  },
  {
   "cell_type": "code",
   "execution_count": null,
   "id": "121a49f2",
   "metadata": {},
   "outputs": [
    {
     "data": {
      "image/png": "[encoded data removed]",
      "text/plain": [
       "<Figure size 640x480 with 2 Axes>"
      ]
     },
     "metadata": {},
     "output_type": "display_data"
    }
   ],
   "source": [
    "get_pred_plot(test[y_col], dt.predict(test[X_col]))"
   ]
  },
  {
   "cell_type": "code",
   "execution_count": null,
   "id": "c0ba7765",
   "metadata": {},
   "outputs": [
    {
     "data": {
      "application/vnd.microsoft.datawrangler.viewer.v0+json": {
       "columns": [
        {
         "name": "index",
         "rawType": "int64",
         "type": "integer"
        },
        {
         "name": "feature_name",
         "rawType": "object",
         "type": "string"
        },
        {
         "name": "importance",
         "rawType": "float64",
         "type": "float"
        }
       ],
       "ref": "1209ee83-0b97-4589-9172-e81a90bd9bb6",
       "rows": [
        [
         "109",
         "Cu",
         "0.6445538337698846"
        ],
        [
         "73",
         "gmean_Valence",
         "0.062502085559155"
        ],
        [
         "100",
         "Ca",
         "0.04930667747581765"
        ],
        [
         "136",
         "Ba",
         "0.03032445987061886"
        ],
        [
         "35",
         "entropy_Density",
         "0.011048441191222261"
        ],
        [
         "50",
         "wtd_std_ElectronAffinity",
         "0.009913531814025567"
        ],
        [
         "39",
         "std_Density",
         "0.00969585589969633"
        ],
        [
         "16",
         "wtd_entropy_fie",
         "0.009347193882853435"
        ],
        [
         "36",
         "wtd_entropy_Density",
         "0.008358610480644357"
        ],
        [
         "139",
         "Pr",
         "0.007394949960075168"
        ],
        [
         "110",
         "Zn",
         "0.006145476610989464"
        ],
        [
         "106",
         "Fe",
         "0.006027211829733221"
        ],
        [
         "80",
         "wtd_std_Valence",
         "0.005610339999387889"
        ],
        [
         "60",
         "wtd_std_FusionHeat",
         "0.005418156209169457"
        ],
        [
         "72",
         "wtd_mean_Valence",
         "0.0051475470405759"
        ],
        [
         "74",
         "wtd_gmean_Valence",
         "0.005003829136873006"
        ],
        [
         "88",
         "O",
         "0.004761111409875805"
        ],
        [
         "27",
         "range_atomic_radius",
         "0.004401151701355427"
        ],
        [
         "76",
         "wtd_entropy_Valence",
         "0.004165342149251867"
        ],
        [
         "40",
         "wtd_std_Density",
         "0.004155530131394209"
        ],
        [
         "10",
         "wtd_std_atomic_mass",
         "0.004076161874342427"
        ],
        [
         "62",
         "wtd_mean_ThermalConductivity",
         "0.004049398801681175"
        ],
        [
         "11",
         "mean_fie",
         "0.003711728157658741"
        ],
        [
         "31",
         "mean_Density",
         "0.0035296229655344086"
        ],
        [
         "17",
         "range_fie",
         "0.0034454881731071935"
        ],
        [
         "20",
         "wtd_std_fie",
         "0.0030669062861976354"
        ],
        [
         "14",
         "wtd_gmean_fie",
         "0.0030567131900849356"
        ],
        [
         "28",
         "wtd_range_atomic_radius",
         "0.0030290544773150098"
        ],
        [
         "34",
         "wtd_gmean_Density",
         "0.002925022979827047"
        ],
        [
         "55",
         "entropy_FusionHeat",
         "0.002885933881750194"
        ],
        [
         "30",
         "wtd_std_atomic_radius",
         "0.0028835524481429153"
        ],
        [
         "42",
         "wtd_mean_ElectronAffinity",
         "0.0026829247669214766"
        ],
        [
         "67",
         "range_ThermalConductivity",
         "0.0026603071757928263"
        ],
        [
         "48",
         "wtd_range_ElectronAffinity",
         "0.0026471816793035875"
        ],
        [
         "64",
         "wtd_gmean_ThermalConductivity",
         "0.002367181030868144"
        ],
        [
         "46",
         "wtd_entropy_ElectronAffinity",
         "0.0023379713988337667"
        ],
        [
         "92",
         "Mg",
         "0.0022869347654589584"
        ],
        [
         "53",
         "gmean_FusionHeat",
         "0.0022611532710602265"
        ],
        [
         "4",
         "wtd_gmean_atomic_mass",
         "0.0022272243617050018"
        ],
        [
         "51",
         "mean_FusionHeat",
         "0.002172205670433452"
        ],
        [
         "66",
         "wtd_entropy_ThermalConductivity",
         "0.0019695084429992493"
        ],
        [
         "70",
         "wtd_std_ThermalConductivity",
         "0.0019117603418936904"
        ],
        [
         "24",
         "wtd_gmean_atomic_radius",
         "0.0019097673866475206"
        ],
        [
         "58",
         "wtd_range_FusionHeat",
         "0.0018702898683709132"
        ],
        [
         "29",
         "std_atomic_radius",
         "0.0018356179774573686"
        ],
        [
         "2",
         "wtd_mean_atomic_mass",
         "0.0017403633496908713"
        ],
        [
         "160",
         "Hg",
         "0.0016013252196072857"
        ],
        [
         "6",
         "wtd_entropy_atomic_mass",
         "0.0015428738496255131"
        ],
        [
         "22",
         "wtd_mean_atomic_radius",
         "0.0015150700507830977"
        ],
        [
         "9",
         "std_atomic_mass",
         "0.0014079719469565104"
        ]
       ],
       "shape": {
        "columns": 2,
        "rows": 167
       }
      },
      "text/html": [
       "<div>\n",
       "<style scoped>\n",
       "    .dataframe tbody tr th:only-of-type {\n",
       "        vertical-align: middle;\n",
       "    }\n",
       "\n",
       "    .dataframe tbody tr th {\n",
       "        vertical-align: top;\n",
       "    }\n",
       "\n",
       "    .dataframe thead th {\n",
       "        text-align: right;\n",
       "    }\n",
       "</style>\n",
       "<table border=\"1\" class=\"dataframe\">\n",
       "  <thead>\n",
       "    <tr style=\"text-align: right;\">\n",
       "      <th></th>\n",
       "      <th>feature_name</th>\n",
       "      <th>importance</th>\n",
       "    </tr>\n",
       "  </thead>\n",
       "  <tbody>\n",
       "    <tr>\n",
       "      <th>109</th>\n",
       "      <td>Cu</td>\n",
       "      <td>0.644554</td>\n",
       "    </tr>\n",
       "    <tr>\n",
       "      <th>73</th>\n",
       "      <td>gmean_Valence</td>\n",
       "      <td>0.062502</td>\n",
       "    </tr>\n",
       "    <tr>\n",
       "      <th>100</th>\n",
       "      <td>Ca</td>\n",
       "      <td>0.049307</td>\n",
       "    </tr>\n",
       "    <tr>\n",
       "      <th>136</th>\n",
       "      <td>Ba</td>\n",
       "      <td>0.030324</td>\n",
       "    </tr>\n",
       "    <tr>\n",
       "      <th>35</th>\n",
       "      <td>entropy_Density</td>\n",
       "      <td>0.011048</td>\n",
       "    </tr>\n",
       "    <tr>\n",
       "      <th>...</th>\n",
       "      <td>...</td>\n",
       "      <td>...</td>\n",
       "    </tr>\n",
       "    <tr>\n",
       "      <th>155</th>\n",
       "      <td>Re</td>\n",
       "      <td>0.000000</td>\n",
       "    </tr>\n",
       "    <tr>\n",
       "      <th>159</th>\n",
       "      <td>Au</td>\n",
       "      <td>0.000000</td>\n",
       "    </tr>\n",
       "    <tr>\n",
       "      <th>164</th>\n",
       "      <td>Po</td>\n",
       "      <td>0.000000</td>\n",
       "    </tr>\n",
       "    <tr>\n",
       "      <th>165</th>\n",
       "      <td>At</td>\n",
       "      <td>0.000000</td>\n",
       "    </tr>\n",
       "    <tr>\n",
       "      <th>166</th>\n",
       "      <td>Rn</td>\n",
       "      <td>0.000000</td>\n",
       "    </tr>\n",
       "  </tbody>\n",
       "</table>\n",
       "<p>167 rows × 2 columns</p>\n",
       "</div>"
      ],
      "text/plain": [
       "        feature_name  importance\n",
       "109               Cu    0.644554\n",
       "73     gmean_Valence    0.062502\n",
       "100               Ca    0.049307\n",
       "136               Ba    0.030324\n",
       "35   entropy_Density    0.011048\n",
       "..               ...         ...\n",
       "155               Re    0.000000\n",
       "159               Au    0.000000\n",
       "164               Po    0.000000\n",
       "165               At    0.000000\n",
       "166               Rn    0.000000\n",
       "\n",
       "[167 rows x 2 columns]"
      ]
     },
     "execution_count": 106,
     "metadata": {},
     "output_type": "execute_result"
    }
   ],
   "source": [
    "dt_fi = pd.DataFrame({\n",
    "    'feature_name':dt.feature_names_in_,\n",
    "    'importance':dt.feature_importances_\n",
    "})\n",
    "dt_fi.sort_values('importance', ascending=False)"
   ]
  },
  {
   "cell_type": "code",
   "execution_count": null,
   "id": "5683cd65",
   "metadata": {},
   "outputs": [
    {
     "data": {
      "application/vnd.microsoft.datawrangler.viewer.v0+json": {
       "columns": [
        {
         "name": "index",
         "rawType": "int64",
         "type": "integer"
        },
        {
         "name": "feature_name",
         "rawType": "object",
         "type": "string"
        },
        {
         "name": "lasso_wi",
         "rawType": "float64",
         "type": "float"
        },
        {
         "name": "importance",
         "rawType": "float64",
         "type": "float"
        }
       ],
       "ref": "151c7900-69d9-4b67-b9ef-3c20d801d625",
       "rows": [
        [
         "109",
         "Cu",
         "-0.0",
         "0.6445538337698846"
        ],
        [
         "73",
         "gmean_Valence",
         "0.0",
         "0.062502085559155"
        ],
        [
         "100",
         "Ca",
         "0.0",
         "0.04930667747581765"
        ],
        [
         "136",
         "Ba",
         "5.381109623967442",
         "0.03032445987061886"
        ],
        [
         "35",
         "entropy_Density",
         "-0.0",
         "0.011048441191222261"
        ],
        [
         "50",
         "wtd_std_ElectronAffinity",
         "-0.46256105956414906",
         "0.009913531814025567"
        ],
        [
         "39",
         "std_Density",
         "0.003782353581599859",
         "0.00969585589969633"
        ],
        [
         "16",
         "wtd_entropy_fie",
         "0.0",
         "0.009347193882853435"
        ],
        [
         "36",
         "wtd_entropy_Density",
         "0.0",
         "0.008358610480644357"
        ],
        [
         "139",
         "Pr",
         "-0.0",
         "0.007394949960075168"
        ],
        [
         "110",
         "Zn",
         "-0.0",
         "0.006145476610989464"
        ],
        [
         "106",
         "Fe",
         "0.0",
         "0.006027211829733221"
        ],
        [
         "80",
         "wtd_std_Valence",
         "-0.0",
         "0.005610339999387889"
        ],
        [
         "60",
         "wtd_std_FusionHeat",
         "-0.23264161640203837",
         "0.005418156209169457"
        ],
        [
         "72",
         "wtd_mean_Valence",
         "-0.0",
         "0.0051475470405759"
        ],
        [
         "74",
         "wtd_gmean_Valence",
         "0.0",
         "0.005003829136873006"
        ],
        [
         "88",
         "O",
         "0.2866626874556181",
         "0.004761111409875805"
        ],
        [
         "27",
         "range_atomic_radius",
         "0.09558844840025127",
         "0.004401151701355427"
        ],
        [
         "76",
         "wtd_entropy_Valence",
         "0.0",
         "0.004165342149251867"
        ],
        [
         "40",
         "wtd_std_Density",
         "-0.0015116599317448517",
         "0.004155530131394209"
        ],
        [
         "10",
         "wtd_std_atomic_mass",
         "-0.3968305168637616",
         "0.004076161874342427"
        ],
        [
         "62",
         "wtd_mean_ThermalConductivity",
         "0.47273806723803524",
         "0.004049398801681175"
        ],
        [
         "11",
         "mean_fie",
         "0.0651019387943906",
         "0.003711728157658741"
        ],
        [
         "31",
         "mean_Density",
         "-0.003562334717829703",
         "0.0035296229655344086"
        ],
        [
         "17",
         "range_fie",
         "0.09192668858339334",
         "0.0034454881731071935"
        ],
        [
         "20",
         "wtd_std_fie",
         "-0.01438002728380922",
         "0.0030669062861976354"
        ],
        [
         "14",
         "wtd_gmean_fie",
         "-0.06412845672246889",
         "0.0030567131900849356"
        ],
        [
         "28",
         "wtd_range_atomic_radius",
         "-0.10808877896981418",
         "0.0030290544773150098"
        ],
        [
         "34",
         "wtd_gmean_Density",
         "0.0014234508293636335",
         "0.002925022979827047"
        ],
        [
         "55",
         "entropy_FusionHeat",
         "0.0",
         "0.002885933881750194"
        ],
        [
         "30",
         "wtd_std_atomic_radius",
         "0.03173029441019085",
         "0.0028835524481429153"
        ],
        [
         "42",
         "wtd_mean_ElectronAffinity",
         "0.5793767951996949",
         "0.0026829247669214766"
        ],
        [
         "67",
         "range_ThermalConductivity",
         "-0.05976684109757216",
         "0.0026603071757928263"
        ],
        [
         "48",
         "wtd_range_ElectronAffinity",
         "-0.03485839738167025",
         "0.0026471816793035875"
        ],
        [
         "64",
         "wtd_gmean_ThermalConductivity",
         "-0.298426447720308",
         "0.002367181030868144"
        ],
        [
         "46",
         "wtd_entropy_ElectronAffinity",
         "-0.0",
         "0.0023379713988337667"
        ],
        [
         "92",
         "Mg",
         "0.0",
         "0.0022869347654589584"
        ],
        [
         "53",
         "gmean_FusionHeat",
         "0.0",
         "0.0022611532710602265"
        ],
        [
         "4",
         "wtd_gmean_atomic_mass",
         "-0.0291194722346756",
         "0.0022272243617050018"
        ],
        [
         "51",
         "mean_FusionHeat",
         "0.1327918442305013",
         "0.002172205670433452"
        ],
        [
         "66",
         "wtd_entropy_ThermalConductivity",
         "0.0",
         "0.0019695084429992493"
        ],
        [
         "70",
         "wtd_std_ThermalConductivity",
         "0.07546538908384309",
         "0.0019117603418936904"
        ],
        [
         "24",
         "wtd_gmean_atomic_radius",
         "-0.09042360583502722",
         "0.0019097673866475206"
        ],
        [
         "58",
         "wtd_range_FusionHeat",
         "0.17388584706190147",
         "0.0018702898683709132"
        ],
        [
         "29",
         "std_atomic_radius",
         "-0.1912312323046117",
         "0.0018356179774573686"
        ],
        [
         "2",
         "wtd_mean_atomic_mass",
         "-0.07354949252317691",
         "0.0017403633496908713"
        ],
        [
         "160",
         "Hg",
         "0.0",
         "0.0016013252196072857"
        ],
        [
         "6",
         "wtd_entropy_atomic_mass",
         "0.0",
         "0.0015428738496255131"
        ],
        [
         "22",
         "wtd_mean_atomic_radius",
         "0.34173984324294504",
         "0.0015150700507830977"
        ],
        [
         "9",
         "std_atomic_mass",
         "-0.0",
         "0.0014079719469565104"
        ]
       ],
       "shape": {
        "columns": 3,
        "rows": 167
       }
      },
      "text/html": [
       "<div>\n",
       "<style scoped>\n",
       "    .dataframe tbody tr th:only-of-type {\n",
       "        vertical-align: middle;\n",
       "    }\n",
       "\n",
       "    .dataframe tbody tr th {\n",
       "        vertical-align: top;\n",
       "    }\n",
       "\n",
       "    .dataframe thead th {\n",
       "        text-align: right;\n",
       "    }\n",
       "</style>\n",
       "<table border=\"1\" class=\"dataframe\">\n",
       "  <thead>\n",
       "    <tr style=\"text-align: right;\">\n",
       "      <th></th>\n",
       "      <th>feature_name</th>\n",
       "      <th>lasso_wi</th>\n",
       "      <th>importance</th>\n",
       "    </tr>\n",
       "  </thead>\n",
       "  <tbody>\n",
       "    <tr>\n",
       "      <th>109</th>\n",
       "      <td>Cu</td>\n",
       "      <td>-0.00000</td>\n",
       "      <td>0.644554</td>\n",
       "    </tr>\n",
       "    <tr>\n",
       "      <th>73</th>\n",
       "      <td>gmean_Valence</td>\n",
       "      <td>0.00000</td>\n",
       "      <td>0.062502</td>\n",
       "    </tr>\n",
       "    <tr>\n",
       "      <th>100</th>\n",
       "      <td>Ca</td>\n",
       "      <td>0.00000</td>\n",
       "      <td>0.049307</td>\n",
       "    </tr>\n",
       "    <tr>\n",
       "      <th>136</th>\n",
       "      <td>Ba</td>\n",
       "      <td>5.38111</td>\n",
       "      <td>0.030324</td>\n",
       "    </tr>\n",
       "    <tr>\n",
       "      <th>35</th>\n",
       "      <td>entropy_Density</td>\n",
       "      <td>-0.00000</td>\n",
       "      <td>0.011048</td>\n",
       "    </tr>\n",
       "    <tr>\n",
       "      <th>...</th>\n",
       "      <td>...</td>\n",
       "      <td>...</td>\n",
       "      <td>...</td>\n",
       "    </tr>\n",
       "    <tr>\n",
       "      <th>155</th>\n",
       "      <td>Re</td>\n",
       "      <td>-0.00000</td>\n",
       "      <td>0.000000</td>\n",
       "    </tr>\n",
       "    <tr>\n",
       "      <th>159</th>\n",
       "      <td>Au</td>\n",
       "      <td>-0.00000</td>\n",
       "      <td>0.000000</td>\n",
       "    </tr>\n",
       "    <tr>\n",
       "      <th>164</th>\n",
       "      <td>Po</td>\n",
       "      <td>0.00000</td>\n",
       "      <td>0.000000</td>\n",
       "    </tr>\n",
       "    <tr>\n",
       "      <th>165</th>\n",
       "      <td>At</td>\n",
       "      <td>0.00000</td>\n",
       "      <td>0.000000</td>\n",
       "    </tr>\n",
       "    <tr>\n",
       "      <th>166</th>\n",
       "      <td>Rn</td>\n",
       "      <td>0.00000</td>\n",
       "      <td>0.000000</td>\n",
       "    </tr>\n",
       "  </tbody>\n",
       "</table>\n",
       "<p>167 rows × 3 columns</p>\n",
       "</div>"
      ],
      "text/plain": [
       "        feature_name  lasso_wi  importance\n",
       "109               Cu  -0.00000    0.644554\n",
       "73     gmean_Valence   0.00000    0.062502\n",
       "100               Ca   0.00000    0.049307\n",
       "136               Ba   5.38111    0.030324\n",
       "35   entropy_Density  -0.00000    0.011048\n",
       "..               ...       ...         ...\n",
       "155               Re  -0.00000    0.000000\n",
       "159               Au  -0.00000    0.000000\n",
       "164               Po   0.00000    0.000000\n",
       "165               At   0.00000    0.000000\n",
       "166               Rn   0.00000    0.000000\n",
       "\n",
       "[167 rows x 3 columns]"
      ]
     },
     "execution_count": 108,
     "metadata": {},
     "output_type": "execute_result"
    }
   ],
   "source": [
    "dt_fi.merge(reg_coef, on='feature_name')[['feature_name', 'lasso_wi', 'importance']].sort_values('importance', ascending=False)"
   ]
  },
  {
   "cell_type": "markdown",
   "id": "522cdb95",
   "metadata": {},
   "source": [
    "## CatBoost"
   ]
  },
  {
   "cell_type": "code",
   "execution_count": null,
   "id": "702a2814",
   "metadata": {},
   "outputs": [
    {
     "data": {
      "text/plain": [
       "Index(['H', 'He', 'Li', 'Be', 'B', 'C', 'N', 'O', 'F', 'Ne', 'Na', 'Mg', 'Al',\n",
       "       'Si', 'P', 'S', 'Cl', 'Ar', 'K', 'Ca', 'Sc', 'Ti', 'V', 'Cr', 'Mn',\n",
       "       'Fe', 'Co', 'Ni', 'Cu', 'Zn', 'Ga', 'Ge', 'As', 'Se', 'Br', 'Kr', 'Rb',\n",
       "       'Sr', 'Y', 'Zr', 'Nb', 'Mo', 'Tc', 'Ru', 'Rh', 'Pd', 'Ag', 'Cd', 'In',\n",
       "       'Sn', 'Sb', 'Te', 'I', 'Xe', 'Cs', 'Ba', 'La', 'Ce', 'Pr', 'Nd', 'Pm',\n",
       "       'Sm', 'Eu', 'Gd', 'Tb', 'Dy', 'Ho', 'Er', 'Tm', 'Yb', 'Lu', 'Hf', 'Ta',\n",
       "       'W', 'Re', 'Os', 'Ir', 'Pt', 'Au', 'Hg', 'Tl', 'Pb', 'Bi', 'Po', 'At',\n",
       "       'Rn', 'material'],\n",
       "      dtype='object')"
      ]
     },
     "execution_count": 117,
     "metadata": {},
     "output_type": "execute_result"
    }
   ],
   "source": [
    "formula.columns"
   ]
  },
  {
   "cell_type": "code",
   "execution_count": null,
   "id": "a6a0506e",
   "metadata": {},
   "outputs": [
    {
     "data": {
      "application/vnd.jupyter.widget-view+json": {
       "model_id": "17bed80be4ef47288c74a3b5d8c36087",
       "version_major": 2,
       "version_minor": 0
      },
      "text/plain": [
       "MetricVisualizer(layout=Layout(align_self='stretch', height='500px'))"
      ]
     },
     "metadata": {},
     "output_type": "display_data"
    },
    {
     "name": "stdout",
     "output_type": "stream",
     "text": [
      "0:\tlearn: 34.3760575\ttotal: 62ms\tremaining: 2m 3s\n",
      "100:\tlearn: 31.9126940\ttotal: 6.36s\tremaining: 1m 59s\n",
      "200:\tlearn: 29.6982336\ttotal: 13.3s\tremaining: 1m 58s\n",
      "300:\tlearn: 27.7081825\ttotal: 20.8s\tremaining: 1m 57s\n",
      "400:\tlearn: 25.9213852\ttotal: 28.8s\tremaining: 1m 54s\n",
      "500:\tlearn: 24.3189647\ttotal: 36.8s\tremaining: 1m 50s\n",
      "600:\tlearn: 22.8834863\ttotal: 44.7s\tremaining: 1m 44s\n",
      "700:\tlearn: 21.6011583\ttotal: 52.9s\tremaining: 1m 37s\n",
      "800:\tlearn: 20.4580119\ttotal: 1m\tremaining: 1m 31s\n",
      "900:\tlearn: 19.4446676\ttotal: 1m 9s\tremaining: 1m 24s\n",
      "1000:\tlearn: 18.5328687\ttotal: 1m 17s\tremaining: 1m 17s\n",
      "1100:\tlearn: 17.7152136\ttotal: 1m 25s\tremaining: 1m 9s\n",
      "1200:\tlearn: 16.9894006\ttotal: 1m 33s\tremaining: 1m 2s\n",
      "1300:\tlearn: 16.3384500\ttotal: 1m 41s\tremaining: 54.5s\n",
      "1400:\tlearn: 15.7616084\ttotal: 1m 49s\tremaining: 46.7s\n",
      "1500:\tlearn: 15.2495345\ttotal: 1m 57s\tremaining: 38.9s\n",
      "1600:\tlearn: 14.7915556\ttotal: 2m 5s\tremaining: 31.2s\n",
      "1700:\tlearn: 14.3768002\ttotal: 2m 13s\tremaining: 23.4s\n",
      "1800:\tlearn: 14.0063804\ttotal: 2m 21s\tremaining: 15.6s\n",
      "1900:\tlearn: 13.6754230\ttotal: 2m 29s\tremaining: 7.79s\n",
      "1999:\tlearn: 13.3828563\ttotal: 2m 37s\tremaining: 0us\n"
     ]
    },
    {
     "data": {
      "text/plain": [
       "<catboost.core.CatBoostRegressor at 0x2f29efd5d50>"
      ]
     },
     "execution_count": 136,
     "metadata": {},
     "output_type": "execute_result"
    }
   ],
   "source": [
    "boost = CatBoostRegressor(\n",
    "    learning_rate=1e-3,\n",
    "    max_depth=10,\n",
    "    rsm=0.5,\n",
    "    n_estimators=2000,\n",
    "    verbose=100,\n",
    "    )\n",
    "boost.fit(train[X_col], train[y_col])"
   ]
  },
  {
   "cell_type": "code",
   "execution_count": null,
   "id": "5ae34a69",
   "metadata": {},
   "outputs": [
    {
     "data": {
      "application/vnd.microsoft.datawrangler.viewer.v0+json": {
       "columns": [
        {
         "name": "index",
         "rawType": "object",
         "type": "string"
        },
        {
         "name": "MSE",
         "rawType": "float64",
         "type": "float"
        },
        {
         "name": "RMSE",
         "rawType": "float64",
         "type": "float"
        },
        {
         "name": "MAE",
         "rawType": "float64",
         "type": "float"
        },
        {
         "name": "R2",
         "rawType": "float64",
         "type": "float"
        }
       ],
       "ref": "c0986673-c0d9-4586-8965-293c9a2449fe",
       "rows": [
        [
         "boost_train",
         "235.4546063741079",
         "15.344530177692242",
         "11.845179713481564",
         "0.801053112724264"
        ],
        [
         "boost_valid",
         "260.8296434191691",
         "16.150221156973952",
         "12.041365152800278",
         "0.7742699137866107"
        ],
        [
         "boost_test",
         "253.71907374906263",
         "15.928561571876559",
         "12.149096218811305",
         "0.7848832910410555"
        ]
       ],
       "shape": {
        "columns": 4,
        "rows": 3
       }
      },
      "text/html": [
       "<div>\n",
       "<style scoped>\n",
       "    .dataframe tbody tr th:only-of-type {\n",
       "        vertical-align: middle;\n",
       "    }\n",
       "\n",
       "    .dataframe tbody tr th {\n",
       "        vertical-align: top;\n",
       "    }\n",
       "\n",
       "    .dataframe thead th {\n",
       "        text-align: right;\n",
       "    }\n",
       "</style>\n",
       "<table border=\"1\" class=\"dataframe\">\n",
       "  <thead>\n",
       "    <tr style=\"text-align: right;\">\n",
       "      <th></th>\n",
       "      <th>MSE</th>\n",
       "      <th>RMSE</th>\n",
       "      <th>MAE</th>\n",
       "      <th>R2</th>\n",
       "    </tr>\n",
       "  </thead>\n",
       "  <tbody>\n",
       "    <tr>\n",
       "      <th>boost_train</th>\n",
       "      <td>235.454606</td>\n",
       "      <td>15.344530</td>\n",
       "      <td>11.845180</td>\n",
       "      <td>0.801053</td>\n",
       "    </tr>\n",
       "    <tr>\n",
       "      <th>boost_valid</th>\n",
       "      <td>260.829643</td>\n",
       "      <td>16.150221</td>\n",
       "      <td>12.041365</td>\n",
       "      <td>0.774270</td>\n",
       "    </tr>\n",
       "    <tr>\n",
       "      <th>boost_test</th>\n",
       "      <td>253.719074</td>\n",
       "      <td>15.928562</td>\n",
       "      <td>12.149096</td>\n",
       "      <td>0.784883</td>\n",
       "    </tr>\n",
       "  </tbody>\n",
       "</table>\n",
       "</div>"
      ],
      "text/plain": [
       "                    MSE       RMSE        MAE        R2\n",
       "boost_train  235.454606  15.344530  11.845180  0.801053\n",
       "boost_valid  260.829643  16.150221  12.041365  0.774270\n",
       "boost_test   253.719074  15.928562  12.149096  0.784883"
      ]
     },
     "execution_count": 128,
     "metadata": {},
     "output_type": "execute_result"
    }
   ],
   "source": [
    "cat_boost_metric = pd.concat([\n",
    "    get_metric(train[y_col], boost.predict(train[X_col])),\n",
    "    get_metric(valid[y_col], boost.predict(valid[X_col])),\n",
    "    get_metric(test[y_col], boost.predict(test[X_col])),\n",
    "])\n",
    "cat_boost_metric.index = ['boost_train', 'boost_valid', 'boost_test']\n",
    "cat_boost_metric"
   ]
  },
  {
   "cell_type": "code",
   "execution_count": null,
   "id": "c0604cb4",
   "metadata": {},
   "outputs": [
    {
     "data": {
      "image/png": "[encoded data removed]",
      "text/plain": [
       "<Figure size 640x480 with 2 Axes>"
      ]
     },
     "metadata": {},
     "output_type": "display_data"
    }
   ],
   "source": [
    "get_pred_plot(test_cat[y_col], boost.predict(test_cat[X_col]))"
   ]
  },
  {
   "cell_type": "code",
   "execution_count": null,
   "id": "6944f255",
   "metadata": {},
   "outputs": [
    {
     "data": {
      "application/vnd.microsoft.datawrangler.viewer.v0+json": {
       "columns": [
        {
         "name": "index",
         "rawType": "int64",
         "type": "integer"
        },
        {
         "name": "feature_name",
         "rawType": "object",
         "type": "string"
        },
        {
         "name": "importance",
         "rawType": "float64",
         "type": "float"
        }
       ],
       "ref": "a4ca9d06-da17-4308-b6cd-1b6a4f786898",
       "rows": [
        [
         "67",
         "range_ThermalConductivity",
         "15.53088541579822"
        ],
        [
         "27",
         "range_atomic_radius",
         "11.21900982006456"
        ],
        [
         "70",
         "wtd_std_ThermalConductivity",
         "6.451523499058831"
        ],
        [
         "72",
         "wtd_mean_Valence",
         "6.23393984985986"
        ],
        [
         "74",
         "wtd_gmean_Valence",
         "5.059872150108785"
        ],
        [
         "62",
         "wtd_mean_ThermalConductivity",
         "4.134164301175845"
        ],
        [
         "9",
         "std_atomic_mass",
         "3.9155074785177013"
        ],
        [
         "64",
         "wtd_gmean_ThermalConductivity",
         "3.8688368146566297"
        ],
        [
         "44",
         "wtd_gmean_ElectronAffinity",
         "3.2957523859228774"
        ],
        [
         "66",
         "wtd_entropy_ThermalConductivity",
         "3.017558523313155"
        ],
        [
         "50",
         "wtd_std_ElectronAffinity",
         "2.758765032361749"
        ],
        [
         "80",
         "wtd_std_Valence",
         "2.3597691100297187"
        ],
        [
         "76",
         "wtd_entropy_Valence",
         "2.2813672135573593"
        ],
        [
         "6",
         "wtd_entropy_atomic_mass",
         "1.8864465366547485"
        ],
        [
         "39",
         "std_Density",
         "1.781663955113851"
        ],
        [
         "17",
         "range_fie",
         "1.4710684555883333"
        ],
        [
         "48",
         "wtd_range_ElectronAffinity",
         "1.418060599373625"
        ],
        [
         "7",
         "range_atomic_mass",
         "1.3466718549313934"
        ],
        [
         "73",
         "gmean_Valence",
         "1.220971964416251"
        ],
        [
         "43",
         "gmean_ElectronAffinity",
         "1.0050899687541748"
        ],
        [
         "49",
         "std_ElectronAffinity",
         "0.9983985349918795"
        ],
        [
         "42",
         "wtd_mean_ElectronAffinity",
         "0.9649014400784922"
        ],
        [
         "47",
         "range_ElectronAffinity",
         "0.9227285078707818"
        ],
        [
         "69",
         "std_ThermalConductivity",
         "0.9041222112707721"
        ],
        [
         "16",
         "wtd_entropy_fie",
         "0.9030024986963242"
        ],
        [
         "68",
         "wtd_range_ThermalConductivity",
         "0.7383950013057039"
        ],
        [
         "61",
         "mean_ThermalConductivity",
         "0.7160617807516203"
        ],
        [
         "65",
         "entropy_ThermalConductivity",
         "0.7042565652179859"
        ],
        [
         "10",
         "wtd_std_atomic_mass",
         "0.6974347615220896"
        ],
        [
         "33",
         "gmean_Density",
         "0.5985474303963227"
        ],
        [
         "75",
         "entropy_Valence",
         "0.5625999932899767"
        ],
        [
         "37",
         "range_Density",
         "0.5342715707496297"
        ],
        [
         "26",
         "wtd_entropy_atomic_radius",
         "0.48387605411139706"
        ],
        [
         "78",
         "wtd_range_Valence",
         "0.4684407808274161"
        ],
        [
         "60",
         "wtd_std_FusionHeat",
         "0.44796699497986037"
        ],
        [
         "63",
         "gmean_ThermalConductivity",
         "0.42241466321968374"
        ],
        [
         "55",
         "entropy_FusionHeat",
         "0.41995356241930537"
        ],
        [
         "32",
         "wtd_mean_Density",
         "0.396363307734935"
        ],
        [
         "31",
         "mean_Density",
         "0.38704990774454207"
        ],
        [
         "71",
         "mean_Valence",
         "0.38126151697203225"
        ],
        [
         "34",
         "wtd_gmean_Density",
         "0.34528155296848134"
        ],
        [
         "40",
         "wtd_std_Density",
         "0.3391672641039515"
        ],
        [
         "22",
         "wtd_mean_atomic_radius",
         "0.2770070837783929"
        ],
        [
         "36",
         "wtd_entropy_Density",
         "0.27618161997597196"
        ],
        [
         "54",
         "wtd_gmean_FusionHeat",
         "0.24914390811671955"
        ],
        [
         "35",
         "entropy_Density",
         "0.24877366140654522"
        ],
        [
         "56",
         "wtd_entropy_FusionHeat",
         "0.24853454110169187"
        ],
        [
         "18",
         "wtd_range_fie",
         "0.24772577802768675"
        ],
        [
         "24",
         "wtd_gmean_atomic_radius",
         "0.24369349158400275"
        ],
        [
         "1",
         "mean_atomic_mass",
         "0.2280081373475472"
        ]
       ],
       "shape": {
        "columns": 2,
        "rows": 167
       }
      },
      "text/html": [
       "<div>\n",
       "<style scoped>\n",
       "    .dataframe tbody tr th:only-of-type {\n",
       "        vertical-align: middle;\n",
       "    }\n",
       "\n",
       "    .dataframe tbody tr th {\n",
       "        vertical-align: top;\n",
       "    }\n",
       "\n",
       "    .dataframe thead th {\n",
       "        text-align: right;\n",
       "    }\n",
       "</style>\n",
       "<table border=\"1\" class=\"dataframe\">\n",
       "  <thead>\n",
       "    <tr style=\"text-align: right;\">\n",
       "      <th></th>\n",
       "      <th>feature_name</th>\n",
       "      <th>importance</th>\n",
       "    </tr>\n",
       "  </thead>\n",
       "  <tbody>\n",
       "    <tr>\n",
       "      <th>67</th>\n",
       "      <td>range_ThermalConductivity</td>\n",
       "      <td>15.530885</td>\n",
       "    </tr>\n",
       "    <tr>\n",
       "      <th>27</th>\n",
       "      <td>range_atomic_radius</td>\n",
       "      <td>11.219010</td>\n",
       "    </tr>\n",
       "    <tr>\n",
       "      <th>70</th>\n",
       "      <td>wtd_std_ThermalConductivity</td>\n",
       "      <td>6.451523</td>\n",
       "    </tr>\n",
       "    <tr>\n",
       "      <th>72</th>\n",
       "      <td>wtd_mean_Valence</td>\n",
       "      <td>6.233940</td>\n",
       "    </tr>\n",
       "    <tr>\n",
       "      <th>74</th>\n",
       "      <td>wtd_gmean_Valence</td>\n",
       "      <td>5.059872</td>\n",
       "    </tr>\n",
       "    <tr>\n",
       "      <th>...</th>\n",
       "      <td>...</td>\n",
       "      <td>...</td>\n",
       "    </tr>\n",
       "    <tr>\n",
       "      <th>162</th>\n",
       "      <td>Pb</td>\n",
       "      <td>0.000000</td>\n",
       "    </tr>\n",
       "    <tr>\n",
       "      <th>163</th>\n",
       "      <td>Bi</td>\n",
       "      <td>0.000000</td>\n",
       "    </tr>\n",
       "    <tr>\n",
       "      <th>164</th>\n",
       "      <td>Po</td>\n",
       "      <td>0.000000</td>\n",
       "    </tr>\n",
       "    <tr>\n",
       "      <th>165</th>\n",
       "      <td>At</td>\n",
       "      <td>0.000000</td>\n",
       "    </tr>\n",
       "    <tr>\n",
       "      <th>166</th>\n",
       "      <td>Rn</td>\n",
       "      <td>0.000000</td>\n",
       "    </tr>\n",
       "  </tbody>\n",
       "</table>\n",
       "<p>167 rows × 2 columns</p>\n",
       "</div>"
      ],
      "text/plain": [
       "                    feature_name  importance\n",
       "67     range_ThermalConductivity   15.530885\n",
       "27           range_atomic_radius   11.219010\n",
       "70   wtd_std_ThermalConductivity    6.451523\n",
       "72              wtd_mean_Valence    6.233940\n",
       "74             wtd_gmean_Valence    5.059872\n",
       "..                           ...         ...\n",
       "162                           Pb    0.000000\n",
       "163                           Bi    0.000000\n",
       "164                           Po    0.000000\n",
       "165                           At    0.000000\n",
       "166                           Rn    0.000000\n",
       "\n",
       "[167 rows x 2 columns]"
      ]
     },
     "execution_count": 133,
     "metadata": {},
     "output_type": "execute_result"
    }
   ],
   "source": [
    "boost_fi = pd.DataFrame({\n",
    "    'feature_name':boost.feature_names_,\n",
    "    'importance':boost.feature_importances_\n",
    "})\n",
    "boost_fi.sort_values('importance', ascending=False)"
   ]
  }
 ],
 "metadata": {
  "kernelspec": {
   "display_name": "MathVenv (3.11.4)",
   "language": "python",
   "name": "python3"
  },
  "language_info": {
   "codemirror_mode": {
    "name": "ipython",
    "version": 3
   },
   "file_extension": ".py",
   "mimetype": "text/x-python",
   "name": "python",
   "nbconvert_exporter": "python",
   "pygments_lexer": "ipython3",
   "version": "3.11.4"
  }
 },
 "nbformat": 4,
 "nbformat_minor": 5
}
