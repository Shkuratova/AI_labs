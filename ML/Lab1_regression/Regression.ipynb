{
 "cells": [
  {
   "cell_type": "markdown",
   "id": "88a2fed7",
   "metadata": {},
   "source": [
    "# Import"
   ]
  },
  {
   "cell_type": "code",
   "execution_count": 2,
   "id": "0b08c040",
   "metadata": {},
   "outputs": [],
   "source": [
    "import pandas as pd\n",
    "import numpy as np \n",
    "import seaborn as sns \n",
    "import matplotlib.pyplot as plt \n",
    "from IPython.display import display"
   ]
  },
  {
   "cell_type": "code",
   "execution_count": 3,
   "id": "5baa26ed",
   "metadata": {},
   "outputs": [],
   "source": [
    "from sklearn.linear_model import LinearRegression, Lasso, Ridge\n",
    "from sklearn.tree import DecisionTreeRegressor\n",
    "from sklearn.ensemble import RandomForestRegressor\n",
    "from catboost import CatBoostRegressor\n",
    "\n",
    "from sklearn.metrics import mean_absolute_error, mean_squared_error, r2_score"
   ]
  },
  {
   "cell_type": "markdown",
   "id": "e7207d66",
   "metadata": {},
   "source": [
    "## Load Dataset\n",
    "Датасет взят с [Kaggle](https://www.kaggle.com/competitions/critical-temperature-of-superconductors/overview) (Задача с Samsung Innovation Campus Bootcamp)\n",
    "\n",
    "**Описание задачи:**\n",
    ">Явление сверхпроводимость одно из самых удивительных по своей природе, но объяснить его с классической точки зрения невозможно.\n",
    "Данное явление было открыто голландским физиком Хейке Камерлинг-Оннес в 1911 году.\n",
    "\n",
    ">Сверхпроводимость — свойство некоторых веществ и материалов, электрическое сопротивление которых при понижении температуры до определенного уровня падает до нуля. Сверхпроводимость возникает скачком при понижении температуры. Температура при которой возникает скачок называется критической температурой.\n",
    "\n",
    ">Несмотря на то, что сверхпроводимость была открыта больше века назад, многие её свойства плохо изучены, например, связь между сверхпроводимостью и химическими/структурными свойствами материалов.\n",
    "\n",
    ">Вам предлагается разработать алгоритмы машинного обучения, которые позволяют установить связь между химическим составом, различными свойствами сверхпроводниками и их критической температурой.\n"
   ]
  },
  {
   "cell_type": "code",
   "execution_count": 19,
   "id": "dd9c0907",
   "metadata": {},
   "outputs": [
    {
     "data": {
      "application/vnd.microsoft.datawrangler.viewer.v0+json": {
       "columns": [
        {
         "name": "index",
         "rawType": "int64",
         "type": "integer"
        },
        {
         "name": "number_of_elements",
         "rawType": "int64",
         "type": "integer"
        },
        {
         "name": "mean_atomic_mass",
         "rawType": "float64",
         "type": "float"
        },
        {
         "name": "wtd_mean_atomic_mass",
         "rawType": "float64",
         "type": "float"
        },
        {
         "name": "gmean_atomic_mass",
         "rawType": "float64",
         "type": "float"
        },
        {
         "name": "wtd_gmean_atomic_mass",
         "rawType": "float64",
         "type": "float"
        },
        {
         "name": "entropy_atomic_mass",
         "rawType": "float64",
         "type": "float"
        },
        {
         "name": "wtd_entropy_atomic_mass",
         "rawType": "float64",
         "type": "float"
        },
        {
         "name": "range_atomic_mass",
         "rawType": "float64",
         "type": "float"
        },
        {
         "name": "wtd_range_atomic_mass",
         "rawType": "float64",
         "type": "float"
        },
        {
         "name": "std_atomic_mass",
         "rawType": "float64",
         "type": "float"
        },
        {
         "name": "wtd_std_atomic_mass",
         "rawType": "float64",
         "type": "float"
        },
        {
         "name": "mean_fie",
         "rawType": "float64",
         "type": "float"
        },
        {
         "name": "wtd_mean_fie",
         "rawType": "float64",
         "type": "float"
        },
        {
         "name": "gmean_fie",
         "rawType": "float64",
         "type": "float"
        },
        {
         "name": "wtd_gmean_fie",
         "rawType": "float64",
         "type": "float"
        },
        {
         "name": "entropy_fie",
         "rawType": "float64",
         "type": "float"
        },
        {
         "name": "wtd_entropy_fie",
         "rawType": "float64",
         "type": "float"
        },
        {
         "name": "range_fie",
         "rawType": "float64",
         "type": "float"
        },
        {
         "name": "wtd_range_fie",
         "rawType": "float64",
         "type": "float"
        },
        {
         "name": "std_fie",
         "rawType": "float64",
         "type": "float"
        },
        {
         "name": "wtd_std_fie",
         "rawType": "float64",
         "type": "float"
        },
        {
         "name": "mean_atomic_radius",
         "rawType": "float64",
         "type": "float"
        },
        {
         "name": "wtd_mean_atomic_radius",
         "rawType": "float64",
         "type": "float"
        },
        {
         "name": "gmean_atomic_radius",
         "rawType": "float64",
         "type": "float"
        },
        {
         "name": "wtd_gmean_atomic_radius",
         "rawType": "float64",
         "type": "float"
        },
        {
         "name": "entropy_atomic_radius",
         "rawType": "float64",
         "type": "float"
        },
        {
         "name": "wtd_entropy_atomic_radius",
         "rawType": "float64",
         "type": "float"
        },
        {
         "name": "range_atomic_radius",
         "rawType": "int64",
         "type": "integer"
        },
        {
         "name": "wtd_range_atomic_radius",
         "rawType": "float64",
         "type": "float"
        },
        {
         "name": "std_atomic_radius",
         "rawType": "float64",
         "type": "float"
        },
        {
         "name": "wtd_std_atomic_radius",
         "rawType": "float64",
         "type": "float"
        },
        {
         "name": "mean_Density",
         "rawType": "float64",
         "type": "float"
        },
        {
         "name": "wtd_mean_Density",
         "rawType": "float64",
         "type": "float"
        },
        {
         "name": "gmean_Density",
         "rawType": "float64",
         "type": "float"
        },
        {
         "name": "wtd_gmean_Density",
         "rawType": "float64",
         "type": "float"
        },
        {
         "name": "entropy_Density",
         "rawType": "float64",
         "type": "float"
        },
        {
         "name": "wtd_entropy_Density",
         "rawType": "float64",
         "type": "float"
        },
        {
         "name": "range_Density",
         "rawType": "float64",
         "type": "float"
        },
        {
         "name": "wtd_range_Density",
         "rawType": "float64",
         "type": "float"
        },
        {
         "name": "std_Density",
         "rawType": "float64",
         "type": "float"
        },
        {
         "name": "wtd_std_Density",
         "rawType": "float64",
         "type": "float"
        },
        {
         "name": "mean_ElectronAffinity",
         "rawType": "float64",
         "type": "float"
        },
        {
         "name": "wtd_mean_ElectronAffinity",
         "rawType": "float64",
         "type": "float"
        },
        {
         "name": "gmean_ElectronAffinity",
         "rawType": "float64",
         "type": "float"
        },
        {
         "name": "wtd_gmean_ElectronAffinity",
         "rawType": "float64",
         "type": "float"
        },
        {
         "name": "entropy_ElectronAffinity",
         "rawType": "float64",
         "type": "float"
        },
        {
         "name": "wtd_entropy_ElectronAffinity",
         "rawType": "float64",
         "type": "float"
        },
        {
         "name": "range_ElectronAffinity",
         "rawType": "float64",
         "type": "float"
        },
        {
         "name": "wtd_range_ElectronAffinity",
         "rawType": "float64",
         "type": "float"
        },
        {
         "name": "std_ElectronAffinity",
         "rawType": "float64",
         "type": "float"
        },
        {
         "name": "wtd_std_ElectronAffinity",
         "rawType": "float64",
         "type": "float"
        },
        {
         "name": "mean_FusionHeat",
         "rawType": "float64",
         "type": "float"
        },
        {
         "name": "wtd_mean_FusionHeat",
         "rawType": "float64",
         "type": "float"
        },
        {
         "name": "gmean_FusionHeat",
         "rawType": "float64",
         "type": "float"
        },
        {
         "name": "wtd_gmean_FusionHeat",
         "rawType": "float64",
         "type": "float"
        },
        {
         "name": "entropy_FusionHeat",
         "rawType": "float64",
         "type": "float"
        },
        {
         "name": "wtd_entropy_FusionHeat",
         "rawType": "float64",
         "type": "float"
        },
        {
         "name": "range_FusionHeat",
         "rawType": "float64",
         "type": "float"
        },
        {
         "name": "wtd_range_FusionHeat",
         "rawType": "float64",
         "type": "float"
        },
        {
         "name": "std_FusionHeat",
         "rawType": "float64",
         "type": "float"
        },
        {
         "name": "wtd_std_FusionHeat",
         "rawType": "float64",
         "type": "float"
        },
        {
         "name": "mean_ThermalConductivity",
         "rawType": "float64",
         "type": "float"
        },
        {
         "name": "wtd_mean_ThermalConductivity",
         "rawType": "float64",
         "type": "float"
        },
        {
         "name": "gmean_ThermalConductivity",
         "rawType": "float64",
         "type": "float"
        },
        {
         "name": "wtd_gmean_ThermalConductivity",
         "rawType": "float64",
         "type": "float"
        },
        {
         "name": "entropy_ThermalConductivity",
         "rawType": "float64",
         "type": "float"
        },
        {
         "name": "wtd_entropy_ThermalConductivity",
         "rawType": "float64",
         "type": "float"
        },
        {
         "name": "range_ThermalConductivity",
         "rawType": "float64",
         "type": "float"
        },
        {
         "name": "wtd_range_ThermalConductivity",
         "rawType": "float64",
         "type": "float"
        },
        {
         "name": "std_ThermalConductivity",
         "rawType": "float64",
         "type": "float"
        },
        {
         "name": "wtd_std_ThermalConductivity",
         "rawType": "float64",
         "type": "float"
        },
        {
         "name": "mean_Valence",
         "rawType": "float64",
         "type": "float"
        },
        {
         "name": "wtd_mean_Valence",
         "rawType": "float64",
         "type": "float"
        },
        {
         "name": "gmean_Valence",
         "rawType": "float64",
         "type": "float"
        },
        {
         "name": "wtd_gmean_Valence",
         "rawType": "float64",
         "type": "float"
        },
        {
         "name": "entropy_Valence",
         "rawType": "float64",
         "type": "float"
        },
        {
         "name": "wtd_entropy_Valence",
         "rawType": "float64",
         "type": "float"
        },
        {
         "name": "range_Valence",
         "rawType": "int64",
         "type": "integer"
        },
        {
         "name": "wtd_range_Valence",
         "rawType": "float64",
         "type": "float"
        },
        {
         "name": "std_Valence",
         "rawType": "float64",
         "type": "float"
        },
        {
         "name": "wtd_std_Valence",
         "rawType": "float64",
         "type": "float"
        },
        {
         "name": "critical_temp",
         "rawType": "float64",
         "type": "float"
        },
        {
         "name": "H",
         "rawType": "float64",
         "type": "float"
        },
        {
         "name": "He",
         "rawType": "int64",
         "type": "integer"
        },
        {
         "name": "Li",
         "rawType": "float64",
         "type": "float"
        },
        {
         "name": "Be",
         "rawType": "float64",
         "type": "float"
        },
        {
         "name": "B",
         "rawType": "float64",
         "type": "float"
        },
        {
         "name": "C",
         "rawType": "float64",
         "type": "float"
        },
        {
         "name": "N",
         "rawType": "float64",
         "type": "float"
        },
        {
         "name": "O",
         "rawType": "float64",
         "type": "float"
        },
        {
         "name": "F",
         "rawType": "float64",
         "type": "float"
        },
        {
         "name": "Ne",
         "rawType": "int64",
         "type": "integer"
        },
        {
         "name": "Na",
         "rawType": "float64",
         "type": "float"
        },
        {
         "name": "Mg",
         "rawType": "float64",
         "type": "float"
        },
        {
         "name": "Al",
         "rawType": "float64",
         "type": "float"
        },
        {
         "name": "Si",
         "rawType": "float64",
         "type": "float"
        },
        {
         "name": "P",
         "rawType": "float64",
         "type": "float"
        },
        {
         "name": "S",
         "rawType": "float64",
         "type": "float"
        },
        {
         "name": "Cl",
         "rawType": "float64",
         "type": "float"
        },
        {
         "name": "Ar",
         "rawType": "int64",
         "type": "integer"
        },
        {
         "name": "K",
         "rawType": "float64",
         "type": "float"
        },
        {
         "name": "Ca",
         "rawType": "float64",
         "type": "float"
        },
        {
         "name": "Sc",
         "rawType": "float64",
         "type": "float"
        },
        {
         "name": "Ti",
         "rawType": "float64",
         "type": "float"
        },
        {
         "name": "V",
         "rawType": "float64",
         "type": "float"
        },
        {
         "name": "Cr",
         "rawType": "float64",
         "type": "float"
        },
        {
         "name": "Mn",
         "rawType": "float64",
         "type": "float"
        },
        {
         "name": "Fe",
         "rawType": "float64",
         "type": "float"
        },
        {
         "name": "Co",
         "rawType": "float64",
         "type": "float"
        },
        {
         "name": "Ni",
         "rawType": "float64",
         "type": "float"
        },
        {
         "name": "Cu",
         "rawType": "float64",
         "type": "float"
        },
        {
         "name": "Zn",
         "rawType": "float64",
         "type": "float"
        },
        {
         "name": "Ga",
         "rawType": "float64",
         "type": "float"
        },
        {
         "name": "Ge",
         "rawType": "float64",
         "type": "float"
        },
        {
         "name": "As",
         "rawType": "float64",
         "type": "float"
        },
        {
         "name": "Se",
         "rawType": "float64",
         "type": "float"
        },
        {
         "name": "Br",
         "rawType": "float64",
         "type": "float"
        },
        {
         "name": "Kr",
         "rawType": "int64",
         "type": "integer"
        },
        {
         "name": "Rb",
         "rawType": "float64",
         "type": "float"
        },
        {
         "name": "Sr",
         "rawType": "float64",
         "type": "float"
        },
        {
         "name": "Y",
         "rawType": "float64",
         "type": "float"
        },
        {
         "name": "Zr",
         "rawType": "float64",
         "type": "float"
        },
        {
         "name": "Nb",
         "rawType": "float64",
         "type": "float"
        },
        {
         "name": "Mo",
         "rawType": "float64",
         "type": "float"
        },
        {
         "name": "Tc",
         "rawType": "float64",
         "type": "float"
        },
        {
         "name": "Ru",
         "rawType": "float64",
         "type": "float"
        },
        {
         "name": "Rh",
         "rawType": "float64",
         "type": "float"
        },
        {
         "name": "Pd",
         "rawType": "float64",
         "type": "float"
        },
        {
         "name": "Ag",
         "rawType": "float64",
         "type": "float"
        },
        {
         "name": "Cd",
         "rawType": "float64",
         "type": "float"
        },
        {
         "name": "In",
         "rawType": "float64",
         "type": "float"
        },
        {
         "name": "Sn",
         "rawType": "float64",
         "type": "float"
        },
        {
         "name": "Sb",
         "rawType": "float64",
         "type": "float"
        },
        {
         "name": "Te",
         "rawType": "float64",
         "type": "float"
        },
        {
         "name": "I",
         "rawType": "float64",
         "type": "float"
        },
        {
         "name": "Xe",
         "rawType": "int64",
         "type": "integer"
        },
        {
         "name": "Cs",
         "rawType": "float64",
         "type": "float"
        },
        {
         "name": "Ba",
         "rawType": "float64",
         "type": "float"
        },
        {
         "name": "La",
         "rawType": "float64",
         "type": "float"
        },
        {
         "name": "Ce",
         "rawType": "float64",
         "type": "float"
        },
        {
         "name": "Pr",
         "rawType": "float64",
         "type": "float"
        },
        {
         "name": "Nd",
         "rawType": "float64",
         "type": "float"
        },
        {
         "name": "Pm",
         "rawType": "int64",
         "type": "integer"
        },
        {
         "name": "Sm",
         "rawType": "float64",
         "type": "float"
        },
        {
         "name": "Eu",
         "rawType": "float64",
         "type": "float"
        },
        {
         "name": "Gd",
         "rawType": "float64",
         "type": "float"
        },
        {
         "name": "Tb",
         "rawType": "float64",
         "type": "float"
        },
        {
         "name": "Dy",
         "rawType": "float64",
         "type": "float"
        },
        {
         "name": "Ho",
         "rawType": "float64",
         "type": "float"
        },
        {
         "name": "Er",
         "rawType": "float64",
         "type": "float"
        },
        {
         "name": "Tm",
         "rawType": "float64",
         "type": "float"
        },
        {
         "name": "Yb",
         "rawType": "float64",
         "type": "float"
        },
        {
         "name": "Lu",
         "rawType": "float64",
         "type": "float"
        },
        {
         "name": "Hf",
         "rawType": "float64",
         "type": "float"
        },
        {
         "name": "Ta",
         "rawType": "float64",
         "type": "float"
        },
        {
         "name": "W",
         "rawType": "float64",
         "type": "float"
        },
        {
         "name": "Re",
         "rawType": "float64",
         "type": "float"
        },
        {
         "name": "Os",
         "rawType": "float64",
         "type": "float"
        },
        {
         "name": "Ir",
         "rawType": "float64",
         "type": "float"
        },
        {
         "name": "Pt",
         "rawType": "float64",
         "type": "float"
        },
        {
         "name": "Au",
         "rawType": "float64",
         "type": "float"
        },
        {
         "name": "Hg",
         "rawType": "float64",
         "type": "float"
        },
        {
         "name": "Tl",
         "rawType": "float64",
         "type": "float"
        },
        {
         "name": "Pb",
         "rawType": "float64",
         "type": "float"
        },
        {
         "name": "Bi",
         "rawType": "float64",
         "type": "float"
        },
        {
         "name": "Po",
         "rawType": "int64",
         "type": "integer"
        },
        {
         "name": "At",
         "rawType": "int64",
         "type": "integer"
        },
        {
         "name": "Rn",
         "rawType": "int64",
         "type": "integer"
        },
        {
         "name": "material",
         "rawType": "object",
         "type": "string"
        }
       ],
       "ref": "e5ac503b-440c-4909-b681-23f776575881",
       "rows": [
        [
         "0",
         "4",
         "88.9444675",
         "57.8626922857143",
         "66.3615924315719",
         "36.1166119053847",
         "1.1817952393305",
         "1.06239554519617",
         "122.90607",
         "31.7949208571429",
         "51.9688277861034",
         "53.6225345301219",
         "775.425",
         "1010.26857142857",
         "718.15289995213",
         "938.016780052204",
         "1.30596703599158",
         "0.791487788469155",
         "810.6",
         "735.985714285714",
         "323.811807806633",
         "355.562966713294",
         "160.25",
         "105.514285714286",
         "136.126003095455",
         "84.528422716633",
         "1.25924397214289",
         "1.20703998701461",
         "205",
         "42.9142857142857",
         "75.2375404967494",
         "69.2355694829807",
         "4654.35725",
         "2961.50228571429",
         "724.953210852388",
         "53.5438109235142",
         "1.03312880053102",
         "0.814598190091683",
         "8958.571",
         "1579.58342857143",
         "3306.1628967555",
         "3572.59662370838",
         "81.8375",
         "111.727142857143",
         "60.1231785550982",
         "99.4146820543113",
         "1.15968659338134",
         "0.787381690763223",
         "127.05",
         "80.9871428571429",
         "51.4337118896741",
         "42.55839575195",
         "6.9055",
         "3.84685714285714",
         "3.47947484936327",
         "1.04098598567486",
         "1.08857534188499",
         "0.994998193254128",
         "12.878",
         "1.74457142857143",
         "4.59906411675245",
         "4.66691955388659",
         "107.756645",
         "61.0151885714286",
         "7.06248773046785",
         "0.62197948704754",
         "0.308147989812345",
         "0.262848266362233",
         "399.97342",
         "57.1276685714286",
         "168.854243757651",
         "138.51716251123",
         "2.25",
         "2.25714285714286",
         "2.21336383940064",
         "2.21978342968743",
         "1.36892236074022",
         "1.0662210317362",
         "1",
         "1.08571428571429",
         "0.433012701892219",
         "0.43705881545081",
         "29.0",
         "0.0",
         "0",
         "0.0",
         "0.0",
         "0.0",
         "0.0",
         "0.0",
         "4.0",
         "0.0",
         "0",
         "0.0",
         "0.0",
         "0.0",
         "0.0",
         "0.0",
         "0.0",
         "0.0",
         "0",
         "0.0",
         "0.0",
         "0.0",
         "0.0",
         "0.0",
         "0.0",
         "0.0",
         "0.0",
         "0.0",
         "0.0",
         "1.0",
         "0.0",
         "0.0",
         "0.0",
         "0.0",
         "0.0",
         "0.0",
         "0",
         "0.0",
         "0.0",
         "0.0",
         "0.0",
         "0.0",
         "0.0",
         "0.0",
         "0.0",
         "0.0",
         "0.0",
         "0.0",
         "0.0",
         "0.0",
         "0.0",
         "0.0",
         "0.0",
         "0.0",
         "0",
         "0.0",
         "0.2",
         "1.8",
         "0.0",
         "0.0",
         "0.0",
         "0",
         "0.0",
         "0.0",
         "0.0",
         "0.0",
         "0.0",
         "0.0",
         "0.0",
         "0.0",
         "0.0",
         "0.0",
         "0.0",
         "0.0",
         "0.0",
         "0.0",
         "0.0",
         "0.0",
         "0.0",
         "0.0",
         "0.0",
         "0.0",
         "0.0",
         "0.0",
         "0",
         "0",
         "0",
         "Ba0.2La1.8Cu1O4"
        ],
        [
         "1",
         "5",
         "92.729214",
         "58.5184161428571",
         "73.1327872225065",
         "36.3966020291995",
         "1.44930919335685",
         "1.05775512271911",
         "122.90607",
         "36.161939",
         "47.0946331703134",
         "53.9798696513451",
         "766.44",
         "1010.61285714286",
         "720.605510513725",
         "938.745412527433",
         "1.54414454326973",
         "0.807078214938731",
         "810.6",
         "743.164285714286",
         "290.183029138508",
         "354.963511171592",
         "161.2",
         "104.971428571429",
         "141.465214777999",
         "84.3701669575628",
         "1.50832754035259",
         "1.2041147982326",
         "205",
         "50.5714285714286",
         "67.321319060161",
         "68.0088169554027",
         "5821.4858",
         "3021.01657142857",
         "1237.09508033858",
         "54.0957182556368",
         "1.31444218462105",
         "0.914802177066343",
         "10488.571",
         "1667.38342857143",
         "3767.40317577062",
         "3632.64918471043",
         "90.89",
         "112.316428571429",
         "69.8333146094209",
         "101.166397739874",
         "1.42799655342352",
         "0.83866646563365",
         "127.05",
         "81.2078571428572",
         "49.4381674417651",
         "41.6676207979191",
         "7.7844",
         "3.79685714285714",
         "4.40379049753476",
         "1.03525111582814",
         "1.37497728009085",
         "1.07309384625263",
         "12.878",
         "1.59571428571429",
         "4.47336265464807",
         "4.60300005985449",
         "172.205316",
         "61.3723314285714",
         "16.0642278788044",
         "0.619734632330547",
         "0.847404163195705",
         "0.567706107876637",
         "429.97342",
         "51.4133828571429",
         "198.554600255545",
         "139.630922368904",
         "2.0",
         "2.25714285714286",
         "1.8881750225898",
         "2.21067940870655",
         "1.55711309805765",
         "1.04722136819323",
         "2",
         "1.12857142857143",
         "0.632455532033676",
         "0.468606270481621",
         "26.0",
         "0.0",
         "0",
         "0.0",
         "0.0",
         "0.0",
         "0.0",
         "0.0",
         "4.0",
         "0.0",
         "0",
         "0.0",
         "0.0",
         "0.0",
         "0.0",
         "0.0",
         "0.0",
         "0.0",
         "0",
         "0.0",
         "0.0",
         "0.0",
         "0.0",
         "0.0",
         "0.0",
         "0.0",
         "0.0",
         "0.0",
         "0.0",
         "0.9",
         "0.0",
         "0.0",
         "0.0",
         "0.0",
         "0.0",
         "0.0",
         "0",
         "0.0",
         "0.0",
         "0.0",
         "0.0",
         "0.0",
         "0.0",
         "0.0",
         "0.0",
         "0.0",
         "0.0",
         "0.1",
         "0.0",
         "0.0",
         "0.0",
         "0.0",
         "0.0",
         "0.0",
         "0",
         "0.0",
         "0.1",
         "1.9",
         "0.0",
         "0.0",
         "0.0",
         "0",
         "0.0",
         "0.0",
         "0.0",
         "0.0",
         "0.0",
         "0.0",
         "0.0",
         "0.0",
         "0.0",
         "0.0",
         "0.0",
         "0.0",
         "0.0",
         "0.0",
         "0.0",
         "0.0",
         "0.0",
         "0.0",
         "0.0",
         "0.0",
         "0.0",
         "0.0",
         "0",
         "0",
         "0",
         "Ba0.1La1.9Ag0.1Cu0.9O4"
        ],
        [
         "2",
         "4",
         "88.9444675",
         "57.8852418571429",
         "66.3615924315719",
         "36.1225090359592",
         "1.1817952393305",
         "0.975980464165498",
         "122.90607",
         "35.741099",
         "51.9688277861034",
         "53.6562677320982",
         "775.425",
         "1010.82",
         "718.15289995213",
         "939.009035665864",
         "1.30596703599158",
         "0.773620193146673",
         "810.6",
         "743.164285714286",
         "323.811807806633",
         "354.804182855034",
         "160.25",
         "104.685714285714",
         "136.126003095455",
         "84.214573243296",
         "1.25924397214289",
         "1.13254686280436",
         "205",
         "49.3142857142857",
         "75.2375404967494",
         "67.797712320685",
         "4654.35725",
         "2999.15942857143",
         "724.953210852388",
         "53.9740223651659",
         "1.03312880053102",
         "0.760305152674073",
         "8958.571",
         "1667.38342857143",
         "3306.1628967555",
         "3592.01928133231",
         "81.8375",
         "112.213571428571",
         "60.1231785550982",
         "101.082152388012",
         "1.15968659338134",
         "0.786006736025012",
         "127.05",
         "81.2078571428572",
         "51.4337118896741",
         "41.6398777971212",
         "6.9055",
         "3.82257142857143",
         "3.47947484936327",
         "1.03743942474191",
         "1.08857534188499",
         "0.927479442031317",
         "12.878",
         "1.75714285714286",
         "4.59906411675245",
         "4.64963546519334",
         "107.756645",
         "60.94376",
         "7.06248773046785",
         "0.619094682704274",
         "0.308147989812345",
         "0.250477444193951",
         "399.97342",
         "57.1276685714286",
         "168.854243757651",
         "138.54061273835",
         "2.25",
         "2.27142857142857",
         "2.21336383940064",
         "2.23267852196607",
         "1.36892236074022",
         "1.02917468729772",
         "1",
         "1.11428571428571",
         "0.433012701892219",
         "0.444696640464954",
         "19.0",
         "0.0",
         "0",
         "0.0",
         "0.0",
         "0.0",
         "0.0",
         "0.0",
         "4.0",
         "0.0",
         "0",
         "0.0",
         "0.0",
         "0.0",
         "0.0",
         "0.0",
         "0.0",
         "0.0",
         "0",
         "0.0",
         "0.0",
         "0.0",
         "0.0",
         "0.0",
         "0.0",
         "0.0",
         "0.0",
         "0.0",
         "0.0",
         "1.0",
         "0.0",
         "0.0",
         "0.0",
         "0.0",
         "0.0",
         "0.0",
         "0",
         "0.0",
         "0.0",
         "0.0",
         "0.0",
         "0.0",
         "0.0",
         "0.0",
         "0.0",
         "0.0",
         "0.0",
         "0.0",
         "0.0",
         "0.0",
         "0.0",
         "0.0",
         "0.0",
         "0.0",
         "0",
         "0.0",
         "0.1",
         "1.9",
         "0.0",
         "0.0",
         "0.0",
         "0",
         "0.0",
         "0.0",
         "0.0",
         "0.0",
         "0.0",
         "0.0",
         "0.0",
         "0.0",
         "0.0",
         "0.0",
         "0.0",
         "0.0",
         "0.0",
         "0.0",
         "0.0",
         "0.0",
         "0.0",
         "0.0",
         "0.0",
         "0.0",
         "0.0",
         "0.0",
         "0",
         "0",
         "0",
         "Ba0.1La1.9Cu1O4"
        ],
        [
         "3",
         "4",
         "88.9444675",
         "57.8739670714286",
         "66.3615924315719",
         "36.1195603503211",
         "1.1817952393305",
         "1.0222908923957",
         "122.90607",
         "33.7680099285714",
         "51.9688277861034",
         "53.63940496787",
         "775.425",
         "1010.54428571429",
         "718.15289995213",
         "938.512776724546",
         "1.30596703599158",
         "0.783206660361291",
         "810.6",
         "739.575",
         "323.811807806633",
         "355.183884421944",
         "160.25",
         "105.1",
         "136.126003095455",
         "84.371352045645",
         "1.25924397214289",
         "1.17303291789271",
         "205",
         "46.1142857142857",
         "75.2375404967494",
         "68.5216649785203",
         "4654.35725",
         "2980.33085714286",
         "724.953210852388",
         "53.7584862910218",
         "1.03312880053102",
         "0.788888532221461",
         "8958.571",
         "1623.48342857143",
         "3306.1628967555",
         "3582.37059664405",
         "81.8375",
         "111.970357142857",
         "60.1231785550982",
         "100.24495020209",
         "1.15968659338134",
         "0.786900489374915",
         "127.05",
         "81.0975",
         "51.4337118896741",
         "42.1023442240235",
         "6.9055",
         "3.83471428571429",
         "3.47947484936327",
         "1.03921119227177",
         "1.08857534188499",
         "0.96403104867923",
         "12.878",
         "1.74457142857143",
         "4.59906411675245",
         "4.6583013524026",
         "107.756645",
         "60.9794742857143",
         "7.06248773046785",
         "0.620535408483887",
         "0.308147989812345",
         "0.257045108326848",
         "399.97342",
         "57.1276685714286",
         "168.854243757651",
         "138.528892724768",
         "2.25",
         "2.26428571428571",
         "2.21336383940064",
         "2.2262216392083",
         "1.36892236074022",
         "1.04883427304761",
         "1",
         "1.1",
         "0.433012701892219",
         "0.440952123830019",
         "22.0",
         "0.0",
         "0",
         "0.0",
         "0.0",
         "0.0",
         "0.0",
         "0.0",
         "4.0",
         "0.0",
         "0",
         "0.0",
         "0.0",
         "0.0",
         "0.0",
         "0.0",
         "0.0",
         "0.0",
         "0",
         "0.0",
         "0.0",
         "0.0",
         "0.0",
         "0.0",
         "0.0",
         "0.0",
         "0.0",
         "0.0",
         "0.0",
         "1.0",
         "0.0",
         "0.0",
         "0.0",
         "0.0",
         "0.0",
         "0.0",
         "0",
         "0.0",
         "0.0",
         "0.0",
         "0.0",
         "0.0",
         "0.0",
         "0.0",
         "0.0",
         "0.0",
         "0.0",
         "0.0",
         "0.0",
         "0.0",
         "0.0",
         "0.0",
         "0.0",
         "0.0",
         "0",
         "0.0",
         "0.15",
         "1.85",
         "0.0",
         "0.0",
         "0.0",
         "0",
         "0.0",
         "0.0",
         "0.0",
         "0.0",
         "0.0",
         "0.0",
         "0.0",
         "0.0",
         "0.0",
         "0.0",
         "0.0",
         "0.0",
         "0.0",
         "0.0",
         "0.0",
         "0.0",
         "0.0",
         "0.0",
         "0.0",
         "0.0",
         "0.0",
         "0.0",
         "0",
         "0",
         "0",
         "Ba0.15La1.85Cu1O4"
        ],
        [
         "4",
         "4",
         "88.9444675",
         "57.8401427142857",
         "66.3615924315719",
         "36.1107157375382",
         "1.1817952393305",
         "1.12922373013507",
         "122.90607",
         "27.8487427142857",
         "51.9688277861034",
         "53.5887706050743",
         "775.425",
         "1009.71714285714",
         "718.15289995213",
         "937.025572960086",
         "1.30596703599158",
         "0.805229640813357",
         "810.6",
         "728.807142857143",
         "323.811807806633",
         "356.31928137213",
         "160.25",
         "106.342857142857",
         "136.126003095455",
         "84.8434418389765",
         "1.25924397214289",
         "1.26119371912948",
         "205",
         "36.5142857142857",
         "75.2375404967494",
         "70.6344484378724",
         "4654.35725",
         "2923.84514285714",
         "724.953210852388",
         "53.1170285737926",
         "1.03312880053102",
         "0.859810869291435",
         "8958.571",
         "1491.78342857143",
         "3306.1628967555",
         "3552.66866358032",
         "81.8375",
         "111.240714285714",
         "60.1231785550982",
         "97.7747186271033",
         "1.15968659338134",
         "0.787396182520174",
         "127.05",
         "80.7664285714286",
         "51.4337118896741",
         "43.4520592088545",
         "6.9055",
         "3.87114285714286",
         "3.47947484936327",
         "1.04454467078021",
         "1.08857534188499",
         "1.04496953590973",
         "12.878",
         "1.74457142857143",
         "4.59906411675245",
         "4.68401395107631",
         "107.756645",
         "61.0866171428571",
         "7.06248773046785",
         "0.624877733754845",
         "0.308147989812345",
         "0.272819938850094",
         "399.97342",
         "57.1276685714286",
         "168.854243757651",
         "138.493671473918",
         "2.25",
         "2.24285714285714",
         "2.21336383940064",
         "2.20696281450132",
         "1.36892236074022",
         "1.09605191790054",
         "1",
         "1.05714285714286",
         "0.433012701892219",
         "0.428809457708675",
         "23.0",
         "0.0",
         "0",
         "0.0",
         "0.0",
         "0.0",
         "0.0",
         "0.0",
         "4.0",
         "0.0",
         "0",
         "0.0",
         "0.0",
         "0.0",
         "0.0",
         "0.0",
         "0.0",
         "0.0",
         "0",
         "0.0",
         "0.0",
         "0.0",
         "0.0",
         "0.0",
         "0.0",
         "0.0",
         "0.0",
         "0.0",
         "0.0",
         "1.0",
         "0.0",
         "0.0",
         "0.0",
         "0.0",
         "0.0",
         "0.0",
         "0",
         "0.0",
         "0.0",
         "0.0",
         "0.0",
         "0.0",
         "0.0",
         "0.0",
         "0.0",
         "0.0",
         "0.0",
         "0.0",
         "0.0",
         "0.0",
         "0.0",
         "0.0",
         "0.0",
         "0.0",
         "0",
         "0.0",
         "0.3",
         "1.7",
         "0.0",
         "0.0",
         "0.0",
         "0",
         "0.0",
         "0.0",
         "0.0",
         "0.0",
         "0.0",
         "0.0",
         "0.0",
         "0.0",
         "0.0",
         "0.0",
         "0.0",
         "0.0",
         "0.0",
         "0.0",
         "0.0",
         "0.0",
         "0.0",
         "0.0",
         "0.0",
         "0.0",
         "0.0",
         "0.0",
         "0",
         "0",
         "0",
         "Ba0.3La1.7Cu1O4"
        ]
       ],
       "shape": {
        "columns": 169,
        "rows": 5
       }
      },
      "text/html": [
       "<div>\n",
       "<style scoped>\n",
       "    .dataframe tbody tr th:only-of-type {\n",
       "        vertical-align: middle;\n",
       "    }\n",
       "\n",
       "    .dataframe tbody tr th {\n",
       "        vertical-align: top;\n",
       "    }\n",
       "\n",
       "    .dataframe thead th {\n",
       "        text-align: right;\n",
       "    }\n",
       "</style>\n",
       "<table border=\"1\" class=\"dataframe\">\n",
       "  <thead>\n",
       "    <tr style=\"text-align: right;\">\n",
       "      <th></th>\n",
       "      <th>number_of_elements</th>\n",
       "      <th>mean_atomic_mass</th>\n",
       "      <th>wtd_mean_atomic_mass</th>\n",
       "      <th>gmean_atomic_mass</th>\n",
       "      <th>wtd_gmean_atomic_mass</th>\n",
       "      <th>entropy_atomic_mass</th>\n",
       "      <th>wtd_entropy_atomic_mass</th>\n",
       "      <th>range_atomic_mass</th>\n",
       "      <th>wtd_range_atomic_mass</th>\n",
       "      <th>std_atomic_mass</th>\n",
       "      <th>...</th>\n",
       "      <th>Pt</th>\n",
       "      <th>Au</th>\n",
       "      <th>Hg</th>\n",
       "      <th>Tl</th>\n",
       "      <th>Pb</th>\n",
       "      <th>Bi</th>\n",
       "      <th>Po</th>\n",
       "      <th>At</th>\n",
       "      <th>Rn</th>\n",
       "      <th>material</th>\n",
       "    </tr>\n",
       "  </thead>\n",
       "  <tbody>\n",
       "    <tr>\n",
       "      <th>0</th>\n",
       "      <td>4</td>\n",
       "      <td>88.944468</td>\n",
       "      <td>57.862692</td>\n",
       "      <td>66.361592</td>\n",
       "      <td>36.116612</td>\n",
       "      <td>1.181795</td>\n",
       "      <td>1.062396</td>\n",
       "      <td>122.90607</td>\n",
       "      <td>31.794921</td>\n",
       "      <td>51.968828</td>\n",
       "      <td>...</td>\n",
       "      <td>0.0</td>\n",
       "      <td>0.0</td>\n",
       "      <td>0.0</td>\n",
       "      <td>0.0</td>\n",
       "      <td>0.0</td>\n",
       "      <td>0.0</td>\n",
       "      <td>0</td>\n",
       "      <td>0</td>\n",
       "      <td>0</td>\n",
       "      <td>Ba0.2La1.8Cu1O4</td>\n",
       "    </tr>\n",
       "    <tr>\n",
       "      <th>1</th>\n",
       "      <td>5</td>\n",
       "      <td>92.729214</td>\n",
       "      <td>58.518416</td>\n",
       "      <td>73.132787</td>\n",
       "      <td>36.396602</td>\n",
       "      <td>1.449309</td>\n",
       "      <td>1.057755</td>\n",
       "      <td>122.90607</td>\n",
       "      <td>36.161939</td>\n",
       "      <td>47.094633</td>\n",
       "      <td>...</td>\n",
       "      <td>0.0</td>\n",
       "      <td>0.0</td>\n",
       "      <td>0.0</td>\n",
       "      <td>0.0</td>\n",
       "      <td>0.0</td>\n",
       "      <td>0.0</td>\n",
       "      <td>0</td>\n",
       "      <td>0</td>\n",
       "      <td>0</td>\n",
       "      <td>Ba0.1La1.9Ag0.1Cu0.9O4</td>\n",
       "    </tr>\n",
       "    <tr>\n",
       "      <th>2</th>\n",
       "      <td>4</td>\n",
       "      <td>88.944468</td>\n",
       "      <td>57.885242</td>\n",
       "      <td>66.361592</td>\n",
       "      <td>36.122509</td>\n",
       "      <td>1.181795</td>\n",
       "      <td>0.975980</td>\n",
       "      <td>122.90607</td>\n",
       "      <td>35.741099</td>\n",
       "      <td>51.968828</td>\n",
       "      <td>...</td>\n",
       "      <td>0.0</td>\n",
       "      <td>0.0</td>\n",
       "      <td>0.0</td>\n",
       "      <td>0.0</td>\n",
       "      <td>0.0</td>\n",
       "      <td>0.0</td>\n",
       "      <td>0</td>\n",
       "      <td>0</td>\n",
       "      <td>0</td>\n",
       "      <td>Ba0.1La1.9Cu1O4</td>\n",
       "    </tr>\n",
       "    <tr>\n",
       "      <th>3</th>\n",
       "      <td>4</td>\n",
       "      <td>88.944468</td>\n",
       "      <td>57.873967</td>\n",
       "      <td>66.361592</td>\n",
       "      <td>36.119560</td>\n",
       "      <td>1.181795</td>\n",
       "      <td>1.022291</td>\n",
       "      <td>122.90607</td>\n",
       "      <td>33.768010</td>\n",
       "      <td>51.968828</td>\n",
       "      <td>...</td>\n",
       "      <td>0.0</td>\n",
       "      <td>0.0</td>\n",
       "      <td>0.0</td>\n",
       "      <td>0.0</td>\n",
       "      <td>0.0</td>\n",
       "      <td>0.0</td>\n",
       "      <td>0</td>\n",
       "      <td>0</td>\n",
       "      <td>0</td>\n",
       "      <td>Ba0.15La1.85Cu1O4</td>\n",
       "    </tr>\n",
       "    <tr>\n",
       "      <th>4</th>\n",
       "      <td>4</td>\n",
       "      <td>88.944468</td>\n",
       "      <td>57.840143</td>\n",
       "      <td>66.361592</td>\n",
       "      <td>36.110716</td>\n",
       "      <td>1.181795</td>\n",
       "      <td>1.129224</td>\n",
       "      <td>122.90607</td>\n",
       "      <td>27.848743</td>\n",
       "      <td>51.968828</td>\n",
       "      <td>...</td>\n",
       "      <td>0.0</td>\n",
       "      <td>0.0</td>\n",
       "      <td>0.0</td>\n",
       "      <td>0.0</td>\n",
       "      <td>0.0</td>\n",
       "      <td>0.0</td>\n",
       "      <td>0</td>\n",
       "      <td>0</td>\n",
       "      <td>0</td>\n",
       "      <td>Ba0.3La1.7Cu1O4</td>\n",
       "    </tr>\n",
       "  </tbody>\n",
       "</table>\n",
       "<p>5 rows × 169 columns</p>\n",
       "</div>"
      ],
      "text/plain": [
       "   number_of_elements  mean_atomic_mass  wtd_mean_atomic_mass  \\\n",
       "0                   4         88.944468             57.862692   \n",
       "1                   5         92.729214             58.518416   \n",
       "2                   4         88.944468             57.885242   \n",
       "3                   4         88.944468             57.873967   \n",
       "4                   4         88.944468             57.840143   \n",
       "\n",
       "   gmean_atomic_mass  wtd_gmean_atomic_mass  entropy_atomic_mass  \\\n",
       "0          66.361592              36.116612             1.181795   \n",
       "1          73.132787              36.396602             1.449309   \n",
       "2          66.361592              36.122509             1.181795   \n",
       "3          66.361592              36.119560             1.181795   \n",
       "4          66.361592              36.110716             1.181795   \n",
       "\n",
       "   wtd_entropy_atomic_mass  range_atomic_mass  wtd_range_atomic_mass  \\\n",
       "0                 1.062396          122.90607              31.794921   \n",
       "1                 1.057755          122.90607              36.161939   \n",
       "2                 0.975980          122.90607              35.741099   \n",
       "3                 1.022291          122.90607              33.768010   \n",
       "4                 1.129224          122.90607              27.848743   \n",
       "\n",
       "   std_atomic_mass  ...   Pt   Au   Hg   Tl   Pb   Bi  Po  At  Rn  \\\n",
       "0        51.968828  ...  0.0  0.0  0.0  0.0  0.0  0.0   0   0   0   \n",
       "1        47.094633  ...  0.0  0.0  0.0  0.0  0.0  0.0   0   0   0   \n",
       "2        51.968828  ...  0.0  0.0  0.0  0.0  0.0  0.0   0   0   0   \n",
       "3        51.968828  ...  0.0  0.0  0.0  0.0  0.0  0.0   0   0   0   \n",
       "4        51.968828  ...  0.0  0.0  0.0  0.0  0.0  0.0   0   0   0   \n",
       "\n",
       "                 material  \n",
       "0         Ba0.2La1.8Cu1O4  \n",
       "1  Ba0.1La1.9Ag0.1Cu0.9O4  \n",
       "2         Ba0.1La1.9Cu1O4  \n",
       "3       Ba0.15La1.85Cu1O4  \n",
       "4         Ba0.3La1.7Cu1O4  \n",
       "\n",
       "[5 rows x 169 columns]"
      ]
     },
     "execution_count": 19,
     "metadata": {},
     "output_type": "execute_result"
    }
   ],
   "source": [
    "df = pd.read_csv('data/train.csv')\n",
    "formula = pd.read_csv('data/formula_train.csv')\n",
    "formula.drop(columns=['critical_temp'], inplace=True)\n",
    "df = pd.concat([df, formula], axis=1)\n",
    "df.head()"
   ]
  },
  {
   "cell_type": "code",
   "execution_count": 20,
   "id": "d3b5a38a",
   "metadata": {},
   "outputs": [
    {
     "data": {
      "text/plain": [
       "(87, 82)"
      ]
     },
     "execution_count": 20,
     "metadata": {},
     "output_type": "execute_result"
    }
   ],
   "source": [
    "formula.shape[1], df.shape[1] - formula.shape[1]"
   ]
  },
  {
   "cell_type": "markdown",
   "id": "37117ccb",
   "metadata": {},
   "source": [
    "## DA\n",
    "Тренировочный датасет состоит из двух csv файлов:\n",
    "- formula_train.csv\n",
    "    - содержит химическую формулу сверхпроводника: колонки являются названиями хим. эл-в, строки содержат кол-во атомов соответствюшего эл-та\n",
    "- train.csv \n",
    "    - содержит другие химические свойства сверхпроводника"
   ]
  },
  {
   "cell_type": "code",
   "execution_count": 21,
   "id": "0ef8c199",
   "metadata": {},
   "outputs": [
    {
     "data": {
      "text/plain": [
       "<Axes: >"
      ]
     },
     "execution_count": 21,
     "metadata": {},
     "output_type": "execute_result"
    },
    {
     "data": {
      "image/png": "[encoded data removed]",
      "text/plain": [
       "<Figure size 640x480 with 1 Axes>"
      ]
     },
     "metadata": {},
     "output_type": "display_data"
    }
   ],
   "source": [
    "df['critical_temp'].hist()"
   ]
  },
  {
   "cell_type": "markdown",
   "id": "131533ab",
   "metadata": {},
   "source": [
    "## Linear Model"
   ]
  },
  {
   "cell_type": "code",
   "execution_count": null,
   "id": "5b3de561",
   "metadata": {},
   "outputs": [],
   "source": [
    "class LinReg():\n"
   ]
  },
  {
   "cell_type": "markdown",
   "id": "974802bf",
   "metadata": {},
   "source": [
    "## Decision tree"
   ]
  },
  {
   "cell_type": "markdown",
   "id": "522cdb95",
   "metadata": {},
   "source": [
    "## CatBoost"
   ]
  }
 ],
 "metadata": {
  "kernelspec": {
   "display_name": "MathVenv (3.11.4)",
   "language": "python",
   "name": "python3"
  },
  "language_info": {
   "codemirror_mode": {
    "name": "ipython",
    "version": 3
   },
   "file_extension": ".py",
   "mimetype": "text/x-python",
   "name": "python",
   "nbconvert_exporter": "python",
   "pygments_lexer": "ipython3",
   "version": "3.11.4"
  }
 },
 "nbformat": 4,
 "nbformat_minor": 5
}
